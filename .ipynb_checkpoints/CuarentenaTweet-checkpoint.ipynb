{
 "cells": [
  {
   "cell_type": "markdown",
   "metadata": {},
   "source": [
    "# Imports."
   ]
  },
  {
   "cell_type": "code",
   "execution_count": 3,
   "metadata": {},
   "outputs": [],
   "source": [
    "import numpy as np\n",
    "import pandas as pd\n",
    "import GetOldTweets3 as got\n",
    "# from datetime import datetime, timedelta\n",
    "import datetime\n",
    "from textblob import TextBlob\n",
    "import re\n",
    "import unidecode\n",
    "# import plotly.express as px\n",
    "# import plotly.graph_objects as go"
   ]
  },
  {
   "cell_type": "markdown",
   "metadata": {},
   "source": [
    "# Tweet Collection."
   ]
  },
  {
   "cell_type": "markdown",
   "metadata": {},
   "source": [
    "Definimos una función para obtener los tweets de acuerdo a un criterio de búsqueda."
   ]
  },
  {
   "cell_type": "code",
   "execution_count": 48,
   "metadata": {},
   "outputs": [],
   "source": [
    "def get_tweets(list_criterios, fecha_inicio, fecha_final, idioma, ubicacion,radio, maximo=250):\n",
    "    tweets_total = []\n",
    "    for criterio in list_criterios:\n",
    "        tweetCriteria = got.manager.TweetCriteria().setQuerySearch(criterio).setSince(fecha_inicio).setUntil(fecha_final).setLang(idioma).setNear(ubicacion).setWithin(radio).setMaxTweets(maximo)\n",
    "        tweets_total = got.manager.TweetManager.getTweets(tweetCriteria)\n",
    "    return tweets_total"
   ]
  },
  {
   "cell_type": "markdown",
   "metadata": {},
   "source": [
    "Pasamos los criterios de búsqueda y obtenemos los tweets."
   ]
  },
  {
   "cell_type": "code",
   "execution_count": 63,
   "metadata": {},
   "outputs": [],
   "source": [
    "tweets = get_tweets([\"Alberto\",\"cuarentena\", \"alferdez\"],\"2020-03-19T21:00:38Z\",\"2020-03-20T04:00:38Z\",\"es\",\"Buenos Aires, Argentina\",\"500km\",maximo=300)"
   ]
  },
  {
   "cell_type": "code",
   "execution_count": 64,
   "metadata": {},
   "outputs": [],
   "source": [
    "def limpiar(tweet_texto):\n",
    "    text = ' '.join(re.sub(r\"(@)|([^0-9A-Za-z \\t])|(www.[^ ]+)|(https?://[^ ]+)\", \"\", unidecode.unidecode(tweet_texto.lower())).split())\n",
    "    return text"
   ]
  },
  {
   "cell_type": "code",
   "execution_count": 72,
   "metadata": {},
   "outputs": [],
   "source": [
    "def create_df(tweets):\n",
    "    datos = []\n",
    "    for t in tweets:\n",
    "        registro = {'username': t.username, 'tweet': limpiar(t.text), 'fecha': t.date}\n",
    "        datos.append(registro)\n",
    "    df = pd.DataFrame(data=datos)    \n",
    "    return df"
   ]
  },
  {
   "cell_type": "code",
   "execution_count": 77,
   "metadata": {},
   "outputs": [],
   "source": [
    "df = create_df(tweets)"
   ]
  },
  {
   "cell_type": "code",
   "execution_count": 74,
   "metadata": {},
   "outputs": [],
   "source": [
    "df.to_csv('Data/tweets_user.csv',index=False)"
   ]
  },
  {
   "cell_type": "code",
   "execution_count": 75,
   "metadata": {},
   "outputs": [],
   "source": [
    "df2 = pd.read_csv('Data/tweets_user.csv')"
   ]
  },
  {
   "cell_type": "code",
   "execution_count": 76,
   "metadata": {},
   "outputs": [
    {
     "data": {
      "text/html": [
       "<div>\n",
       "<style scoped>\n",
       "    .dataframe tbody tr th:only-of-type {\n",
       "        vertical-align: middle;\n",
       "    }\n",
       "\n",
       "    .dataframe tbody tr th {\n",
       "        vertical-align: top;\n",
       "    }\n",
       "\n",
       "    .dataframe thead th {\n",
       "        text-align: right;\n",
       "    }\n",
       "</style>\n",
       "<table border=\"1\" class=\"dataframe\">\n",
       "  <thead>\n",
       "    <tr style=\"text-align: right;\">\n",
       "      <th></th>\n",
       "      <th>username</th>\n",
       "      <th>tweet</th>\n",
       "      <th>fecha</th>\n",
       "    </tr>\n",
       "  </thead>\n",
       "  <tbody>\n",
       "    <tr>\n",
       "      <th>0</th>\n",
       "      <td>rodrigojaviera</td>\n",
       "      <td>la irresponsabilidad de los medios usando el c...</td>\n",
       "      <td>2020-03-19 23:57:22+00:00</td>\n",
       "    </tr>\n",
       "    <tr>\n",
       "      <th>1</th>\n",
       "      <td>NajashMercury</td>\n",
       "      <td>y alferdez dos horas de ansiedad a full</td>\n",
       "      <td>2020-03-19 23:56:10+00:00</td>\n",
       "    </tr>\n",
       "    <tr>\n",
       "      <th>2</th>\n",
       "      <td>Anin_Vito</td>\n",
       "      <td>ya que la tenes tan clara porque no te vas a v...</td>\n",
       "      <td>2020-03-19 23:55:23+00:00</td>\n",
       "    </tr>\n",
       "    <tr>\n",
       "      <th>3</th>\n",
       "      <td>dvorkinwalter</td>\n",
       "      <td>despojate del anuncio alferdez que quiero sabe...</td>\n",
       "      <td>2020-03-19 23:54:40+00:00</td>\n",
       "    </tr>\n",
       "    <tr>\n",
       "      <th>4</th>\n",
       "      <td>AlbornozFerOk</td>\n",
       "      <td>se fue antes de que se declare la emergencia y...</td>\n",
       "      <td>2020-03-19 23:54:30+00:00</td>\n",
       "    </tr>\n",
       "  </tbody>\n",
       "</table>\n",
       "</div>"
      ],
      "text/plain": [
       "         username                                              tweet  \\\n",
       "0  rodrigojaviera  la irresponsabilidad de los medios usando el c...   \n",
       "1   NajashMercury            y alferdez dos horas de ansiedad a full   \n",
       "2       Anin_Vito  ya que la tenes tan clara porque no te vas a v...   \n",
       "3   dvorkinwalter  despojate del anuncio alferdez que quiero sabe...   \n",
       "4   AlbornozFerOk  se fue antes de que se declare la emergencia y...   \n",
       "\n",
       "                       fecha  \n",
       "0  2020-03-19 23:57:22+00:00  \n",
       "1  2020-03-19 23:56:10+00:00  \n",
       "2  2020-03-19 23:55:23+00:00  \n",
       "3  2020-03-19 23:54:40+00:00  \n",
       "4  2020-03-19 23:54:30+00:00  "
      ]
     },
     "execution_count": 76,
     "metadata": {},
     "output_type": "execute_result"
    }
   ],
   "source": [
    "df2.head()"
   ]
  },
  {
   "cell_type": "code",
   "execution_count": 25,
   "metadata": {},
   "outputs": [
    {
     "name": "stdout",
     "output_type": "stream",
     "text": [
      "0\n",
      "1\n",
      "2\n",
      "3\n",
      "4\n",
      "5\n",
      "6\n",
      "7\n",
      "8\n",
      "9\n",
      "10\n",
      "0\n",
      "1\n",
      "2\n",
      "3\n",
      "4\n",
      "5\n",
      "6\n",
      "7\n",
      "8\n",
      "9\n",
      "10\n",
      "0\n",
      "1\n",
      "2\n",
      "3\n",
      "4\n",
      "5\n",
      "6\n",
      "7\n",
      "8\n",
      "9\n",
      "10\n",
      "0\n",
      "1\n",
      "2\n",
      "3\n",
      "4\n",
      "5\n",
      "6\n",
      "7\n",
      "8\n",
      "9\n",
      "10\n",
      "0\n",
      "1\n",
      "2\n",
      "3\n",
      "4\n",
      "5\n",
      "6\n",
      "7\n",
      "8\n",
      "9\n",
      "10\n",
      "0\n",
      "1\n",
      "2\n",
      "3\n",
      "4\n",
      "5\n",
      "6\n",
      "7\n",
      "8\n",
      "9\n",
      "10\n",
      "0\n",
      "1\n",
      "2\n",
      "3\n",
      "4\n",
      "5\n",
      "6\n",
      "7\n",
      "8\n",
      "9\n",
      "10\n",
      "0\n",
      "1\n",
      "2\n",
      "3\n",
      "4\n",
      "5\n",
      "6\n",
      "7\n",
      "8\n",
      "9\n",
      "10\n",
      "9.12 s ± 174 ms per loop (mean ± std. dev. of 7 runs, 1 loop each)\n"
     ]
    }
   ],
   "source": [
    "%%timeit\n",
    "\n",
    "fecha_inicio = [\"2020-03-19T21:00:38Z\",\"2020-03-29T20:00:38Z\",\"2020-04-10T20:00:38Z\",\"2020-04-25T18:00:38Z\",\"2020-05-08T20:00:38Z\",\"2020-05-23T20:00:38Z\",\"2020-06-04T20:00:38Z\",\"2020-06-26T18:00:38Z\",\"2020-07-17T14:00:38Z\",\"2020-07-31T14:00:38Z\",\"2020-08-14T14:00:38Z\"]\n",
    "fecha_final =  [\"2020-03-20T04:00:38Z\",\"2020-03-30T04:00:38Z\",\"2020-04-11T04:00:38Z\",\"2020-04-26T04:00:38Z\",\"2020-05-09T04:00:38Z\",\"2020-05-24T04:00:38Z\",\"2020-06-05T04:00:38Z\",\"2020-06-27T04:00:38Z\",\"2020-07-18T04:00:38Z\",\"2020-08-01T04:00:38Z\",\"2020-08-15T04:00:38Z\"]\n",
    "# anuncios = [\"primer\",\"segundo\",\"tercero\",\"cuarto\",\"quinto\",\"sexto\",\"septimo\",\"octavo\",\"noveno\",\"decimo\",\"onceavo\"]\n",
    "anuncios = [i+1 for i in range(len(fecha_inicio))]\n",
    "tweets = {}\n",
    "for i in range(len(fecha_inicio)):\n",
    "    tweets[\"Anuncio_\"+str(i+1)] = get_tweets([\"Alberto\",\"cuarentena\"],fecha_inicio[i],fecha_final[i],\"es\",\"Buenos Aires, Argentina\",\"500km\",maximo=5)\n",
    "#     tweets[\"Anuncio_\"+str(i+1)] = get_tweets(\"Alberto\",fecha_inicio[i],fecha_final[i],\"es\",\"Buenos Aires, Argentina\",\"500km\",maximo=170)\n",
    "#     tweets[\"Anuncio_\"+str(i+1)] += get_tweets(\"Cuarentena\",fecha_inicio[i],fecha_final[i],\"es\",\"Buenos Aires Argentina\",\"300km\",maximo=500)"
   ]
  },
  {
   "cell_type": "code",
   "execution_count": 29,
   "metadata": {},
   "outputs": [
    {
     "name": "stdout",
     "output_type": "stream",
     "text": [
      "21025\n",
      "32211\n",
      "24497\n",
      "26378\n",
      "33414\n"
     ]
    }
   ],
   "source": [
    "for i in tweets:\n",
    "    print(len(tweets[i]))"
   ]
  },
  {
   "cell_type": "code",
   "execution_count": 27,
   "metadata": {},
   "outputs": [
    {
     "ename": "ValueError",
     "evalue": "arrays must all be same length",
     "output_type": "error",
     "traceback": [
      "\u001b[1;31m---------------------------------------------------------------------------\u001b[0m",
      "\u001b[1;31mValueError\u001b[0m                                Traceback (most recent call last)",
      "\u001b[1;32m<ipython-input-27-a40268266bae>\u001b[0m in \u001b[0;36m<module>\u001b[1;34m\u001b[0m\n\u001b[1;32m----> 1\u001b[1;33m \u001b[0mdf_tweets\u001b[0m \u001b[1;33m=\u001b[0m \u001b[0mpd\u001b[0m\u001b[1;33m.\u001b[0m\u001b[0mDataFrame\u001b[0m\u001b[1;33m(\u001b[0m\u001b[0mdata\u001b[0m\u001b[1;33m=\u001b[0m\u001b[0mtweets\u001b[0m\u001b[1;33m)\u001b[0m\u001b[1;33m\u001b[0m\u001b[1;33m\u001b[0m\u001b[0m\n\u001b[0m",
      "\u001b[1;32m~\\anaconda3\\envs\\twitter\\lib\\site-packages\\pandas\\core\\frame.py\u001b[0m in \u001b[0;36m__init__\u001b[1;34m(self, data, index, columns, dtype, copy)\u001b[0m\n\u001b[0;32m    465\u001b[0m \u001b[1;33m\u001b[0m\u001b[0m\n\u001b[0;32m    466\u001b[0m         \u001b[1;32melif\u001b[0m \u001b[0misinstance\u001b[0m\u001b[1;33m(\u001b[0m\u001b[0mdata\u001b[0m\u001b[1;33m,\u001b[0m \u001b[0mdict\u001b[0m\u001b[1;33m)\u001b[0m\u001b[1;33m:\u001b[0m\u001b[1;33m\u001b[0m\u001b[1;33m\u001b[0m\u001b[0m\n\u001b[1;32m--> 467\u001b[1;33m             \u001b[0mmgr\u001b[0m \u001b[1;33m=\u001b[0m \u001b[0minit_dict\u001b[0m\u001b[1;33m(\u001b[0m\u001b[0mdata\u001b[0m\u001b[1;33m,\u001b[0m \u001b[0mindex\u001b[0m\u001b[1;33m,\u001b[0m \u001b[0mcolumns\u001b[0m\u001b[1;33m,\u001b[0m \u001b[0mdtype\u001b[0m\u001b[1;33m=\u001b[0m\u001b[0mdtype\u001b[0m\u001b[1;33m)\u001b[0m\u001b[1;33m\u001b[0m\u001b[1;33m\u001b[0m\u001b[0m\n\u001b[0m\u001b[0;32m    468\u001b[0m         \u001b[1;32melif\u001b[0m \u001b[0misinstance\u001b[0m\u001b[1;33m(\u001b[0m\u001b[0mdata\u001b[0m\u001b[1;33m,\u001b[0m \u001b[0mma\u001b[0m\u001b[1;33m.\u001b[0m\u001b[0mMaskedArray\u001b[0m\u001b[1;33m)\u001b[0m\u001b[1;33m:\u001b[0m\u001b[1;33m\u001b[0m\u001b[1;33m\u001b[0m\u001b[0m\n\u001b[0;32m    469\u001b[0m             \u001b[1;32mimport\u001b[0m \u001b[0mnumpy\u001b[0m\u001b[1;33m.\u001b[0m\u001b[0mma\u001b[0m\u001b[1;33m.\u001b[0m\u001b[0mmrecords\u001b[0m \u001b[1;32mas\u001b[0m \u001b[0mmrecords\u001b[0m\u001b[1;33m\u001b[0m\u001b[1;33m\u001b[0m\u001b[0m\n",
      "\u001b[1;32m~\\anaconda3\\envs\\twitter\\lib\\site-packages\\pandas\\core\\internals\\construction.py\u001b[0m in \u001b[0;36minit_dict\u001b[1;34m(data, index, columns, dtype)\u001b[0m\n\u001b[0;32m    281\u001b[0m             \u001b[0marr\u001b[0m \u001b[1;32mif\u001b[0m \u001b[1;32mnot\u001b[0m \u001b[0mis_datetime64tz_dtype\u001b[0m\u001b[1;33m(\u001b[0m\u001b[0marr\u001b[0m\u001b[1;33m)\u001b[0m \u001b[1;32melse\u001b[0m \u001b[0marr\u001b[0m\u001b[1;33m.\u001b[0m\u001b[0mcopy\u001b[0m\u001b[1;33m(\u001b[0m\u001b[1;33m)\u001b[0m \u001b[1;32mfor\u001b[0m \u001b[0marr\u001b[0m \u001b[1;32min\u001b[0m \u001b[0marrays\u001b[0m\u001b[1;33m\u001b[0m\u001b[1;33m\u001b[0m\u001b[0m\n\u001b[0;32m    282\u001b[0m         ]\n\u001b[1;32m--> 283\u001b[1;33m     \u001b[1;32mreturn\u001b[0m \u001b[0marrays_to_mgr\u001b[0m\u001b[1;33m(\u001b[0m\u001b[0marrays\u001b[0m\u001b[1;33m,\u001b[0m \u001b[0mdata_names\u001b[0m\u001b[1;33m,\u001b[0m \u001b[0mindex\u001b[0m\u001b[1;33m,\u001b[0m \u001b[0mcolumns\u001b[0m\u001b[1;33m,\u001b[0m \u001b[0mdtype\u001b[0m\u001b[1;33m=\u001b[0m\u001b[0mdtype\u001b[0m\u001b[1;33m)\u001b[0m\u001b[1;33m\u001b[0m\u001b[1;33m\u001b[0m\u001b[0m\n\u001b[0m\u001b[0;32m    284\u001b[0m \u001b[1;33m\u001b[0m\u001b[0m\n\u001b[0;32m    285\u001b[0m \u001b[1;33m\u001b[0m\u001b[0m\n",
      "\u001b[1;32m~\\anaconda3\\envs\\twitter\\lib\\site-packages\\pandas\\core\\internals\\construction.py\u001b[0m in \u001b[0;36marrays_to_mgr\u001b[1;34m(arrays, arr_names, index, columns, dtype, verify_integrity)\u001b[0m\n\u001b[0;32m     76\u001b[0m         \u001b[1;31m# figure out the index, if necessary\u001b[0m\u001b[1;33m\u001b[0m\u001b[1;33m\u001b[0m\u001b[1;33m\u001b[0m\u001b[0m\n\u001b[0;32m     77\u001b[0m         \u001b[1;32mif\u001b[0m \u001b[0mindex\u001b[0m \u001b[1;32mis\u001b[0m \u001b[1;32mNone\u001b[0m\u001b[1;33m:\u001b[0m\u001b[1;33m\u001b[0m\u001b[1;33m\u001b[0m\u001b[0m\n\u001b[1;32m---> 78\u001b[1;33m             \u001b[0mindex\u001b[0m \u001b[1;33m=\u001b[0m \u001b[0mextract_index\u001b[0m\u001b[1;33m(\u001b[0m\u001b[0marrays\u001b[0m\u001b[1;33m)\u001b[0m\u001b[1;33m\u001b[0m\u001b[1;33m\u001b[0m\u001b[0m\n\u001b[0m\u001b[0;32m     79\u001b[0m         \u001b[1;32melse\u001b[0m\u001b[1;33m:\u001b[0m\u001b[1;33m\u001b[0m\u001b[1;33m\u001b[0m\u001b[0m\n\u001b[0;32m     80\u001b[0m             \u001b[0mindex\u001b[0m \u001b[1;33m=\u001b[0m \u001b[0mensure_index\u001b[0m\u001b[1;33m(\u001b[0m\u001b[0mindex\u001b[0m\u001b[1;33m)\u001b[0m\u001b[1;33m\u001b[0m\u001b[1;33m\u001b[0m\u001b[0m\n",
      "\u001b[1;32m~\\anaconda3\\envs\\twitter\\lib\\site-packages\\pandas\\core\\internals\\construction.py\u001b[0m in \u001b[0;36mextract_index\u001b[1;34m(data)\u001b[0m\n\u001b[0;32m    395\u001b[0m             \u001b[0mlengths\u001b[0m \u001b[1;33m=\u001b[0m \u001b[0mlist\u001b[0m\u001b[1;33m(\u001b[0m\u001b[0mset\u001b[0m\u001b[1;33m(\u001b[0m\u001b[0mraw_lengths\u001b[0m\u001b[1;33m)\u001b[0m\u001b[1;33m)\u001b[0m\u001b[1;33m\u001b[0m\u001b[1;33m\u001b[0m\u001b[0m\n\u001b[0;32m    396\u001b[0m             \u001b[1;32mif\u001b[0m \u001b[0mlen\u001b[0m\u001b[1;33m(\u001b[0m\u001b[0mlengths\u001b[0m\u001b[1;33m)\u001b[0m \u001b[1;33m>\u001b[0m \u001b[1;36m1\u001b[0m\u001b[1;33m:\u001b[0m\u001b[1;33m\u001b[0m\u001b[1;33m\u001b[0m\u001b[0m\n\u001b[1;32m--> 397\u001b[1;33m                 \u001b[1;32mraise\u001b[0m \u001b[0mValueError\u001b[0m\u001b[1;33m(\u001b[0m\u001b[1;34m\"arrays must all be same length\"\u001b[0m\u001b[1;33m)\u001b[0m\u001b[1;33m\u001b[0m\u001b[1;33m\u001b[0m\u001b[0m\n\u001b[0m\u001b[0;32m    398\u001b[0m \u001b[1;33m\u001b[0m\u001b[0m\n\u001b[0;32m    399\u001b[0m             \u001b[1;32mif\u001b[0m \u001b[0mhave_dicts\u001b[0m\u001b[1;33m:\u001b[0m\u001b[1;33m\u001b[0m\u001b[1;33m\u001b[0m\u001b[0m\n",
      "\u001b[1;31mValueError\u001b[0m: arrays must all be same length"
     ]
    }
   ],
   "source": [
    "df_tweets = pd.DataFrame(data=tweets)"
   ]
  },
  {
   "cell_type": "code",
   "execution_count": null,
   "metadata": {},
   "outputs": [],
   "source": [
    "# df = pd.DataFrame(data=tweets)\n",
    "count_140 = 0\n",
    "count_280 = 0\n",
    "sospechoso = []\n",
    "for anuncios in tweets:\n",
    "    for index,text in enumerate(tweets[anuncios]):\n",
    "        if len(text) > 140:\n",
    "            count_140 += 1\n",
    "        if len(text) > 280:\n",
    "            count_280 += 1\n",
    "            sospechoso.append([index,anuncios])"
   ]
  },
  {
   "cell_type": "code",
   "execution_count": null,
   "metadata": {},
   "outputs": [],
   "source": [
    "count_280, sospechoso\n",
    "for i in sospechoso:\n",
    "    print(tweets[i[1]][i[0]],\"\\n\")\n",
    "    \n",
    "#     print(i)"
   ]
  },
  {
   "cell_type": "code",
   "execution_count": 163,
   "metadata": {},
   "outputs": [
    {
     "data": {
      "text/html": [
       "<div>\n",
       "<style scoped>\n",
       "    .dataframe tbody tr th:only-of-type {\n",
       "        vertical-align: middle;\n",
       "    }\n",
       "\n",
       "    .dataframe tbody tr th {\n",
       "        vertical-align: top;\n",
       "    }\n",
       "\n",
       "    .dataframe thead th {\n",
       "        text-align: right;\n",
       "    }\n",
       "</style>\n",
       "<table border=\"1\" class=\"dataframe\">\n",
       "  <thead>\n",
       "    <tr style=\"text-align: right;\">\n",
       "      <th></th>\n",
       "      <th>Anuncio_1</th>\n",
       "      <th>Anuncio_2</th>\n",
       "      <th>Anuncio_3</th>\n",
       "      <th>Anuncio_4</th>\n",
       "      <th>Anuncio_5</th>\n",
       "      <th>Anuncio_6</th>\n",
       "      <th>Anuncio_7</th>\n",
       "      <th>Anuncio_8</th>\n",
       "      <th>Anuncio_9</th>\n",
       "      <th>Anuncio_10</th>\n",
       "      <th>Anuncio_11</th>\n",
       "    </tr>\n",
       "  </thead>\n",
       "  <tbody>\n",
       "    <tr>\n",
       "      <th>59</th>\n",
       "      <td>Anda hacer cuarentena estupida</td>\n",
       "      <td>Paysandu no tiene ningún caso, porque no cerramos la ciudad con un domo como en los Simpson así nosotros dejamos de hacer cuarentena, cuando termine todo lo sacamos. Comuniqueme con Caraballo.</td>\n",
       "      <td>3 de 15 de pullover con ladrillos, y así termina pecho por hoy, vamoooss!! En Bojosian Gym en #Cuarentena</td>\n",
       "      <td>retomar la casa de las flores fue lo mejor q hice en esta cuarentena</td>\n",
       "      <td>La #cuarentena en Argentina be like... #NeverEndingStory (ingrese aquí a DustiBun cantando en Stranger Things)</td>\n",
       "      <td>Se extiende la cuarentena en Almirante Brown, Buenos Aires, Argentina https://www.instagram.com/p/CAjK2dpHw-mOACwP2qJ_8IKwvrMQNsIXmvTtOI0/?igshid=ug1naw5pw4o6</td>\n",
       "      <td>Cumpleaños en cuarentena, si antes quería morir no se imaginan ahora</td>\n",
       "      <td>Fui a Comprar Hoy Temprano y Había Dos Chupando Birra Del Pico Arreglando a Ver a Que Hora Pasaba Uno a Buscar Al Otro Para Ir a Un Asado, Así Como Ellos Hay Miles De Ignorantes y Después Se Quejan De La Cuarentena.</td>\n",
       "      <td>Los psicologos después de la cuarentena van a hacer guita a lo loco</td>\n",
       "      <td>Paraguay pasó de ser el ejemplo a tener el sistema saturado. Ese es el problema con el Coronavirus. Por eso estuvo bien la cuarentena que dió tiempo a mejorar el sistema. Si no, ya estaría saturado el sistema con las camas que había antes.</td>\n",
       "      <td>Por 2 horas me olvide de la cuarentena, problemas, todo. Senti esa felicidad que solo te produce ver buen fútbol, le agradezco a la vida que existe este deporte</td>\n",
       "    </tr>\n",
       "    <tr>\n",
       "      <th>30</th>\n",
       "      <td>15' de cuarentena. Envíale un saludo a la abuela.</td>\n",
       "      <td>Soy la única que no se maquilló ni un día todavía en la cuarentena?</td>\n",
       "      <td>Flaca se viene mi cumpleaños y va a ser en cuarentena así q más te vale</td>\n",
       "      <td>#Ahora 21.05 El presidente Alberto Fernández anuncia la extensión de la cuarentena hasta el 10 de mayo</td>\n",
       "      <td>La cuarentena sigue para todos menos para los que se quieran ir a manifestar al obelisco.</td>\n",
       "      <td>Lorna y Wiñazky pelean palmo a palmo quién es el mejor de la cuarentena</td>\n",
       "      <td>La cuarentena va a ser eterna!!!</td>\n",
       "      <td>yo salí 5 veces en toda la cuarentena y uds se quejan siendo que salen una vez por semana A COGER? pedazo de inútiles papo flojo</td>\n",
       "      <td>Es que si no hubiera sido por la cuerentena VOS O YO ESTARIAMOS LAMENTANDO UNA MUERTE. PORQUE ESTARIA COLAPSADISIMO. agradezco que esto no se fue por las nubes y que se controlo y AGRADEZCO QUE LA CUARENTENA SE HAYA EXTENDIDO. Uno no lo piensa así hasta que te pasa.</td>\n",
       "      <td>Decís que sí? Sí, que se les fue de la mano. La cuarentena no existe más, hay que estar acorde a la situación y ya está...</td>\n",
       "      <td>Mamá nací para ser feliz</td>\n",
       "    </tr>\n",
       "    <tr>\n",
       "      <th>40</th>\n",
       "      <td>Dr. ZIN. Por favor, si tiene Ud. acceso, podría pasarme el protocolo del M. de Salud sobre la cuarentena en lo que respecta a viajeros y los familiares que NO viajamos?</td>\n",
       "      <td>Saben quién no la pone nunca más después de la cuarentena y los vídeos bailando como Peter la anguila, no?</td>\n",
       "      <td>Cuarentena a full !!!</td>\n",
       "      <td>Si seguimos así paso mí cumpleaños en cuarentena aprox (soy escorpiana) JAJAJA</td>\n",
       "      <td>Beto querido, date cuenta que ya casi nadie respeta la cuarentena. Te enamoraste de la cuarentena @alferdez #CoronavirusArgentina</td>\n",
       "      <td>Bueno la cuarentena tal vez termina el día de mi cumpleaños así que ya saben</td>\n",
       "      <td>Los que no cumplieron la cuarentena, estén acá en colon o vengan de Buenos Aires. De los dos lados son egoístas</td>\n",
       "      <td>No a la cuarentena</td>\n",
       "      <td>Levanten la cuarentena que este año solo me hice un tatuaje</td>\n",
       "      <td>Prefiero pasar por ahi 5 veces por dia y sentir todo ese aroma a cloaca que seguir en cuarentena</td>\n",
       "      <td>Todavía no me puse en pedo por haberme recibido. Cuarentena, qué hiciste</td>\n",
       "    </tr>\n",
       "    <tr>\n",
       "      <th>4</th>\n",
       "      <td>La última vez que esperé tanto una conferencia, el tipo llevó a MAXI MEZA a un mundial. Alberto, no podés hacerlo peor.</td>\n",
       "      <td>Cuándo arranca? Te estamos esperando Alberto.</td>\n",
       "      <td>- Porque tan elegante Homero? - En instantes habla Alberto</td>\n",
       "      <td>En Australia ya habló Alberto.</td>\n",
       "      <td>Apoyo la decisión de Alberto mientras entro en crisis</td>\n",
       "      <td>Paren a Axel q le esta llenando de microgotas la cara a Alberto,que ya no tiene aire y respira con dificultad #BarbijoPorFavor</td>\n",
       "      <td>Qué le prometieron a Larreta? Desde acá se le ve la caca de Ginés y Alberto en la boca...</td>\n",
       "      <td>por culpa de larreta vamos a sumar diez o quince mil casos más. ALBERTO corrala con la dulzura y decí las cosas de manera más firme tu discurso le da letra a los anticuarentena.</td>\n",
       "      <td>Che Juan avísale a Alberto que siguen quemando las islas de entre ríos y nos va a terminar matando el humo acá en rosario y toda la provincia</td>\n",
       "      <td>Esto. Y agregar que Alberto es uno más. Tenemos toda una casta de seres similares ocupando lugares de poder por la ley o por la fuerza hace décadas. Y las alternativas pueden haber tomado decisiones mejores o peores, pero no son esto. No son \"todos los mismo\".</td>\n",
       "      <td>Alberto dice que no hay cuarentena ME HUBIESE AVISADO ANTES, digo, hace CINCO MESES QUE NO VEO A MI NOVIO la re concha de su madre</td>\n",
       "    </tr>\n",
       "    <tr>\n",
       "      <th>42</th>\n",
       "      <td>Nunca no son chantas ventajeros. Sabés las ganas que tenía de pasar la cuarentena en el campo, y acá estoy, en un departamentito, con ni familia, cumpliendo con mi deber con el prójimo.</td>\n",
       "      <td>Quisiera yo una cuarentena rodeada de cerezos.</td>\n",
       "      <td>Andrada no respetó la cuarentena y así le fue!!!</td>\n",
       "      <td>Ya empezó a hablar #ElPeorPresidenteDeLaHistoria? Ya dijo lo de siempre? Hasta el 10 de mayo esta etapa de la cuarentena eterna?. Otra vez sopa?</td>\n",
       "      <td>No Migue tenés q hacer cuarentena</td>\n",
       "      <td>Si sos del lado de la vida Wiñazki y te quejas de la cuarentena mas larga del mundo porque a tu flia la ves por WhatsApp...imagínate cuanto peor debe ser no poder ver a tus viejos internados, hacerles un velorio y no verlos nunca más...no seas como Wiñazki, pensá y #QuedateEnCasa</td>\n",
       "      <td>Sr presidente @alferdez hasta el 28 de junio se extiende la cuarentena?? Dígame ud como sobrevivir este mes sin sueldo? Mí marido se queda sin trabajo..estamos desesperados!</td>\n",
       "      <td>Diseño de tu plan de entrenamiento especifico durante el receso de la cuarentena Diseño..seguimiento y desarrollo de tu plan de alimentación y/o suplementacion durante el receso de la… https://www.instagram.com/p/CB6s76shzoB/?igshid=1x1w6wxeotpq9</td>\n",
       "      <td>Dora la exportadroga en Cuarentena https://www.instagram.com/p/CCwxktdgmmx/?igshid=1c52x26zpxa79</td>\n",
       "      <td>Totalmente de acuerdo , la única solución que le encuentra a todo es extender la cuarentena</td>\n",
       "      <td>Cuarenta cuarenta cuarenta cuarenta cuarenta cuarentena #ExaBFF #ExaARMY @BTS_twt</td>\n",
       "    </tr>\n",
       "  </tbody>\n",
       "</table>\n",
       "</div>"
      ],
      "text/plain": [
       "                                                                                                                                                                                     Anuncio_1  \\\n",
       "59                                                                                                                                                              Anda hacer cuarentena estupida   \n",
       "30                                                                                                                                          15' de cuarentena. Envíale un saludo a la abuela.    \n",
       "40                    Dr. ZIN. Por favor, si tiene Ud. acceso, podría pasarme el protocolo del M. de Salud sobre la cuarentena en lo que respecta a viajeros y los familiares que NO viajamos?   \n",
       "4                                                                      La última vez que esperé tanto una conferencia, el tipo llevó a MAXI MEZA a un mundial. Alberto, no podés hacerlo peor.   \n",
       "42  Nunca no son chantas ventajeros. Sabés las ganas que tenía de pasar la cuarentena en el campo, y acá estoy, en un departamentito, con ni familia, cumpliendo con mi deber con el prójimo.    \n",
       "\n",
       "                                                                                                                                                                                           Anuncio_2  \\\n",
       "59  Paysandu no tiene ningún caso, porque no cerramos la ciudad con un domo como en los Simpson así nosotros dejamos de hacer cuarentena, cuando termine todo lo sacamos. Comuniqueme con Caraballo.   \n",
       "30                                                                                                                               Soy la única que no se maquilló ni un día todavía en la cuarentena?   \n",
       "40                                                                                       Saben quién no la pone nunca más después de la cuarentena y los vídeos bailando como Peter la anguila, no?    \n",
       "4                                                                                                                                                      Cuándo arranca? Te estamos esperando Alberto.   \n",
       "42                                                                                                                                                    Quisiera yo una cuarentena rodeada de cerezos.   \n",
       "\n",
       "                                                                                                     Anuncio_3  \\\n",
       "59  3 de 15 de pullover con ladrillos, y así termina pecho por hoy, vamoooss!! En Bojosian Gym en #Cuarentena    \n",
       "30                                     Flaca se viene mi cumpleaños y va a ser en cuarentena así q más te vale   \n",
       "40                                                                                      Cuarentena a full !!!    \n",
       "4                                                  - Porque tan elegante Homero? - En instantes habla Alberto    \n",
       "42                                                            Andrada no respetó la cuarentena y así le fue!!!   \n",
       "\n",
       "                                                                                                                                           Anuncio_4  \\\n",
       "59                                                                              retomar la casa de las flores fue lo mejor q hice en esta cuarentena   \n",
       "30                                            #Ahora 21.05 El presidente Alberto Fernández anuncia la extensión de la cuarentena hasta el 10 de mayo   \n",
       "40                                                                    Si seguimos así paso mí cumpleaños en cuarentena aprox (soy escorpiana) JAJAJA   \n",
       "4                                                                                                                     En Australia ya habló Alberto.   \n",
       "42  Ya empezó a hablar #ElPeorPresidenteDeLaHistoria? Ya dijo lo de siempre? Hasta el 10 de mayo esta etapa de la cuarentena eterna?. Otra vez sopa?   \n",
       "\n",
       "                                                                                                                            Anuncio_5  \\\n",
       "59                     La #cuarentena en Argentina be like... #NeverEndingStory (ingrese aquí a DustiBun cantando en Stranger Things)   \n",
       "30                                          La cuarentena sigue para todos menos para los que se quieran ir a manifestar al obelisco.   \n",
       "40  Beto querido, date cuenta que ya casi nadie respeta la cuarentena. Te enamoraste de la cuarentena @alferdez #CoronavirusArgentina   \n",
       "4                                                                               Apoyo la decisión de Alberto mientras entro en crisis   \n",
       "42                                                                                                  No Migue tenés q hacer cuarentena   \n",
       "\n",
       "                                                                                                                                                                                                                                                                                   Anuncio_6  \\\n",
       "59                                                                                                                            Se extiende la cuarentena en Almirante Brown, Buenos Aires, Argentina https://www.instagram.com/p/CAjK2dpHw-mOACwP2qJ_8IKwvrMQNsIXmvTtOI0/?igshid=ug1naw5pw4o6   \n",
       "30                                                                                                                                                                                                                  Lorna y Wiñazky pelean palmo a palmo quién es el mejor de la cuarentena    \n",
       "40                                                                                                                                                                                                              Bueno la cuarentena tal vez termina el día de mi cumpleaños así que ya saben   \n",
       "4                                                                                                                                                             Paren a Axel q le esta llenando de microgotas la cara a Alberto,que ya no tiene aire y respira con dificultad #BarbijoPorFavor   \n",
       "42  Si sos del lado de la vida Wiñazki y te quejas de la cuarentena mas larga del mundo porque a tu flia la ves por WhatsApp...imagínate cuanto peor debe ser no poder ver a tus viejos internados, hacerles un velorio y no verlos nunca más...no seas como Wiñazki, pensá y #QuedateEnCasa   \n",
       "\n",
       "                                                                                                                                                                         Anuncio_7  \\\n",
       "59                                                                                                            Cumpleaños en cuarentena, si antes quería morir no se imaginan ahora   \n",
       "30                                                                                                                                                La cuarentena va a ser eterna!!!   \n",
       "40                                                                 Los que no cumplieron la cuarentena, estén acá en colon o vengan de Buenos Aires. De los dos lados son egoístas   \n",
       "4                                                                                        Qué le prometieron a Larreta? Desde acá se le ve la caca de Ginés y Alberto en la boca...   \n",
       "42  Sr presidente @alferdez hasta el 28 de junio se extiende la cuarentena?? Dígame ud como sobrevivir este mes sin sueldo? Mí marido se queda sin trabajo..estamos desesperados!    \n",
       "\n",
       "                                                                                                                                                                                                                                                 Anuncio_8  \\\n",
       "59                                 Fui a Comprar Hoy Temprano y Había Dos Chupando Birra Del Pico Arreglando a Ver a Que Hora Pasaba Uno a Buscar Al Otro Para Ir a Un Asado, Así Como Ellos Hay Miles De Ignorantes y Después Se Quejan De La Cuarentena.   \n",
       "30                                                                                                                        yo salí 5 veces en toda la cuarentena y uds se quejan siendo que salen una vez por semana A COGER? pedazo de inútiles papo flojo   \n",
       "40                                                                                                                                                                                                                                     No a la cuarentena    \n",
       "4                                                                        por culpa de larreta vamos a sumar diez o quince mil casos más. ALBERTO corrala con la dulzura y decí las cosas de manera más firme tu discurso le da letra a los anticuarentena.   \n",
       "42  Diseño de tu plan de entrenamiento especifico durante el receso de la cuarentena Diseño..seguimiento y desarrollo de tu plan de alimentación y/o suplementacion durante el receso de la… https://www.instagram.com/p/CB6s76shzoB/?igshid=1x1w6wxeotpq9   \n",
       "\n",
       "                                                                                                                                                                                                                                                                     Anuncio_9  \\\n",
       "59                                                                                                                                                                                                         Los psicologos después de la cuarentena van a hacer guita a lo loco   \n",
       "30  Es que si no hubiera sido por la cuerentena VOS O YO ESTARIAMOS LAMENTANDO UNA MUERTE. PORQUE ESTARIA COLAPSADISIMO. agradezco que esto no se fue por las nubes y que se controlo y AGRADEZCO QUE LA CUARENTENA SE HAYA EXTENDIDO. Uno no lo piensa así hasta que te pasa.   \n",
       "40                                                                                                                                                                                                                Levanten la cuarentena que este año solo me hice un tatuaje    \n",
       "4                                                                                                                                Che Juan avísale a Alberto que siguen quemando las islas de entre ríos y nos va a terminar matando el humo acá en rosario y toda la provincia   \n",
       "42                                                                                                                                                                            Dora la exportadroga en Cuarentena https://www.instagram.com/p/CCwxktdgmmx/?igshid=1c52x26zpxa79   \n",
       "\n",
       "                                                                                                                                                                                                                                                               Anuncio_10  \\\n",
       "59                        Paraguay pasó de ser el ejemplo a tener el sistema saturado. Ese es el problema con el Coronavirus. Por eso estuvo bien la cuarentena que dió tiempo a mejorar el sistema. Si no, ya estaría saturado el sistema con las camas que había antes.   \n",
       "30                                                                                                                                            Decís que sí? Sí, que se les fue de la mano. La cuarentena no existe más, hay que estar acorde a la situación y ya está...    \n",
       "40                                                                                                                                                                      Prefiero pasar por ahi 5 veces por dia y sentir todo ese aroma a cloaca que seguir en cuarentena    \n",
       "4   Esto. Y agregar que Alberto es uno más. Tenemos toda una casta de seres similares ocupando lugares de poder por la ley o por la fuerza hace décadas. Y las alternativas pueden haber tomado decisiones mejores o peores, pero no son esto. No son \"todos los mismo\".    \n",
       "42                                                                                                                                                                           Totalmente de acuerdo , la única solución que le encuentra a todo es extender la cuarentena    \n",
       "\n",
       "                                                                                                                                                           Anuncio_11  \n",
       "59  Por 2 horas me olvide de la cuarentena, problemas, todo. Senti esa felicidad que solo te produce ver buen fútbol, le agradezco a la vida que existe este deporte   \n",
       "30                                                                                                                                           Mamá nací para ser feliz  \n",
       "40                                                                                           Todavía no me puse en pedo por haberme recibido. Cuarentena, qué hiciste  \n",
       "4                                  Alberto dice que no hay cuarentena ME HUBIESE AVISADO ANTES, digo, hace CINCO MESES QUE NO VEO A MI NOVIO la re concha de su madre  \n",
       "42                                                                                  Cuarenta cuarenta cuarenta cuarenta cuarenta cuarentena #ExaBFF #ExaARMY @BTS_twt  "
      ]
     },
     "execution_count": 163,
     "metadata": {},
     "output_type": "execute_result"
    }
   ],
   "source": [
    "pd.set_option(\"max_colwidth\",None)\n",
    "df.sample(5)"
   ]
  },
  {
   "cell_type": "markdown",
   "metadata": {},
   "source": [
    "# Sentiment analysis."
   ]
  },
  {
   "cell_type": "code",
   "execution_count": 65,
   "metadata": {},
   "outputs": [],
   "source": [
    "import nltk\n",
    "from sklearn.feature_extraction.text import CountVectorizer, TfidfTransformer\n",
    "from sklearn.decomposition import TruncatedSVD\n",
    "import matplotlib.pyplot as plt\n",
    "import matplotlib.patches as mpatches\n",
    "from nltk.corpus import stopwords "
   ]
  },
  {
   "cell_type": "code",
   "execution_count": 66,
   "metadata": {},
   "outputs": [],
   "source": [
    "stopwords_sp = stopwords.words('spanish')"
   ]
  },
  {
   "cell_type": "code",
   "execution_count": 70,
   "metadata": {},
   "outputs": [],
   "source": [
    "# vectorizer=CountVectorizer(stop_words=stopwords_sp,lowercase=True,strip_accents='unicode');\n",
    "# vectorizer.fit(df_tweets[\"Anuncio_1\"])\n",
    "cv_anuncios = {}\n",
    "for anuncio in df_tweets.columns:\n",
    "    vectorizer=CountVectorizer(stop_words=stopwords_sp,lowercase=True,strip_accents='unicode');\n",
    "    cv_anuncios[anuncio] = vectorizer.fit_transform(df_tweets[anuncio])\n",
    "# print('\\n Transformamos los textos a una matriz esparsa:',type(CV_encoding))\n",
    "\n",
    "# pd.DataFrame(CV_encoding.todense(),columns=vectorizer.get_feature_names()) # Usamos el método .todense() para ver la matriz completa\n",
    "\n"
   ]
  },
  {
   "cell_type": "code",
   "execution_count": 73,
   "metadata": {},
   "outputs": [],
   "source": [
    "tfidf_anuncios = {}\n",
    "for anuncio in cv_anuncios:\n",
    "    tfidf_anuncios[anuncio] = TfidfTransformer().fit_transform(cv_anuncios[anuncio])"
   ]
  },
  {
   "cell_type": "code",
   "execution_count": 74,
   "metadata": {},
   "outputs": [],
   "source": [
    "svc_anuncios = {}\n",
    "for anuncio in tfidf_anuncios:\n",
    "    svd=TruncatedSVD(n_components=2);\n",
    "    svc_anuncios[anuncio] =svd.fit_transform(tfidf_anuncios[anuncio])"
   ]
  },
  {
   "cell_type": "code",
   "execution_count": 77,
   "metadata": {},
   "outputs": [
    {
     "name": "stdout",
     "output_type": "stream",
     "text": [
      "0 Anuncio_1\n",
      "1 Anuncio_2\n",
      "2 Anuncio_3\n",
      "3 Anuncio_4\n",
      "4 Anuncio_5\n",
      "5 Anuncio_6\n",
      "6 Anuncio_7\n",
      "7 Anuncio_8\n",
      "8 Anuncio_9\n",
      "9 Anuncio_10\n",
      "10 Anuncio_11\n"
     ]
    }
   ],
   "source": [
    "for i,e in enumerate(df_tweets):\n",
    "    print(i,e)"
   ]
  },
  {
   "cell_type": "code",
   "execution_count": 88,
   "metadata": {},
   "outputs": [
    {
     "data": {
      "text/plain": [
       "0.002817692431566874"
      ]
     },
     "execution_count": 88,
     "metadata": {},
     "output_type": "execute_result"
    }
   ],
   "source": [
    "svc_anuncios['Anuncio_1'][100,0]"
   ]
  },
  {
   "cell_type": "code",
   "execution_count": 92,
   "metadata": {},
   "outputs": [
    {
     "data": {
      "image/png": "[encoded data removed]",
      "text/plain": [
       "<Figure size 720x720 with 11 Axes>"
      ]
     },
     "metadata": {
      "needs_background": "light"
     },
     "output_type": "display_data"
    }
   ],
   "source": [
    "#grafico\n",
    "color = ['m', 'g', 'r', 'c', 'b','k']\n",
    "\n",
    "fig, ax = plt.subplots(11,1, figsize=(10,10))\n",
    "patches = []\n",
    "\n",
    "for numero,anuncio in enumerate(df_tweets):\n",
    "    for n_tweet, tweet in enumerate(df_tweets[anuncio]):\n",
    "        ax[numero] = plt.plot(svc_anuncios[anuncio][n_tweet,0], svc_anuncios[anuncio][n_tweet,1])\n",
    "#         patches.append(mpatches.Patch(color=color[i], label='t'+str(i)))\n",
    "\n",
    "# plt.legend(handles=patches)\n",
    "plt.xlabel('dimension 1')\n",
    "plt.ylabel('dimension 2')\n",
    "#plt.axis([-4, 4, -4, 4])\n",
    "plt.show()"
   ]
  },
  {
   "cell_type": "code",
   "execution_count": 97,
   "metadata": {},
   "outputs": [],
   "source": [
    "import seaborn as sns"
   ]
  },
  {
   "cell_type": "code",
   "execution_count": 100,
   "metadata": {},
   "outputs": [
    {
     "data": {
      "image/png": "[encoded data removed]",
      "text/plain": [
       "<Figure size 432x288 with 1 Axes>"
      ]
     },
     "metadata": {
      "needs_background": "light"
     },
     "output_type": "display_data"
    }
   ],
   "source": [
    "#grafico\n",
    "# color = ['m', 'g', 'r', 'c', 'b','k']\n",
    "plt.figure()\n",
    "# patches = []\n",
    "\n",
    "for i,texto in enumerate(df_tweets[\"Anuncio_1\"]):\n",
    "    sns.scatterplot(svc_anuncios[\"Anuncio_1\"][0,], svc_anuncios[\"Anuncio_1\"][1])\n",
    "#     patches.append(mpatches.Patch(color=color[i], label='t'+str(i)))\n",
    "\n",
    "# plt.legend(handles=patches)\n",
    "plt.xlabel('dimension 1')\n",
    "plt.ylabel('dimension 2')\n",
    "#plt.axis([-4, 4, -4, 4])\n",
    "plt.show()"
   ]
  },
  {
   "cell_type": "code",
   "execution_count": null,
   "metadata": {},
   "outputs": [],
   "source": []
  },
  {
   "cell_type": "code",
   "execution_count": null,
   "metadata": {},
   "outputs": [],
   "source": []
  },
  {
   "cell_type": "code",
   "execution_count": null,
   "metadata": {},
   "outputs": [],
   "source": []
  },
  {
   "cell_type": "code",
   "execution_count": null,
   "metadata": {},
   "outputs": [],
   "source": []
  },
  {
   "cell_type": "code",
   "execution_count": null,
   "metadata": {},
   "outputs": [],
   "source": []
  },
  {
   "cell_type": "code",
   "execution_count": 13,
   "metadata": {},
   "outputs": [
    {
     "name": "stdout",
     "output_type": "stream",
     "text": [
      "26% de los tweets fueron positivos\n",
      "3% de los tweets fueron negativos\n",
      "....\n",
      "Ejemplos de Tweets positivos\n",
      "....\n",
      "So give back Argentina to the indigenous They did not request your ancestors come and seize their lands and murder them Is it ok for you to do that?\n",
      "--\n",
      "RedDeerGames #NintendoSwitch Giveaway Anyone can have a chance to win this AWESOME game prize pack #xbox #nintendo #eshop Complete your entry here\n",
      "--\n",
      "Did You see it Let the fun begin #Xbox #NintendoSwitch #Playstation\n",
      "--\n",
      "Ofende el que puede Desde el sillón familiar sigue instalando estereotipos y prejuicios de clase Ufff.....ya fueron suficientes 50 años de frivolidad desprecio y politiquería berreta en tv abierta Basta\n",
      "--\n",
      "PLAY Let The Fun Begin Like RT Click Did You see it\n",
      "--\n",
      "No The people are there of their own free will Have decided through self determination which they have to remain British I’m sure that stings you but that’s the way it is Britain is better than Argentina.\n",
      "--\n",
      "Did You see it Let the fun begin #Xbox #NintendoSwitch #Playstation\n",
      "--\n",
      "¿USAS GOOGLE CHROME Lo siento por las mayúsculas pero existe un nuevo navegador que es más rápido y más privado que Chrome (bloquea los anuncios y los rastreadores lo cual ahorra tiempo de carga) La interfaz es exactamente igual que la de Chrome Brave lo supera en todo.\n",
      "--\n",
      "¿USAS GOOGLE CHROME Lo siento por las mayúsculas pero existe un nuevo navegador que es más rápido y más privado que Chrome (bloquea los anuncios y los rastreadores lo cual ahorra tiempo de carga) La interfaz es exactamente igual que la de Chrome Brave lo supera en todo.\n",
      "--\n",
      "Don't miss hotel deals like these Our price discovery engine works 24/7 to bring you the best hotel deals Get FREE alerts now\n",
      "--\n",
      "RedDeerGames #NintendoSwitch Giveaway Anyone can have a chance to win this AWESOME game prize pack #xbox #nintendo #eshop Complete your entry here\n",
      "--\n",
      "Did You see it Let the fun begin #Xbox #NintendoSwitch #Playstation\n",
      "--\n",
      "PLAY Let The Fun Begin Like RT Click Did You see it\n",
      "--\n",
      "¿USAS GOOGLE CHROME Lo siento por las mayúsculas pero existe un nuevo navegador que es más rápido y más privado que Chrome (bloquea los anuncios y los rastreadores lo cual ahorra tiempo de carga) La interfaz es exactamente igual que la de Chrome Brave lo supera en todo.\n",
      "--\n",
      "PLAY Let The Fun Begin Like RT Click Did You see it\n",
      "--\n",
      "Hay que pasárselo a por si no prendi la tele Y a que quiere matarlos a todos Y al pelotudo de para que haga notitas picantes a jubilados y mujeres y de paso a para que hoy se haga una fiesta junto con :)\n",
      "--\n",
      "¿USAS GOOGLE CHROME Lo siento por las mayúsculas pero existe un nuevo navegador que es más rápido y más privado que Chrome (bloquea los anuncios y los rastreadores lo cual ahorra tiempo de carga) La interfaz es exactamente igual que la de Chrome Brave lo supera en todo.\n",
      "--\n",
      "PLAY Let The Fun Begin Like RT Click Did You see it\n",
      "--\n",
      "La verdad ..ni enterado de la marcha anticuarentena..vot un rumbo económico..no tengo porque oír a perdedores odiosos..nos quedan más de tres años de gobierno..vamos avanzando con proyectos popular.. sigue tu camino sin mirar atrás..que atrás est la vergüenza opositora\n",
      "--\n",
      "PLAY Let The Fun Begin Like RT Click Did You see it\n",
      "--\n",
      "¿USAS GOOGLE CHROME Lo siento por las mayúsculas pero existe un nuevo navegador que es más rápido y más privado que Chrome (bloquea los anuncios y los rastreadores lo cual ahorra tiempo de carga) La interfaz es exactamente igual que la de Chrome Brave lo supera en todo.\n",
      "--\n",
      "Did You see it Let the fun begin #Xbox #NintendoSwitch #Playstation\n",
      "--\n",
      "Agüante Suficiente lo mismo de siempre sin fundamento la gente en la Super Marcha Yo me cuido y gracias por cuidarnos!\n",
      "--\n",
      "PLAY Let The Fun Begin Like RT Click Did You see it\n",
      "--\n",
      "¿USAS GOOGLE CHROME Lo siento por las mayúsculas pero existe un nuevo navegador que es más rápido y más privado que Chrome (bloquea los anuncios y los rastreadores lo cual ahorra tiempo de carga) La interfaz es exactamente igual que la de Chrome Brave lo supera en todo.\n",
      "--\n",
      "Is that the best you can do Pitiful.\n",
      "--\n",
      "....\n",
      "Ejemplos de Tweets negativos\n",
      "....\n",
      "Excelente articulo de sobre Beneficio de Gratuidad para Litigar #Chubut #ComunidadesIndigenas “El más inteligente de los pobres tiene menos chances que el más mediocre de los ricos Una gota de esperanza entre tanta desigualdad\n",
      "--\n",
      "Uds es un cardura mentiroso miserable antidemocratico un chorro ladron uds y todos los d su gobierno nos pide a nos q hagamos el esfuerzo y uds no se bajaron los sueldos es ud un flor d hdp\n",
      "--\n",
      "El General San Martín bien recordado como el Padre de la Patria estaría muy defraudado y triste de ver la corrupción pobreza inseguridad y la falta de justicia que hay en este país Deplorable el gobierno que tenemos con una vicepresidenta corrupta y ladrona.\n",
      "--\n"
     ]
    }
   ],
   "source": [
    "ptweet = []\n",
    "ntweet = []\n",
    "for tweet in tweets[0:500]:\n",
    "    # remove links and other special characters\n",
    "    text = ' '.join(re.sub(\"(@[A-Za-z0-9]+)|([^0-9A-Za-z \\t]) |(\\w+:\\/\\/\\S+)\", \" \", tweet.text).split())\n",
    "    if TextBlob(text).sentiment.polarity > 0.2:\n",
    "        ptweet.append(text)\n",
    "    elif TextBlob(text).sentiment.polarity < -0.2:\n",
    "        ntweet.append(text)\n",
    "print(\"{}% de los tweets fueron positivos\".format(len(ptweet)))\n",
    "print(\"{}% de los tweets fueron negativos\".format(len(ntweet)))\n",
    "print(\"....\")\n",
    "print(\"Ejemplos de Tweets positivos\")\n",
    "print(\"....\")\n",
    "for i in range(len(ptweet)):\n",
    "    print(ptweet[i])\n",
    "    print('--')\n",
    "    \n",
    "print(\"....\")\n",
    "print(\"Ejemplos de Tweets negativos\")\n",
    "print(\"....\")\n",
    "len(ntweet)\n",
    "\n",
    "#if len(ntweet) >= 100:\n",
    "for i in range(len(ntweet)):\n",
    "    print(ntweet[i])\n",
    "    print('--')"
   ]
  },
  {
   "cell_type": "markdown",
   "metadata": {},
   "source": [
    "# Combinando las dos cosas.\n",
    "Combina la colección y el análisis de los tweets y plotea los resultados."
   ]
  },
  {
   "cell_type": "code",
   "execution_count": 18,
   "metadata": {},
   "outputs": [
    {
     "name": "stderr",
     "output_type": "stream",
     "text": [
      "ERROR:root:Internal Python error in the inspect module.\n",
      "Below is the traceback from this internal error.\n",
      "\n"
     ]
    },
    {
     "name": "stdout",
     "output_type": "stream",
     "text": [
      "An error occured during an HTTP request: HTTP Error 429: Too Many Requests\n",
      "Try to open in browser: https://twitter.com/search?q=alferdez%20since%3A2020-07-03%20until%3A2020-07-04&src=typd\n",
      "Traceback (most recent call last):\n",
      "  File \"C:\\Users\\Manu\\anaconda3\\envs\\twitter\\lib\\site-packages\\GetOldTweets3\\manager\\TweetManager.py\", line 343, in getJsonResponse\n",
      "    response = opener.open(url)\n",
      "  File \"C:\\Users\\Manu\\anaconda3\\envs\\twitter\\lib\\urllib\\request.py\", line 531, in open\n",
      "    response = meth(req, response)\n",
      "  File \"C:\\Users\\Manu\\anaconda3\\envs\\twitter\\lib\\urllib\\request.py\", line 641, in http_response\n",
      "    'http', request, response, code, msg, hdrs)\n",
      "  File \"C:\\Users\\Manu\\anaconda3\\envs\\twitter\\lib\\urllib\\request.py\", line 569, in error\n",
      "    return self._call_chain(*args)\n",
      "  File \"C:\\Users\\Manu\\anaconda3\\envs\\twitter\\lib\\urllib\\request.py\", line 503, in _call_chain\n",
      "    result = func(*args)\n",
      "  File \"C:\\Users\\Manu\\anaconda3\\envs\\twitter\\lib\\urllib\\request.py\", line 649, in http_error_default\n",
      "    raise HTTPError(req.full_url, code, msg, hdrs, fp)\n",
      "urllib.error.HTTPError: HTTP Error 429: Too Many Requests\n",
      "\n",
      "During handling of the above exception, another exception occurred:\n",
      "\n",
      "Traceback (most recent call last):\n",
      "  File \"C:\\Users\\Manu\\anaconda3\\envs\\twitter\\lib\\site-packages\\IPython\\core\\interactiveshell.py\", line 3417, in run_code\n",
      "    exec(code_obj, self.user_global_ns, self.user_ns)\n",
      "  File \"<ipython-input-18-2bb3728e5dab>\", line 11, in <module>\n",
      "    tweets = got.manager.TweetManager.getTweets(tweetCriteria)\n",
      "  File \"C:\\Users\\Manu\\anaconda3\\envs\\twitter\\lib\\site-packages\\GetOldTweets3\\manager\\TweetManager.py\", line 65, in getTweets\n",
      "    json = TweetManager.getJsonResponse(tweetCriteria, refreshCursor, cookieJar, proxy, user_agent, debug=debug)\n",
      "  File \"C:\\Users\\Manu\\anaconda3\\envs\\twitter\\lib\\site-packages\\GetOldTweets3\\manager\\TweetManager.py\", line 348, in getJsonResponse\n",
      "    sys.exit()\n",
      "SystemExit\n",
      "\n",
      "During handling of the above exception, another exception occurred:\n",
      "\n",
      "Traceback (most recent call last):\n",
      "  File \"C:\\Users\\Manu\\anaconda3\\envs\\twitter\\lib\\site-packages\\IPython\\core\\ultratb.py\", line 1169, in get_records\n",
      "    return _fixed_getinnerframes(etb, number_of_lines_of_context, tb_offset)\n",
      "  File \"C:\\Users\\Manu\\anaconda3\\envs\\twitter\\lib\\site-packages\\IPython\\core\\ultratb.py\", line 316, in wrapped\n",
      "    return f(*args, **kwargs)\n",
      "  File \"C:\\Users\\Manu\\anaconda3\\envs\\twitter\\lib\\site-packages\\IPython\\core\\ultratb.py\", line 350, in _fixed_getinnerframes\n",
      "    records = fix_frame_records_filenames(inspect.getinnerframes(etb, context))\n",
      "  File \"C:\\Users\\Manu\\anaconda3\\envs\\twitter\\lib\\inspect.py\", line 1502, in getinnerframes\n",
      "    frameinfo = (tb.tb_frame,) + getframeinfo(tb, context)\n",
      "AttributeError: 'tuple' object has no attribute 'tb_frame'\n"
     ]
    },
    {
     "ename": "TypeError",
     "evalue": "object of type 'NoneType' has no len()",
     "output_type": "error",
     "traceback": [
      "\u001b[1;31m---------------------------------------------------------------------------\u001b[0m",
      "\u001b[1;31mHTTPError\u001b[0m                                 Traceback (most recent call last)",
      "\u001b[1;32m~\\anaconda3\\envs\\twitter\\lib\\site-packages\\GetOldTweets3\\manager\\TweetManager.py\u001b[0m in \u001b[0;36mgetJsonResponse\u001b[1;34m(tweetCriteria, refreshCursor, cookieJar, proxy, useragent, debug)\u001b[0m\n\u001b[0;32m    342\u001b[0m         \u001b[1;32mtry\u001b[0m\u001b[1;33m:\u001b[0m\u001b[1;33m\u001b[0m\u001b[1;33m\u001b[0m\u001b[0m\n\u001b[1;32m--> 343\u001b[1;33m             \u001b[0mresponse\u001b[0m \u001b[1;33m=\u001b[0m \u001b[0mopener\u001b[0m\u001b[1;33m.\u001b[0m\u001b[0mopen\u001b[0m\u001b[1;33m(\u001b[0m\u001b[0murl\u001b[0m\u001b[1;33m)\u001b[0m\u001b[1;33m\u001b[0m\u001b[1;33m\u001b[0m\u001b[0m\n\u001b[0m\u001b[0;32m    344\u001b[0m             \u001b[0mjsonResponse\u001b[0m \u001b[1;33m=\u001b[0m \u001b[0mresponse\u001b[0m\u001b[1;33m.\u001b[0m\u001b[0mread\u001b[0m\u001b[1;33m(\u001b[0m\u001b[1;33m)\u001b[0m\u001b[1;33m\u001b[0m\u001b[1;33m\u001b[0m\u001b[0m\n",
      "\u001b[1;32m~\\anaconda3\\envs\\twitter\\lib\\urllib\\request.py\u001b[0m in \u001b[0;36mopen\u001b[1;34m(self, fullurl, data, timeout)\u001b[0m\n\u001b[0;32m    530\u001b[0m             \u001b[0mmeth\u001b[0m \u001b[1;33m=\u001b[0m \u001b[0mgetattr\u001b[0m\u001b[1;33m(\u001b[0m\u001b[0mprocessor\u001b[0m\u001b[1;33m,\u001b[0m \u001b[0mmeth_name\u001b[0m\u001b[1;33m)\u001b[0m\u001b[1;33m\u001b[0m\u001b[1;33m\u001b[0m\u001b[0m\n\u001b[1;32m--> 531\u001b[1;33m             \u001b[0mresponse\u001b[0m \u001b[1;33m=\u001b[0m \u001b[0mmeth\u001b[0m\u001b[1;33m(\u001b[0m\u001b[0mreq\u001b[0m\u001b[1;33m,\u001b[0m \u001b[0mresponse\u001b[0m\u001b[1;33m)\u001b[0m\u001b[1;33m\u001b[0m\u001b[1;33m\u001b[0m\u001b[0m\n\u001b[0m\u001b[0;32m    532\u001b[0m \u001b[1;33m\u001b[0m\u001b[0m\n",
      "\u001b[1;32m~\\anaconda3\\envs\\twitter\\lib\\urllib\\request.py\u001b[0m in \u001b[0;36mhttp_response\u001b[1;34m(self, request, response)\u001b[0m\n\u001b[0;32m    640\u001b[0m             response = self.parent.error(\n\u001b[1;32m--> 641\u001b[1;33m                 'http', request, response, code, msg, hdrs)\n\u001b[0m\u001b[0;32m    642\u001b[0m \u001b[1;33m\u001b[0m\u001b[0m\n",
      "\u001b[1;32m~\\anaconda3\\envs\\twitter\\lib\\urllib\\request.py\u001b[0m in \u001b[0;36merror\u001b[1;34m(self, proto, *args)\u001b[0m\n\u001b[0;32m    568\u001b[0m             \u001b[0margs\u001b[0m \u001b[1;33m=\u001b[0m \u001b[1;33m(\u001b[0m\u001b[0mdict\u001b[0m\u001b[1;33m,\u001b[0m \u001b[1;34m'default'\u001b[0m\u001b[1;33m,\u001b[0m \u001b[1;34m'http_error_default'\u001b[0m\u001b[1;33m)\u001b[0m \u001b[1;33m+\u001b[0m \u001b[0morig_args\u001b[0m\u001b[1;33m\u001b[0m\u001b[1;33m\u001b[0m\u001b[0m\n\u001b[1;32m--> 569\u001b[1;33m             \u001b[1;32mreturn\u001b[0m \u001b[0mself\u001b[0m\u001b[1;33m.\u001b[0m\u001b[0m_call_chain\u001b[0m\u001b[1;33m(\u001b[0m\u001b[1;33m*\u001b[0m\u001b[0margs\u001b[0m\u001b[1;33m)\u001b[0m\u001b[1;33m\u001b[0m\u001b[1;33m\u001b[0m\u001b[0m\n\u001b[0m\u001b[0;32m    570\u001b[0m \u001b[1;33m\u001b[0m\u001b[0m\n",
      "\u001b[1;32m~\\anaconda3\\envs\\twitter\\lib\\urllib\\request.py\u001b[0m in \u001b[0;36m_call_chain\u001b[1;34m(self, chain, kind, meth_name, *args)\u001b[0m\n\u001b[0;32m    502\u001b[0m             \u001b[0mfunc\u001b[0m \u001b[1;33m=\u001b[0m \u001b[0mgetattr\u001b[0m\u001b[1;33m(\u001b[0m\u001b[0mhandler\u001b[0m\u001b[1;33m,\u001b[0m \u001b[0mmeth_name\u001b[0m\u001b[1;33m)\u001b[0m\u001b[1;33m\u001b[0m\u001b[1;33m\u001b[0m\u001b[0m\n\u001b[1;32m--> 503\u001b[1;33m             \u001b[0mresult\u001b[0m \u001b[1;33m=\u001b[0m \u001b[0mfunc\u001b[0m\u001b[1;33m(\u001b[0m\u001b[1;33m*\u001b[0m\u001b[0margs\u001b[0m\u001b[1;33m)\u001b[0m\u001b[1;33m\u001b[0m\u001b[1;33m\u001b[0m\u001b[0m\n\u001b[0m\u001b[0;32m    504\u001b[0m             \u001b[1;32mif\u001b[0m \u001b[0mresult\u001b[0m \u001b[1;32mis\u001b[0m \u001b[1;32mnot\u001b[0m \u001b[1;32mNone\u001b[0m\u001b[1;33m:\u001b[0m\u001b[1;33m\u001b[0m\u001b[1;33m\u001b[0m\u001b[0m\n",
      "\u001b[1;32m~\\anaconda3\\envs\\twitter\\lib\\urllib\\request.py\u001b[0m in \u001b[0;36mhttp_error_default\u001b[1;34m(self, req, fp, code, msg, hdrs)\u001b[0m\n\u001b[0;32m    648\u001b[0m     \u001b[1;32mdef\u001b[0m \u001b[0mhttp_error_default\u001b[0m\u001b[1;33m(\u001b[0m\u001b[0mself\u001b[0m\u001b[1;33m,\u001b[0m \u001b[0mreq\u001b[0m\u001b[1;33m,\u001b[0m \u001b[0mfp\u001b[0m\u001b[1;33m,\u001b[0m \u001b[0mcode\u001b[0m\u001b[1;33m,\u001b[0m \u001b[0mmsg\u001b[0m\u001b[1;33m,\u001b[0m \u001b[0mhdrs\u001b[0m\u001b[1;33m)\u001b[0m\u001b[1;33m:\u001b[0m\u001b[1;33m\u001b[0m\u001b[1;33m\u001b[0m\u001b[0m\n\u001b[1;32m--> 649\u001b[1;33m         \u001b[1;32mraise\u001b[0m \u001b[0mHTTPError\u001b[0m\u001b[1;33m(\u001b[0m\u001b[0mreq\u001b[0m\u001b[1;33m.\u001b[0m\u001b[0mfull_url\u001b[0m\u001b[1;33m,\u001b[0m \u001b[0mcode\u001b[0m\u001b[1;33m,\u001b[0m \u001b[0mmsg\u001b[0m\u001b[1;33m,\u001b[0m \u001b[0mhdrs\u001b[0m\u001b[1;33m,\u001b[0m \u001b[0mfp\u001b[0m\u001b[1;33m)\u001b[0m\u001b[1;33m\u001b[0m\u001b[1;33m\u001b[0m\u001b[0m\n\u001b[0m\u001b[0;32m    650\u001b[0m \u001b[1;33m\u001b[0m\u001b[0m\n",
      "\u001b[1;31mHTTPError\u001b[0m: HTTP Error 429: Too Many Requests",
      "\nDuring handling of the above exception, another exception occurred:\n",
      "\u001b[1;31mSystemExit\u001b[0m                                Traceback (most recent call last)",
      "    \u001b[1;31m[... skipping hidden 1 frame]\u001b[0m\n",
      "\u001b[1;32m<ipython-input-18-2bb3728e5dab>\u001b[0m in \u001b[0;36m<module>\u001b[1;34m\u001b[0m\n\u001b[0;32m     10\u001b[0m     \u001b[0mtweetCriteria\u001b[0m \u001b[1;33m=\u001b[0m \u001b[0mgot\u001b[0m\u001b[1;33m.\u001b[0m\u001b[0mmanager\u001b[0m\u001b[1;33m.\u001b[0m\u001b[0mTweetCriteria\u001b[0m\u001b[1;33m(\u001b[0m\u001b[1;33m)\u001b[0m\u001b[1;33m.\u001b[0m\u001b[0msetQuerySearch\u001b[0m\u001b[1;33m(\u001b[0m\u001b[1;34m\"alferdez\"\u001b[0m\u001b[1;33m)\u001b[0m\u001b[1;33m.\u001b[0m\u001b[0msetSince\u001b[0m\u001b[1;33m(\u001b[0m\u001b[0mstart_date\u001b[0m\u001b[1;33m.\u001b[0m\u001b[0mstrftime\u001b[0m\u001b[1;33m(\u001b[0m\u001b[1;34m'%Y-%m-%d'\u001b[0m\u001b[1;33m)\u001b[0m\u001b[1;33m)\u001b[0m\u001b[1;33m.\u001b[0m\u001b[0msetUntil\u001b[0m\u001b[1;33m(\u001b[0m\u001b[1;33m(\u001b[0m\u001b[0mstart_date\u001b[0m \u001b[1;33m+\u001b[0m \u001b[0mtimedelta\u001b[0m\u001b[1;33m(\u001b[0m\u001b[0mdays\u001b[0m\u001b[1;33m=\u001b[0m\u001b[1;36m1\u001b[0m\u001b[1;33m)\u001b[0m\u001b[1;33m)\u001b[0m\u001b[1;33m.\u001b[0m\u001b[0mstrftime\u001b[0m\u001b[1;33m(\u001b[0m\u001b[1;34m'%Y-%m-%d'\u001b[0m\u001b[1;33m)\u001b[0m\u001b[1;33m)\u001b[0m\u001b[1;33m.\u001b[0m\u001b[0msetMaxTweets\u001b[0m\u001b[1;33m(\u001b[0m\u001b[1;36m100\u001b[0m\u001b[1;33m)\u001b[0m\u001b[1;33m\u001b[0m\u001b[1;33m\u001b[0m\u001b[0m\n\u001b[1;32m---> 11\u001b[1;33m     \u001b[0mtweets\u001b[0m \u001b[1;33m=\u001b[0m \u001b[0mgot\u001b[0m\u001b[1;33m.\u001b[0m\u001b[0mmanager\u001b[0m\u001b[1;33m.\u001b[0m\u001b[0mTweetManager\u001b[0m\u001b[1;33m.\u001b[0m\u001b[0mgetTweets\u001b[0m\u001b[1;33m(\u001b[0m\u001b[0mtweetCriteria\u001b[0m\u001b[1;33m)\u001b[0m\u001b[1;33m\u001b[0m\u001b[1;33m\u001b[0m\u001b[0m\n\u001b[0m\u001b[0;32m     12\u001b[0m \u001b[1;33m\u001b[0m\u001b[0m\n",
      "\u001b[1;32m~\\anaconda3\\envs\\twitter\\lib\\site-packages\\GetOldTweets3\\manager\\TweetManager.py\u001b[0m in \u001b[0;36mgetTweets\u001b[1;34m(tweetCriteria, receiveBuffer, bufferLength, proxy, debug)\u001b[0m\n\u001b[0;32m     64\u001b[0m             \u001b[1;32mwhile\u001b[0m \u001b[0mactive\u001b[0m\u001b[1;33m:\u001b[0m\u001b[1;33m\u001b[0m\u001b[1;33m\u001b[0m\u001b[0m\n\u001b[1;32m---> 65\u001b[1;33m                 \u001b[0mjson\u001b[0m \u001b[1;33m=\u001b[0m \u001b[0mTweetManager\u001b[0m\u001b[1;33m.\u001b[0m\u001b[0mgetJsonResponse\u001b[0m\u001b[1;33m(\u001b[0m\u001b[0mtweetCriteria\u001b[0m\u001b[1;33m,\u001b[0m \u001b[0mrefreshCursor\u001b[0m\u001b[1;33m,\u001b[0m \u001b[0mcookieJar\u001b[0m\u001b[1;33m,\u001b[0m \u001b[0mproxy\u001b[0m\u001b[1;33m,\u001b[0m \u001b[0muser_agent\u001b[0m\u001b[1;33m,\u001b[0m \u001b[0mdebug\u001b[0m\u001b[1;33m=\u001b[0m\u001b[0mdebug\u001b[0m\u001b[1;33m)\u001b[0m\u001b[1;33m\u001b[0m\u001b[1;33m\u001b[0m\u001b[0m\n\u001b[0m\u001b[0;32m     66\u001b[0m                 \u001b[1;32mif\u001b[0m \u001b[0mlen\u001b[0m\u001b[1;33m(\u001b[0m\u001b[0mjson\u001b[0m\u001b[1;33m[\u001b[0m\u001b[1;34m'items_html'\u001b[0m\u001b[1;33m]\u001b[0m\u001b[1;33m.\u001b[0m\u001b[0mstrip\u001b[0m\u001b[1;33m(\u001b[0m\u001b[1;33m)\u001b[0m\u001b[1;33m)\u001b[0m \u001b[1;33m==\u001b[0m \u001b[1;36m0\u001b[0m\u001b[1;33m:\u001b[0m\u001b[1;33m\u001b[0m\u001b[1;33m\u001b[0m\u001b[0m\n",
      "\u001b[1;32m~\\anaconda3\\envs\\twitter\\lib\\site-packages\\GetOldTweets3\\manager\\TweetManager.py\u001b[0m in \u001b[0;36mgetJsonResponse\u001b[1;34m(tweetCriteria, refreshCursor, cookieJar, proxy, useragent, debug)\u001b[0m\n\u001b[0;32m    347\u001b[0m             \u001b[0mprint\u001b[0m\u001b[1;33m(\u001b[0m\u001b[1;34m\"Try to open in browser: https://twitter.com/search?q=%s&src=typd\"\u001b[0m \u001b[1;33m%\u001b[0m \u001b[0murllib\u001b[0m\u001b[1;33m.\u001b[0m\u001b[0mparse\u001b[0m\u001b[1;33m.\u001b[0m\u001b[0mquote\u001b[0m\u001b[1;33m(\u001b[0m\u001b[0murlGetData\u001b[0m\u001b[1;33m)\u001b[0m\u001b[1;33m)\u001b[0m\u001b[1;33m\u001b[0m\u001b[1;33m\u001b[0m\u001b[0m\n\u001b[1;32m--> 348\u001b[1;33m             \u001b[0msys\u001b[0m\u001b[1;33m.\u001b[0m\u001b[0mexit\u001b[0m\u001b[1;33m(\u001b[0m\u001b[1;33m)\u001b[0m\u001b[1;33m\u001b[0m\u001b[1;33m\u001b[0m\u001b[0m\n\u001b[0m\u001b[0;32m    349\u001b[0m \u001b[1;33m\u001b[0m\u001b[0m\n",
      "\u001b[1;31mSystemExit\u001b[0m: ",
      "\nDuring handling of the above exception, another exception occurred:\n",
      "\u001b[1;31mTypeError\u001b[0m                                 Traceback (most recent call last)",
      "    \u001b[1;31m[... skipping hidden 1 frame]\u001b[0m\n",
      "\u001b[1;32m~\\anaconda3\\envs\\twitter\\lib\\site-packages\\IPython\\core\\interactiveshell.py\u001b[0m in \u001b[0;36mshowtraceback\u001b[1;34m(self, exc_tuple, filename, tb_offset, exception_only, running_compiled_code)\u001b[0m\n\u001b[0;32m   2036\u001b[0m                            'the full traceback.\\n']\n\u001b[0;32m   2037\u001b[0m                     stb.extend(self.InteractiveTB.get_exception_only(etype,\n\u001b[1;32m-> 2038\u001b[1;33m                                                                      value))\n\u001b[0m\u001b[0;32m   2039\u001b[0m                 \u001b[1;32melse\u001b[0m\u001b[1;33m:\u001b[0m\u001b[1;33m\u001b[0m\u001b[1;33m\u001b[0m\u001b[0m\n\u001b[0;32m   2040\u001b[0m                     \u001b[1;32mtry\u001b[0m\u001b[1;33m:\u001b[0m\u001b[1;33m\u001b[0m\u001b[1;33m\u001b[0m\u001b[0m\n",
      "\u001b[1;32m~\\anaconda3\\envs\\twitter\\lib\\site-packages\\IPython\\core\\ultratb.py\u001b[0m in \u001b[0;36mget_exception_only\u001b[1;34m(self, etype, value)\u001b[0m\n\u001b[0;32m    821\u001b[0m         \u001b[0mvalue\u001b[0m \u001b[1;33m:\u001b[0m \u001b[0mexception\u001b[0m \u001b[0mvalue\u001b[0m\u001b[1;33m\u001b[0m\u001b[1;33m\u001b[0m\u001b[0m\n\u001b[0;32m    822\u001b[0m         \"\"\"\n\u001b[1;32m--> 823\u001b[1;33m         \u001b[1;32mreturn\u001b[0m \u001b[0mListTB\u001b[0m\u001b[1;33m.\u001b[0m\u001b[0mstructured_traceback\u001b[0m\u001b[1;33m(\u001b[0m\u001b[0mself\u001b[0m\u001b[1;33m,\u001b[0m \u001b[0metype\u001b[0m\u001b[1;33m,\u001b[0m \u001b[0mvalue\u001b[0m\u001b[1;33m)\u001b[0m\u001b[1;33m\u001b[0m\u001b[1;33m\u001b[0m\u001b[0m\n\u001b[0m\u001b[0;32m    824\u001b[0m \u001b[1;33m\u001b[0m\u001b[0m\n\u001b[0;32m    825\u001b[0m     \u001b[1;32mdef\u001b[0m \u001b[0mshow_exception_only\u001b[0m\u001b[1;33m(\u001b[0m\u001b[0mself\u001b[0m\u001b[1;33m,\u001b[0m \u001b[0metype\u001b[0m\u001b[1;33m,\u001b[0m \u001b[0mevalue\u001b[0m\u001b[1;33m)\u001b[0m\u001b[1;33m:\u001b[0m\u001b[1;33m\u001b[0m\u001b[1;33m\u001b[0m\u001b[0m\n",
      "\u001b[1;32m~\\anaconda3\\envs\\twitter\\lib\\site-packages\\IPython\\core\\ultratb.py\u001b[0m in \u001b[0;36mstructured_traceback\u001b[1;34m(self, etype, evalue, etb, tb_offset, context)\u001b[0m\n\u001b[0;32m    700\u001b[0m                     chained_exceptions_tb_offset, context)\n\u001b[0;32m    701\u001b[0m                 \u001b[1;33m+\u001b[0m \u001b[0mchained_exception_message\u001b[0m\u001b[1;33m\u001b[0m\u001b[1;33m\u001b[0m\u001b[0m\n\u001b[1;32m--> 702\u001b[1;33m                 + out_list)\n\u001b[0m\u001b[0;32m    703\u001b[0m \u001b[1;33m\u001b[0m\u001b[0m\n\u001b[0;32m    704\u001b[0m         \u001b[1;32mreturn\u001b[0m \u001b[0mout_list\u001b[0m\u001b[1;33m\u001b[0m\u001b[1;33m\u001b[0m\u001b[0m\n",
      "\u001b[1;32m~\\anaconda3\\envs\\twitter\\lib\\site-packages\\IPython\\core\\ultratb.py\u001b[0m in \u001b[0;36mstructured_traceback\u001b[1;34m(self, etype, value, tb, tb_offset, number_of_lines_of_context)\u001b[0m\n\u001b[0;32m   1434\u001b[0m             \u001b[0mself\u001b[0m\u001b[1;33m.\u001b[0m\u001b[0mtb\u001b[0m \u001b[1;33m=\u001b[0m \u001b[0mtb\u001b[0m\u001b[1;33m\u001b[0m\u001b[1;33m\u001b[0m\u001b[0m\n\u001b[0;32m   1435\u001b[0m         return FormattedTB.structured_traceback(\n\u001b[1;32m-> 1436\u001b[1;33m             self, etype, value, tb, tb_offset, number_of_lines_of_context)\n\u001b[0m\u001b[0;32m   1437\u001b[0m \u001b[1;33m\u001b[0m\u001b[0m\n\u001b[0;32m   1438\u001b[0m \u001b[1;33m\u001b[0m\u001b[0m\n",
      "\u001b[1;32m~\\anaconda3\\envs\\twitter\\lib\\site-packages\\IPython\\core\\ultratb.py\u001b[0m in \u001b[0;36mstructured_traceback\u001b[1;34m(self, etype, value, tb, tb_offset, number_of_lines_of_context)\u001b[0m\n\u001b[0;32m   1334\u001b[0m             \u001b[1;31m# Verbose modes need a full traceback\u001b[0m\u001b[1;33m\u001b[0m\u001b[1;33m\u001b[0m\u001b[1;33m\u001b[0m\u001b[0m\n\u001b[0;32m   1335\u001b[0m             return VerboseTB.structured_traceback(\n\u001b[1;32m-> 1336\u001b[1;33m                 \u001b[0mself\u001b[0m\u001b[1;33m,\u001b[0m \u001b[0metype\u001b[0m\u001b[1;33m,\u001b[0m \u001b[0mvalue\u001b[0m\u001b[1;33m,\u001b[0m \u001b[0mtb\u001b[0m\u001b[1;33m,\u001b[0m \u001b[0mtb_offset\u001b[0m\u001b[1;33m,\u001b[0m \u001b[0mnumber_of_lines_of_context\u001b[0m\u001b[1;33m\u001b[0m\u001b[1;33m\u001b[0m\u001b[0m\n\u001b[0m\u001b[0;32m   1337\u001b[0m             )\n\u001b[0;32m   1338\u001b[0m         \u001b[1;32melif\u001b[0m \u001b[0mmode\u001b[0m \u001b[1;33m==\u001b[0m \u001b[1;34m'Minimal'\u001b[0m\u001b[1;33m:\u001b[0m\u001b[1;33m\u001b[0m\u001b[1;33m\u001b[0m\u001b[0m\n",
      "\u001b[1;32m~\\anaconda3\\envs\\twitter\\lib\\site-packages\\IPython\\core\\ultratb.py\u001b[0m in \u001b[0;36mstructured_traceback\u001b[1;34m(self, etype, evalue, etb, tb_offset, number_of_lines_of_context)\u001b[0m\n\u001b[0;32m   1191\u001b[0m \u001b[1;33m\u001b[0m\u001b[0m\n\u001b[0;32m   1192\u001b[0m         formatted_exception = self.format_exception_as_a_whole(etype, evalue, etb, number_of_lines_of_context,\n\u001b[1;32m-> 1193\u001b[1;33m                                                                tb_offset)\n\u001b[0m\u001b[0;32m   1194\u001b[0m \u001b[1;33m\u001b[0m\u001b[0m\n\u001b[0;32m   1195\u001b[0m         \u001b[0mcolors\u001b[0m \u001b[1;33m=\u001b[0m \u001b[0mself\u001b[0m\u001b[1;33m.\u001b[0m\u001b[0mColors\u001b[0m  \u001b[1;31m# just a shorthand + quicker name lookup\u001b[0m\u001b[1;33m\u001b[0m\u001b[1;33m\u001b[0m\u001b[0m\n",
      "\u001b[1;32m~\\anaconda3\\envs\\twitter\\lib\\site-packages\\IPython\\core\\ultratb.py\u001b[0m in \u001b[0;36mformat_exception_as_a_whole\u001b[1;34m(self, etype, evalue, etb, number_of_lines_of_context, tb_offset)\u001b[0m\n\u001b[0;32m   1148\u001b[0m \u001b[1;33m\u001b[0m\u001b[0m\n\u001b[0;32m   1149\u001b[0m \u001b[1;33m\u001b[0m\u001b[0m\n\u001b[1;32m-> 1150\u001b[1;33m         \u001b[0mlast_unique\u001b[0m\u001b[1;33m,\u001b[0m \u001b[0mrecursion_repeat\u001b[0m \u001b[1;33m=\u001b[0m \u001b[0mfind_recursion\u001b[0m\u001b[1;33m(\u001b[0m\u001b[0morig_etype\u001b[0m\u001b[1;33m,\u001b[0m \u001b[0mevalue\u001b[0m\u001b[1;33m,\u001b[0m \u001b[0mrecords\u001b[0m\u001b[1;33m)\u001b[0m\u001b[1;33m\u001b[0m\u001b[1;33m\u001b[0m\u001b[0m\n\u001b[0m\u001b[0;32m   1151\u001b[0m \u001b[1;33m\u001b[0m\u001b[0m\n\u001b[0;32m   1152\u001b[0m         \u001b[0mframes\u001b[0m \u001b[1;33m=\u001b[0m \u001b[0mself\u001b[0m\u001b[1;33m.\u001b[0m\u001b[0mformat_records\u001b[0m\u001b[1;33m(\u001b[0m\u001b[0mrecords\u001b[0m\u001b[1;33m,\u001b[0m \u001b[0mlast_unique\u001b[0m\u001b[1;33m,\u001b[0m \u001b[0mrecursion_repeat\u001b[0m\u001b[1;33m)\u001b[0m\u001b[1;33m\u001b[0m\u001b[1;33m\u001b[0m\u001b[0m\n",
      "\u001b[1;32m~\\anaconda3\\envs\\twitter\\lib\\site-packages\\IPython\\core\\ultratb.py\u001b[0m in \u001b[0;36mfind_recursion\u001b[1;34m(etype, value, records)\u001b[0m\n\u001b[0;32m    449\u001b[0m     \u001b[1;31m# first frame (from in to out) that looks different.\u001b[0m\u001b[1;33m\u001b[0m\u001b[1;33m\u001b[0m\u001b[1;33m\u001b[0m\u001b[0m\n\u001b[0;32m    450\u001b[0m     \u001b[1;32mif\u001b[0m \u001b[1;32mnot\u001b[0m \u001b[0mis_recursion_error\u001b[0m\u001b[1;33m(\u001b[0m\u001b[0metype\u001b[0m\u001b[1;33m,\u001b[0m \u001b[0mvalue\u001b[0m\u001b[1;33m,\u001b[0m \u001b[0mrecords\u001b[0m\u001b[1;33m)\u001b[0m\u001b[1;33m:\u001b[0m\u001b[1;33m\u001b[0m\u001b[1;33m\u001b[0m\u001b[0m\n\u001b[1;32m--> 451\u001b[1;33m         \u001b[1;32mreturn\u001b[0m \u001b[0mlen\u001b[0m\u001b[1;33m(\u001b[0m\u001b[0mrecords\u001b[0m\u001b[1;33m)\u001b[0m\u001b[1;33m,\u001b[0m \u001b[1;36m0\u001b[0m\u001b[1;33m\u001b[0m\u001b[1;33m\u001b[0m\u001b[0m\n\u001b[0m\u001b[0;32m    452\u001b[0m \u001b[1;33m\u001b[0m\u001b[0m\n\u001b[0;32m    453\u001b[0m     \u001b[1;31m# Select filename, lineno, func_name to track frames with\u001b[0m\u001b[1;33m\u001b[0m\u001b[1;33m\u001b[0m\u001b[1;33m\u001b[0m\u001b[0m\n",
      "\u001b[1;31mTypeError\u001b[0m: object of type 'NoneType' has no len()"
     ]
    }
   ],
   "source": [
    "posPercent = []\n",
    "negPercent = []\n",
    "numTweets = []\n",
    "dates = []\n",
    "\n",
    "start_date = datetime.strptime('2020-02-11', '%Y-%m-%d')\n",
    "\n",
    "while start_date != datetime.strptime('2020-08-17', '%Y-%m-%d'):\n",
    "    dates.append(start_date)\n",
    "    tweetCriteria = got.manager.TweetCriteria().setQuerySearch(\"alferdez\").setSince(start_date.strftime('%Y-%m-%d')).setUntil((start_date + timedelta(days=1)).strftime('%Y-%m-%d')).setMaxTweets(100)\n",
    "    tweets = got.manager.TweetManager.getTweets(tweetCriteria)\n",
    "    \n",
    "    ptweet = 0\n",
    "    ntweet = 0\n",
    "    for tweet in tweets:\n",
    "        text = ' '.join(re.sub(\"(@[A-Za-z0-9]+)|([^0-9A-Za-z \\t]) |(\\w+:\\/\\/\\S+)\", \" \", tweet.text).split())\n",
    "        ptweet += (TextBlob(text).sentiment.polarity > 0.2)\n",
    "        ntweet += (TextBlob(text).sentiment.polarity < -0.2)\n",
    "    \n",
    "    posPercent.append(100*ptweet/len(tweets))\n",
    "    negPercent.append(100*ntweet/len(tweets))\n",
    "    numTweets.append(len(tweets))\n",
    "    \n",
    "    start_date += timedelta(days=1)"
   ]
  },
  {
   "cell_type": "code",
   "execution_count": null,
   "metadata": {},
   "outputs": [],
   "source": [
    "data = pd.DataFrame(list(zip(dates, numTweets, posPercent, negPercent)), columns=['Date','Num Tweets', '% Pos', '% Neg'])\n",
    "fig = go.Figure()\n",
    "\n",
    "fig.add_trace(go.Scatter(x=data.Date, y=data['% Pos'],\n",
    "                    mode='lines',\n",
    "                    name='% Pos'))\n",
    "fig.add_trace(go.Scatter(x=data.Date, y=data['% Neg'],\n",
    "                    mode='lines',\n",
    "                    name='% Neg'))\n",
    "fig.update_layout(title='Twitter Sentiment Analysis of Alber\\'s Coronavirus Response',\n",
    "                   xaxis_title='Date',\n",
    "                   yaxis_title='Percentage')\n",
    "fig.show()"
   ]
  },
  {
   "cell_type": "code",
   "execution_count": null,
   "metadata": {},
   "outputs": [],
   "source": []
  },
  {
   "cell_type": "code",
   "execution_count": null,
   "metadata": {},
   "outputs": [],
   "source": []
  }
 ],
 "metadata": {
  "kernelspec": {
   "display_name": "Python 3",
   "language": "python",
   "name": "python3"
  },
  "language_info": {
   "codemirror_mode": {
    "name": "ipython",
    "version": 3
   },
   "file_extension": ".py",
   "mimetype": "text/x-python",
   "name": "python",
   "nbconvert_exporter": "python",
   "pygments_lexer": "ipython3",
   "version": "3.7.6"
  }
 },
 "nbformat": 4,
 "nbformat_minor": 4
}
