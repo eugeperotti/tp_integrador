{
 "cells": [
  {
   "cell_type": "markdown",
   "metadata": {},
   "source": [
    "# Imports."
   ]
  },
  {
   "cell_type": "code",
   "execution_count": 2,
   "metadata": {},
   "outputs": [],
   "source": [
    "import numpy as np\n",
    "import pandas as pd\n",
    "import GetOldTweets3 as got\n",
    "from datetime import datetime, timedelta\n",
    "from textblob import TextBlob\n",
    "import re\n",
    "import plotly.express as px\n",
    "import plotly.graph_objects as go\n"
   ]
  },
  {
   "cell_type": "markdown",
   "metadata": {},
   "source": [
    "## Configuración Plotly."
   ]
  },
  {
   "cell_type": "code",
   "execution_count": 3,
   "metadata": {},
   "outputs": [],
   "source": [
    "#chart-studio api\n",
    "#username = 'manuperotti' # your username\n",
    "#api_key = 'fx2Eyo4k8cSx0z5eo3A0' # your api api_key\n",
    "#chart_studio.tools.set_credentials_file(username=username, api_key=api_key)"
   ]
  },
  {
   "cell_type": "markdown",
   "metadata": {},
   "source": [
    "# Tweet Collection."
   ]
  },
  {
   "cell_type": "code",
   "execution_count": 4,
   "metadata": {},
   "outputs": [],
   "source": [
    "# Note: setSince takes in a date as a string formatted as yyyy-mm-dd, e.g. 2020-01-02 is January 2nd, 2020\n",
    "tweetCriteria = got.manager.TweetCriteria().setQuerySearch(\"alferdez\").setSince(datetime.fromtimestamp(20200814).strftime('%Y-%m-%d')).setMaxTweets(500)\n",
    "tweets = got.manager.TweetManager.getTweets(tweetCriteria)"
   ]
  },
  {
   "cell_type": "markdown",
   "metadata": {},
   "source": [
    "# Sentiment analysis."
   ]
  },
  {
   "cell_type": "code",
   "execution_count": 7,
   "metadata": {},
   "outputs": [
    {
     "name": "stdout",
     "output_type": "stream",
     "text": [
      "6% of tweets were positive\n",
      "0% of tweets were negative\n",
      "....\n",
      "Examples of Positive Tweets\n",
      "....\n",
      "¿USAS GOOGLE CHROME Lo siento por las mayúsculas pero existe un nuevo navegador que es más rápido y más privado que Chrome (bloquea los anuncios y los rastreadores lo cual ahorra tiempo de carga) La interfaz es exactamente igual que la de Chrome Brave lo supera en todo.\n",
      "--\n",
      "Check out Audio Book Elven Magic on Audible amazon pay $75 for every bounty(have to be a member for 91 days consecutively .\n",
      "--\n",
      "En 8 meses el gobierno popular del Régimen Kirchnerista con presidencia dual de y ha logrado que tengamos una inflación real cada vez más alta una pobreza que crece (18 millones de pobres),\n",
      "--\n",
      "¿USAS GOOGLE CHROME Lo siento por las mayúsculas pero existe un nuevo navegador que es más rápido y más privado que Chrome (bloquea los anuncios y los rastreadores lo cual ahorra tiempo de carga) La interfaz es exactamente igual que la de Chrome Brave lo supera en todo.\n",
      "--\n",
      "¿USAS GOOGLE CHROME Lo siento por las mayúsculas pero existe un nuevo navegador que es más rápido y más privado que Chrome (bloquea los anuncios y los rastreadores lo cual ahorra tiempo de carga) La interfaz es exactamente igual que la de Chrome Brave lo supera en todo.\n",
      "--\n",
      "....\n",
      "Examples of Negative Tweets\n",
      "....\n"
     ]
    }
   ],
   "source": [
    "ptweet = []\n",
    "ntweet = []\n",
    "for tweet in tweets[0:500]:\n",
    "    # remove links and other special characters\n",
    "    text = ' '.join(re.sub(\"(@[A-Za-z0-9]+)|([^0-9A-Za-z \\t]) |(\\w+:\\/\\/\\S+)\", \" \", tweet.text).split())\n",
    "    if TextBlob(text).sentiment.polarity > 0.2:\n",
    "        ptweet.append(text)\n",
    "    elif TextBlob(text).sentiment.polarity < -0.2:\n",
    "        ntweet.append(text)\n",
    "print(\"{}% of tweets were positive\".format(len(ptweet)))\n",
    "print(\"{}% of tweets were negative\".format(len(ntweet)))\n",
    "print(\"....\")\n",
    "print(\"Examples of Positive Tweets\")\n",
    "print(\"....\")\n",
    "for i in range(5):\n",
    "    print(ptweet[i])\n",
    "    print('--')\n",
    "print(\"....\")\n",
    "print(\"Examples of Negative Tweets\")\n",
    "print(\"....\")\n",
    "\n",
    "if len(ntweet) >= 2:\n",
    "    for i in range(2):\n",
    "        print(ntweet[i])\n",
    "        print('--')"
   ]
  },
  {
   "cell_type": "markdown",
   "metadata": {},
   "source": [
    "# Combinando las dos cosas.\n",
    "Combina la colección y el análisis de los tweets y plotea los resultados."
   ]
  },
  {
   "cell_type": "code",
   "execution_count": null,
   "metadata": {},
   "outputs": [],
   "source": [
    "posPercent = []\n",
    "negPercent = []\n",
    "numTweets = []\n",
    "dates = []\n",
    "\n",
    "start_date = datetime.strptime('2020-02-11', '%Y-%m-%d')\n",
    "\n",
    "while start_date != datetime.strptime('2020-04-11', '%Y-%m-%d'):\n",
    "    dates.append(start_date)\n",
    "    tweetCriteria = got.manager.TweetCriteria().setQuerySearch(\"trump covid\").setSince(start_date.strftime('%Y-%m-%d')).setUntil((start_date + timedelta(days=1)).strftime('%Y-%m-%d')).setMaxTweets(100)\n",
    "    tweets = got.manager.TweetManager.getTweets(tweetCriteria)\n",
    "    \n",
    "    ptweet = 0\n",
    "    ntweet = 0\n",
    "    for tweet in tweets:\n",
    "        text = ' '.join(re.sub(\"(@[A-Za-z0-9]+)|([^0-9A-Za-z \\t]) |(\\w+:\\/\\/\\S+)\", \" \", tweet.text).split())\n",
    "        ptweet += (TextBlob(text).sentiment.polarity > 0.2)\n",
    "        ntweet += (TextBlob(text).sentiment.polarity < -0.2)\n",
    "    \n",
    "    posPercent.append(100*ptweet/len(tweets))\n",
    "    negPercent.append(100*ntweet/len(tweets))\n",
    "    numTweets.append(len(tweets))\n",
    "    \n",
    "    start_date += timedelta(days=1)"
   ]
  },
  {
   "cell_type": "code",
   "execution_count": null,
   "metadata": {},
   "outputs": [],
   "source": [
    "data = pd.DataFrame(list(zip(dates, numTweets, posPercent, negPercent)), columns=['Date','Num Tweets', '% Pos', '% Neg'])\n",
    "fig = go.Figure()\n",
    "\n",
    "fig.add_trace(go.Scatter(x=data.Date, y=data['% Pos'],\n",
    "                    mode='lines',\n",
    "                    name='% Pos'))\n",
    "fig.add_trace(go.Scatter(x=data.Date, y=data['% Neg'],\n",
    "                    mode='lines',\n",
    "                    name='% Neg'))\n",
    "fig.update_layout(title='Twitter Sentiment Analysis of Trump\\'s Coronavirus Response',\n",
    "                   xaxis_title='Date',\n",
    "                   yaxis_title='Percentage')\n",
    "fig.show()"
   ]
  },
  {
   "cell_type": "code",
   "execution_count": null,
   "metadata": {},
   "outputs": [],
   "source": []
  },
  {
   "cell_type": "code",
   "execution_count": null,
   "metadata": {},
   "outputs": [],
   "source": []
  }
 ],
 "metadata": {
  "kernelspec": {
   "display_name": "Python 3",
   "language": "python",
   "name": "python3"
  },
  "language_info": {
   "codemirror_mode": {
    "name": "ipython",
    "version": 3
   },
   "file_extension": ".py",
   "mimetype": "text/x-python",
   "name": "python",
   "nbconvert_exporter": "python",
   "pygments_lexer": "ipython3",
   "version": "3.7.7"
  }
 },
 "nbformat": 4,
 "nbformat_minor": 4
}
