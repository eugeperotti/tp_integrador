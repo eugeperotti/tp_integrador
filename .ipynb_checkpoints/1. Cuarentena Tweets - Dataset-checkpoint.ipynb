{
 "cells": [
  {
   "cell_type": "markdown",
   "metadata": {
    "colab_type": "text",
    "id": "3Oqd4y5orF8h"
   },
   "source": [
    "<img src=\"https://www.digitalhouse.com/logo-DH.png\" width=\"200\" height=\"100\" align=\"left\">"
   ]
  },
  {
   "cell_type": "markdown",
   "metadata": {
    "colab_type": "text",
    "id": "ogFYft1srF8i"
   },
   "source": [
    "<h3><b>Curso:</b> Data Science / <b>Año:</b> 2020 / <b>Sede:</b> Casa</h3>"
   ]
  },
  {
   "cell_type": "markdown",
   "metadata": {
    "colab_type": "text",
    "id": "5E3bYYforF8i"
   },
   "source": [
    "-----"
   ]
  },
  {
   "cell_type": "markdown",
   "metadata": {
    "colab_type": "text",
    "id": "dn7OMfFurF8j"
   },
   "source": [
    "<h3><b>TP Integrador:</b> Text Mining de <i>tweets</i> de anuncios del gobierno durante la cuarentena.</h3>\n",
    "<blockquote>\n",
    "        <ul>\n",
    "          <li><i>Sentiment analysis</i> de los comentarios de los usuarios.</li>\n",
    "          <li>Clustering de <i>tweets</i> de los usuarios.</li>\n",
    "        </ul>\n",
    "</blockquote>"
   ]
  },
  {
   "cell_type": "markdown",
   "metadata": {
    "colab_type": "text",
    "id": "gHhEZxazrF8j"
   },
   "source": [
    "<h3><b>Grupo 10:</b></h3>\n",
    "<blockquote>\n",
    "        <ul>\n",
    "          <li>Maria Eugenia Perotti</li>\n",
    "          <li>Gastón Ortíz</li>\n",
    "        </ul>\n",
    "</blockquote>"
   ]
  },
  {
   "cell_type": "markdown",
   "metadata": {},
   "source": [
    "# Preparación de libraries y funciones.\n",
    "## Imports."
   ]
  },
  {
   "cell_type": "code",
   "execution_count": 4,
   "metadata": {},
   "outputs": [],
   "source": [
    "import numpy as np\n",
    "import pandas as pd\n",
    "import GetOldTweets3 as got\n",
    "import datetime\n",
    "from textblob import TextBlob\n",
    "import re\n",
    "import unidecode"
   ]
  },
  {
   "cell_type": "markdown",
   "metadata": {},
   "source": [
    "## Definición de funciones.\n",
    "En esta sección definimos las funciones que vamos a utilizar en la notebook."
   ]
  },
  {
   "cell_type": "markdown",
   "metadata": {},
   "source": [
    "### Función para obtener los tweets de acuerdo a los criterios de búsqueda."
   ]
  },
  {
   "cell_type": "code",
   "execution_count": 5,
   "metadata": {},
   "outputs": [],
   "source": [
    "def get_tweets(list_criterios, fecha_inicio, fecha_final, ubicacion, radio, maximo=250):\n",
    "    tweets_total = []\n",
    "    for criterio in list_criterios:\n",
    "        tweetCriteria = got.manager.TweetCriteria().setQuerySearch(criterio).setSince(fecha_inicio).setUntil(fecha_final).setLang(\"es\").setNear(ubicacion).setWithin(radio).setMaxTweets(maximo)\n",
    "        tweets_total = got.manager.TweetManager.getTweets(tweetCriteria)\n",
    "    return tweets_total"
   ]
  },
  {
   "cell_type": "markdown",
   "metadata": {},
   "source": [
    "### Función para limpiar los tweets."
   ]
  },
  {
   "cell_type": "code",
   "execution_count": 6,
   "metadata": {},
   "outputs": [],
   "source": [
    "def limpiar(tweet_texto):\n",
    "    text = ' '.join(re.sub(r\"(@)|([^0-9A-Za-z \\t])|(www.[^ ]+)|(https?://[^ ]+)\", \"\", unidecode.unidecode(tweet_texto.lower())).split())\n",
    "    return text"
   ]
  },
  {
   "cell_type": "markdown",
   "metadata": {},
   "source": [
    "### Función para crear un dataframe en base a los tweets."
   ]
  },
  {
   "cell_type": "code",
   "execution_count": 16,
   "metadata": {},
   "outputs": [],
   "source": [
    "def create_df(tweets_anuncios):\n",
    "    datos = []\n",
    "    for anuncio in tweets_anuncios:\n",
    "        for ciudad in tweets_anuncios[anuncio]: \n",
    "            for tweet in tweets_anuncios[anuncio][ciudad]:\n",
    "                registro = {'username': tweet.username, 'tweet': limpiar(tweet.text), \\\n",
    "                            'fecha': tweet.date, 'anuncio':anuncio, 'ubicacion':ciudad, 'id':tweet.id}\n",
    "                datos.append(registro)\n",
    "    df = pd.DataFrame(data=datos)    \n",
    "    return df"
   ]
  },
  {
   "cell_type": "markdown",
   "metadata": {},
   "source": [
    "# Obtención de tweets.\n",
    "En esta sección definimos los criterios de búsqueda y ejecutamos las funciones descritas previamente."
   ]
  },
  {
   "cell_type": "markdown",
   "metadata": {},
   "source": [
    "## Criterios de búsqueda.\n",
    "<b><u>Ciudades:</u></b>\n",
    "* Buenos Aires\n",
    "* Cordoba\n",
    "* Rosario\n",
    "* Mendoza\n",
    "* Tucumán\n",
    "* San Juan\n",
    "* Neuquén\n",
    "* Paraná\n",
    "* Comodoro Rivadavia\n",
    "\n",
    "<b><u>Cuentas:</u></b>\n",
    "* Ministerio de Salud de la Nación | @msalnacion\n",
    "* Casa Rosada | @CasaRosada\n",
    "* Horacio Rodríguez Larreta | @horaciorlarreta\n",
    "* Alberto Fernández | @alferdez\n",
    "* Alberto Fernández Prensa | @alferdezprensa\n",
    "* Axel Kicillof | @Kicillofok\n",
    "* Cristina Kirchner | @CFKArgentina\n",
    "\n",
    "<b><u>Hashtags:</u></b>\n",
    "* #covid19\n",
    "* #covid\n",
    "* #coronavirus\n",
    "* #cuarentena\n",
    "* #albertofernandez"
   ]
  },
  {
   "cell_type": "markdown",
   "metadata": {},
   "source": [
    "Procedemos a declarar los parámetros que utilizaremos para las búsquedas:"
   ]
  },
  {
   "cell_type": "code",
   "execution_count": 8,
   "metadata": {},
   "outputs": [],
   "source": [
    "fecha_inicio = [\"2020-03-19T21:00:38Z\",\"2020-03-29T20:00:38Z\",\"2020-04-10T20:00:38Z\",\"2020-04-25T18:00:38Z\",\"2020-05-08T20:00:38Z\",\"2020-05-23T20:00:38Z\",\"2020-06-04T20:00:38Z\",\"2020-06-26T18:00:38Z\",\"2020-07-17T14:00:38Z\",\"2020-07-31T14:00:38Z\",\"2020-08-14T14:00:38Z\"]\n",
    "fecha_final =  [\"2020-03-20T04:00:38Z\",\"2020-03-30T04:00:38Z\",\"2020-04-11T04:00:38Z\",\"2020-04-26T04:00:38Z\",\"2020-05-09T04:00:38Z\",\"2020-05-24T04:00:38Z\",\"2020-06-05T04:00:38Z\",\"2020-06-27T04:00:38Z\",\"2020-07-18T04:00:38Z\",\"2020-08-01T04:00:38Z\",\"2020-08-15T04:00:38Z\"]\n",
    "criterios = [\"covid19\",\"cuarentena\",\"covid\",\"coronavirus\",\"msalnacion\",\"CasaRosada\",\"alferdez\", \"horaciorlarreta\", \"alferdezprensa\", \"Kicillofok\", \"CFKArgentina\"]\n",
    "ciudades = [\"Buenos Aires, Argentina\",\"Cordoba, Argentina\",\"Rosario, Argentina\",\"Mendoza, Argentina\",\"Tucumán, Argentina\",\"San Juan, Argentina\",\"Neuquén, Argentina\",\"Paraná, Argentina\",\"Comodoro Rivadavia, Argentina\"]\n",
    "radio = \"200km\"\n",
    "maximo = 10"
   ]
  },
  {
   "cell_type": "markdown",
   "metadata": {},
   "source": [
    "Ejecutamos la función para traer los tweets:"
   ]
  },
  {
   "cell_type": "code",
   "execution_count": null,
   "metadata": {},
   "outputs": [],
   "source": [
    "dic_tweets = {}\n",
    "for i in range(len(fecha_inicio)):\n",
    "    dic_tweets[\"Anuncio_\"+str(i+1)] = {}\n",
    "    for ciudad in ciudades:\n",
    "        try:\n",
    "            dic_tweets[\"Anuncio_\"+str(i+1)][ciudad] = get_tweets(criterios,fecha_inicio[i],fecha_final[i],ciudad,radio,maximo)\n",
    "        except:\n",
    "            continue\n",
    "    print(i)"
   ]
  },
  {
   "cell_type": "markdown",
   "metadata": {},
   "source": [
    "# Creación y exportación del dataframe."
   ]
  },
  {
   "cell_type": "markdown",
   "metadata": {},
   "source": [
    "Ejecutamos la función para crear el dataframe y le pasamos como parámetros los tweets:"
   ]
  },
  {
   "cell_type": "code",
   "execution_count": 27,
   "metadata": {},
   "outputs": [],
   "source": [
    "df = create_df(dic_tweets)"
   ]
  },
  {
   "cell_type": "markdown",
   "metadata": {},
   "source": [
    "Verificamos que haya creado exitosamente el dataframe:"
   ]
  },
  {
   "cell_type": "code",
   "execution_count": 28,
   "metadata": {},
   "outputs": [
    {
     "data": {
      "text/html": [
       "<div>\n",
       "<style scoped>\n",
       "    .dataframe tbody tr th:only-of-type {\n",
       "        vertical-align: middle;\n",
       "    }\n",
       "\n",
       "    .dataframe tbody tr th {\n",
       "        vertical-align: top;\n",
       "    }\n",
       "\n",
       "    .dataframe thead th {\n",
       "        text-align: right;\n",
       "    }\n",
       "</style>\n",
       "<table border=\"1\" class=\"dataframe\">\n",
       "  <thead>\n",
       "    <tr style=\"text-align: right;\">\n",
       "      <th></th>\n",
       "      <th>username</th>\n",
       "      <th>tweet</th>\n",
       "      <th>fecha</th>\n",
       "      <th>anuncio</th>\n",
       "      <th>ubicacion</th>\n",
       "      <th>id</th>\n",
       "    </tr>\n",
       "  </thead>\n",
       "  <tbody>\n",
       "    <tr>\n",
       "      <th>0</th>\n",
       "      <td>anaprgomez</td>\n",
       "      <td>los redondos</td>\n",
       "      <td>2020-03-19 23:50:32+00:00</td>\n",
       "      <td>Anuncio_1</td>\n",
       "      <td>Buenos Aires, Argentina</td>\n",
       "      <td>1240787772165799938</td>\n",
       "    </tr>\n",
       "    <tr>\n",
       "      <th>1</th>\n",
       "      <td>GamesRedDeer</td>\n",
       "      <td>what is your favorite party game have a look o...</td>\n",
       "      <td>2020-08-13 13:33:15+00:00</td>\n",
       "      <td>Anuncio_1</td>\n",
       "      <td>Buenos Aires, Argentina</td>\n",
       "      <td>1293903444135182338</td>\n",
       "    </tr>\n",
       "    <tr>\n",
       "      <th>2</th>\n",
       "      <td>JCesarRod</td>\n",
       "      <td>y nuestra valiente vp cfkargentina donde esta ...</td>\n",
       "      <td>2020-03-19 23:45:46+00:00</td>\n",
       "      <td>Anuncio_1</td>\n",
       "      <td>Buenos Aires, Argentina</td>\n",
       "      <td>1240786573131681793</td>\n",
       "    </tr>\n",
       "  </tbody>\n",
       "</table>\n",
       "</div>"
      ],
      "text/plain": [
       "       username                                              tweet  \\\n",
       "0    anaprgomez                                       los redondos   \n",
       "1  GamesRedDeer  what is your favorite party game have a look o...   \n",
       "2     JCesarRod  y nuestra valiente vp cfkargentina donde esta ...   \n",
       "\n",
       "                      fecha    anuncio                ubicacion  \\\n",
       "0 2020-03-19 23:50:32+00:00  Anuncio_1  Buenos Aires, Argentina   \n",
       "1 2020-08-13 13:33:15+00:00  Anuncio_1  Buenos Aires, Argentina   \n",
       "2 2020-03-19 23:45:46+00:00  Anuncio_1  Buenos Aires, Argentina   \n",
       "\n",
       "                    id  \n",
       "0  1240787772165799938  \n",
       "1  1293903444135182338  \n",
       "2  1240786573131681793  "
      ]
     },
     "execution_count": 28,
     "metadata": {},
     "output_type": "execute_result"
    }
   ],
   "source": [
    "df.head(3)"
   ]
  },
  {
   "cell_type": "markdown",
   "metadata": {},
   "source": [
    "Una vez que comprobamos que está todo OK, procedemos a exportar los tweets a un .csv para preservar la muestra. Usamos como separador el `;` para que cuando lo abramos en Excel se divida automáticamente en columnas."
   ]
  },
  {
   "cell_type": "code",
   "execution_count": 29,
   "metadata": {},
   "outputs": [],
   "source": [
    "df.to_csv('Data/tweets.csv', sep=';', index=False)"
   ]
  },
  {
   "cell_type": "markdown",
   "metadata": {},
   "source": [
    "Reimportaremos el dataset para asegurarnos de que todo haya salido bien."
   ]
  },
  {
   "cell_type": "code",
   "execution_count": 30,
   "metadata": {},
   "outputs": [],
   "source": [
    "df = pd.read_csv('Data/tweets.csv', sep=';')"
   ]
  },
  {
   "cell_type": "code",
   "execution_count": 31,
   "metadata": {},
   "outputs": [
    {
     "data": {
      "text/html": [
       "<div>\n",
       "<style scoped>\n",
       "    .dataframe tbody tr th:only-of-type {\n",
       "        vertical-align: middle;\n",
       "    }\n",
       "\n",
       "    .dataframe tbody tr th {\n",
       "        vertical-align: top;\n",
       "    }\n",
       "\n",
       "    .dataframe thead th {\n",
       "        text-align: right;\n",
       "    }\n",
       "</style>\n",
       "<table border=\"1\" class=\"dataframe\">\n",
       "  <thead>\n",
       "    <tr style=\"text-align: right;\">\n",
       "      <th></th>\n",
       "      <th>username</th>\n",
       "      <th>tweet</th>\n",
       "      <th>fecha</th>\n",
       "      <th>anuncio</th>\n",
       "      <th>ubicacion</th>\n",
       "      <th>id</th>\n",
       "    </tr>\n",
       "  </thead>\n",
       "  <tbody>\n",
       "    <tr>\n",
       "      <th>0</th>\n",
       "      <td>anaprgomez</td>\n",
       "      <td>los redondos</td>\n",
       "      <td>2020-03-19 23:50:32+00:00</td>\n",
       "      <td>Anuncio_1</td>\n",
       "      <td>Buenos Aires, Argentina</td>\n",
       "      <td>1240787772165799938</td>\n",
       "    </tr>\n",
       "    <tr>\n",
       "      <th>1</th>\n",
       "      <td>GamesRedDeer</td>\n",
       "      <td>what is your favorite party game have a look o...</td>\n",
       "      <td>2020-08-13 13:33:15+00:00</td>\n",
       "      <td>Anuncio_1</td>\n",
       "      <td>Buenos Aires, Argentina</td>\n",
       "      <td>1293903444135182338</td>\n",
       "    </tr>\n",
       "    <tr>\n",
       "      <th>2</th>\n",
       "      <td>JCesarRod</td>\n",
       "      <td>y nuestra valiente vp cfkargentina donde esta ...</td>\n",
       "      <td>2020-03-19 23:45:46+00:00</td>\n",
       "      <td>Anuncio_1</td>\n",
       "      <td>Buenos Aires, Argentina</td>\n",
       "      <td>1240786573131681793</td>\n",
       "    </tr>\n",
       "    <tr>\n",
       "      <th>3</th>\n",
       "      <td>heoaliascazon</td>\n",
       "      <td>te amo igual que a cfkargentina</td>\n",
       "      <td>2020-03-19 20:58:40+00:00</td>\n",
       "      <td>Anuncio_1</td>\n",
       "      <td>Buenos Aires, Argentina</td>\n",
       "      <td>1240744522251984897</td>\n",
       "    </tr>\n",
       "    <tr>\n",
       "      <th>4</th>\n",
       "      <td>DiegoCorsini</td>\n",
       "      <td>con tinelli leyendo ni lost era tan inverosimil</td>\n",
       "      <td>2020-03-19 20:56:25+00:00</td>\n",
       "      <td>Anuncio_1</td>\n",
       "      <td>Buenos Aires, Argentina</td>\n",
       "      <td>1240743955014266891</td>\n",
       "    </tr>\n",
       "  </tbody>\n",
       "</table>\n",
       "</div>"
      ],
      "text/plain": [
       "        username                                              tweet  \\\n",
       "0     anaprgomez                                       los redondos   \n",
       "1   GamesRedDeer  what is your favorite party game have a look o...   \n",
       "2      JCesarRod  y nuestra valiente vp cfkargentina donde esta ...   \n",
       "3  heoaliascazon                    te amo igual que a cfkargentina   \n",
       "4   DiegoCorsini    con tinelli leyendo ni lost era tan inverosimil   \n",
       "\n",
       "                       fecha    anuncio                ubicacion  \\\n",
       "0  2020-03-19 23:50:32+00:00  Anuncio_1  Buenos Aires, Argentina   \n",
       "1  2020-08-13 13:33:15+00:00  Anuncio_1  Buenos Aires, Argentina   \n",
       "2  2020-03-19 23:45:46+00:00  Anuncio_1  Buenos Aires, Argentina   \n",
       "3  2020-03-19 20:58:40+00:00  Anuncio_1  Buenos Aires, Argentina   \n",
       "4  2020-03-19 20:56:25+00:00  Anuncio_1  Buenos Aires, Argentina   \n",
       "\n",
       "                    id  \n",
       "0  1240787772165799938  \n",
       "1  1293903444135182338  \n",
       "2  1240786573131681793  \n",
       "3  1240744522251984897  \n",
       "4  1240743955014266891  "
      ]
     },
     "execution_count": 31,
     "metadata": {},
     "output_type": "execute_result"
    }
   ],
   "source": [
    "df.head()"
   ]
  },
  {
   "cell_type": "markdown",
   "metadata": {},
   "source": [
    "# EDA y Limpieza del dataset."
   ]
  },
  {
   "cell_type": "markdown",
   "metadata": {},
   "source": [
    "## Revisando la forma del Dataset."
   ]
  },
  {
   "cell_type": "code",
   "execution_count": 172,
   "metadata": {},
   "outputs": [
    {
     "data": {
      "text/html": [
       "<div>\n",
       "<style scoped>\n",
       "    .dataframe tbody tr th:only-of-type {\n",
       "        vertical-align: middle;\n",
       "    }\n",
       "\n",
       "    .dataframe tbody tr th {\n",
       "        vertical-align: top;\n",
       "    }\n",
       "\n",
       "    .dataframe thead th {\n",
       "        text-align: right;\n",
       "    }\n",
       "</style>\n",
       "<table border=\"1\" class=\"dataframe\">\n",
       "  <thead>\n",
       "    <tr style=\"text-align: right;\">\n",
       "      <th></th>\n",
       "      <th>username</th>\n",
       "      <th>tweet</th>\n",
       "      <th>fecha</th>\n",
       "      <th>anuncio</th>\n",
       "      <th>ubicacion</th>\n",
       "      <th>id</th>\n",
       "    </tr>\n",
       "  </thead>\n",
       "  <tbody>\n",
       "    <tr>\n",
       "      <th>0</th>\n",
       "      <td>Nerinapf</td>\n",
       "      <td>por favor la gente que esta en la calle y tien...</td>\n",
       "      <td>2020-03-19 23:58:22+00:00</td>\n",
       "      <td>Anuncio_1</td>\n",
       "      <td>Buenos Aires, Argentina</td>\n",
       "      <td>1240789742494580000</td>\n",
       "    </tr>\n",
       "    <tr>\n",
       "      <th>1</th>\n",
       "      <td>MileParamo</td>\n",
       "      <td>todxs sin coronavirus pero con hantavirus esa ...</td>\n",
       "      <td>2020-03-19 23:57:59+00:00</td>\n",
       "      <td>Anuncio_1</td>\n",
       "      <td>Buenos Aires, Argentina</td>\n",
       "      <td>1240789649938960000</td>\n",
       "    </tr>\n",
       "    <tr>\n",
       "      <th>2</th>\n",
       "      <td>Maiferretti</td>\n",
       "      <td>no puedo creer q sigan tomandose en joda lo de...</td>\n",
       "      <td>2020-03-19 23:56:53+00:00</td>\n",
       "      <td>Anuncio_1</td>\n",
       "      <td>Buenos Aires, Argentina</td>\n",
       "      <td>1240789371130910000</td>\n",
       "    </tr>\n",
       "  </tbody>\n",
       "</table>\n",
       "</div>"
      ],
      "text/plain": [
       "      username                                              tweet  \\\n",
       "0     Nerinapf  por favor la gente que esta en la calle y tien...   \n",
       "1   MileParamo  todxs sin coronavirus pero con hantavirus esa ...   \n",
       "2  Maiferretti  no puedo creer q sigan tomandose en joda lo de...   \n",
       "\n",
       "                       fecha    anuncio                ubicacion  \\\n",
       "0  2020-03-19 23:58:22+00:00  Anuncio_1  Buenos Aires, Argentina   \n",
       "1  2020-03-19 23:57:59+00:00  Anuncio_1  Buenos Aires, Argentina   \n",
       "2  2020-03-19 23:56:53+00:00  Anuncio_1  Buenos Aires, Argentina   \n",
       "\n",
       "                    id  \n",
       "0  1240789742494580000  \n",
       "1  1240789649938960000  \n",
       "2  1240789371130910000  "
      ]
     },
     "execution_count": 172,
     "metadata": {},
     "output_type": "execute_result"
    }
   ],
   "source": [
    "df.head(3)"
   ]
  },
  {
   "cell_type": "code",
   "execution_count": 173,
   "metadata": {},
   "outputs": [
    {
     "data": {
      "text/plain": [
       "(6014, 6)"
      ]
     },
     "execution_count": 173,
     "metadata": {},
     "output_type": "execute_result"
    }
   ],
   "source": [
    "df.shape"
   ]
  },
  {
   "cell_type": "code",
   "execution_count": 174,
   "metadata": {},
   "outputs": [
    {
     "name": "stdout",
     "output_type": "stream",
     "text": [
      "<class 'pandas.core.frame.DataFrame'>\n",
      "RangeIndex: 6014 entries, 0 to 6013\n",
      "Data columns (total 6 columns):\n",
      " #   Column     Non-Null Count  Dtype \n",
      "---  ------     --------------  ----- \n",
      " 0   username   6014 non-null   object\n",
      " 1   tweet      6014 non-null   object\n",
      " 2   fecha      6014 non-null   object\n",
      " 3   anuncio    6014 non-null   object\n",
      " 4   ubicacion  6014 non-null   object\n",
      " 5   id         6014 non-null   int64 \n",
      "dtypes: int64(1), object(5)\n",
      "memory usage: 282.0+ KB\n"
     ]
    }
   ],
   "source": [
    "df.info()"
   ]
  },
  {
   "cell_type": "code",
   "execution_count": 175,
   "metadata": {},
   "outputs": [
    {
     "data": {
      "text/html": [
       "<div>\n",
       "<style scoped>\n",
       "    .dataframe tbody tr th:only-of-type {\n",
       "        vertical-align: middle;\n",
       "    }\n",
       "\n",
       "    .dataframe tbody tr th {\n",
       "        vertical-align: top;\n",
       "    }\n",
       "\n",
       "    .dataframe thead th {\n",
       "        text-align: right;\n",
       "    }\n",
       "</style>\n",
       "<table border=\"1\" class=\"dataframe\">\n",
       "  <thead>\n",
       "    <tr style=\"text-align: right;\">\n",
       "      <th></th>\n",
       "      <th>id</th>\n",
       "    </tr>\n",
       "  </thead>\n",
       "  <tbody>\n",
       "    <tr>\n",
       "      <th>count</th>\n",
       "      <td>6.014000e+03</td>\n",
       "    </tr>\n",
       "    <tr>\n",
       "      <th>mean</th>\n",
       "      <td>1.267408e+18</td>\n",
       "    </tr>\n",
       "    <tr>\n",
       "      <th>std</th>\n",
       "      <td>2.372985e+16</td>\n",
       "    </tr>\n",
       "    <tr>\n",
       "      <th>min</th>\n",
       "      <td>1.240428e+18</td>\n",
       "    </tr>\n",
       "    <tr>\n",
       "      <th>25%</th>\n",
       "      <td>1.244066e+18</td>\n",
       "    </tr>\n",
       "    <tr>\n",
       "      <th>50%</th>\n",
       "      <td>1.263996e+18</td>\n",
       "    </tr>\n",
       "    <tr>\n",
       "      <th>75%</th>\n",
       "      <td>1.294267e+18</td>\n",
       "    </tr>\n",
       "    <tr>\n",
       "      <th>max</th>\n",
       "      <td>1.294423e+18</td>\n",
       "    </tr>\n",
       "  </tbody>\n",
       "</table>\n",
       "</div>"
      ],
      "text/plain": [
       "                 id\n",
       "count  6.014000e+03\n",
       "mean   1.267408e+18\n",
       "std    2.372985e+16\n",
       "min    1.240428e+18\n",
       "25%    1.244066e+18\n",
       "50%    1.263996e+18\n",
       "75%    1.294267e+18\n",
       "max    1.294423e+18"
      ]
     },
     "execution_count": 175,
     "metadata": {},
     "output_type": "execute_result"
    }
   ],
   "source": [
    "df.describe()"
   ]
  },
  {
   "cell_type": "markdown",
   "metadata": {},
   "source": [
    "## Análisis de _features_."
   ]
  },
  {
   "cell_type": "markdown",
   "metadata": {},
   "source": [
    "### Valores de `username`."
   ]
  },
  {
   "cell_type": "code",
   "execution_count": 210,
   "metadata": {},
   "outputs": [
    {
     "name": "stdout",
     "output_type": "stream",
     "text": [
      "CaIabrese          56\n",
      "AgenciaDib         35\n",
      "HernanMundo        35\n",
      "IldefonsoM         32\n",
      "MartinD50004804    30\n",
      "                   ..\n",
      "SebaDaVinn          1\n",
      "carfer410           1\n",
      "SegoviaNay          1\n",
      "nahirtorres_        1\n",
      "lschfotografia      1\n",
      "Name: username, Length: 3585, dtype: int64\n"
     ]
    }
   ],
   "source": [
    "print(df.username.value_counts())"
   ]
  },
  {
   "cell_type": "code",
   "execution_count": null,
   "metadata": {},
   "outputs": [],
   "source": [
    "usuarios_mas_10_tweets = df['username'].isin(df['username'].value_counts()[df['username'].value_counts()> 10].index)\n",
    "df[usuarios_mas_10_tweets].username.value_counts()"
   ]
  },
  {
   "cell_type": "markdown",
   "metadata": {},
   "source": [
    "### Valores de `anuncio`."
   ]
  },
  {
   "cell_type": "code",
   "execution_count": 209,
   "metadata": {},
   "outputs": [
    {
     "name": "stdout",
     "output_type": "stream",
     "text": [
      "Anuncio_11    2281\n",
      "Anuncio_1     1465\n",
      "Anuncio_2      659\n",
      "Anuncio_3      439\n",
      "Anuncio_4      249\n",
      "Anuncio_5      182\n",
      "Anuncio_6      162\n",
      "Anuncio_8      153\n",
      "Anuncio_7      151\n",
      "Anuncio_10     147\n",
      "Anuncio_9      126\n",
      "Name: anuncio, dtype: int64\n"
     ]
    },
    {
     "data": {
      "text/plain": [
       "<AxesSubplot:title={'center':'Distribución de anuncio'}>"
      ]
     },
     "execution_count": 209,
     "metadata": {},
     "output_type": "execute_result"
    },
    {
     "data": {
      "image/png": "[encoded data removed]",
      "text/plain": [
       "<Figure size 432x288 with 1 Axes>"
      ]
     },
     "metadata": {
      "needs_background": "light"
     },
     "output_type": "display_data"
    }
   ],
   "source": [
    "print(df.anuncio.value_counts())\n",
    "plt.title('Distribución de anuncio')\n",
    "df.anuncio.value_counts().sort_index().plot(kind='bar')"
   ]
  },
  {
   "cell_type": "markdown",
   "metadata": {},
   "source": [
    "### Valores de `ubicacion`."
   ]
  },
  {
   "cell_type": "code",
   "execution_count": 204,
   "metadata": {},
   "outputs": [
    {
     "name": "stdout",
     "output_type": "stream",
     "text": [
      "Buenos Aires, Argentina          3557\n",
      "Cordoba, Argentina                649\n",
      "Rosario, Argentina                588\n",
      "Paraná, Argentina                 366\n",
      "Mendoza, Argentina                292\n",
      "Tucumán, Argentina                262\n",
      "Neuquén, Argentina                132\n",
      "San Juan, Argentina                85\n",
      "Comodoro Rivadavia, Argentina      83\n",
      "Name: ubicacion, dtype: int64\n"
     ]
    },
    {
     "data": {
      "text/plain": [
       "<AxesSubplot:title={'center':'Distribución de ubicacion'}>"
      ]
     },
     "execution_count": 204,
     "metadata": {},
     "output_type": "execute_result"
    },
    {
     "data": {
      "image/png": "[encoded data removed]",
      "text/plain": [
       "<Figure size 432x288 with 1 Axes>"
      ]
     },
     "metadata": {
      "needs_background": "light"
     },
     "output_type": "display_data"
    }
   ],
   "source": [
    "print(df.ubicacion.value_counts())\n",
    "plt.title('Distribución de ubicacion')\n",
    "df.ubicacion.value_counts().plot(kind='bar')"
   ]
  },
  {
   "cell_type": "markdown",
   "metadata": {},
   "source": [
    "### Valores de `fecha`."
   ]
  },
  {
   "cell_type": "code",
   "execution_count": 205,
   "metadata": {},
   "outputs": [
    {
     "name": "stdout",
     "output_type": "stream",
     "text": [
      "2020-08-14    2281\n",
      "2020-03-19    1465\n",
      "2020-03-29     659\n",
      "2020-04-10     439\n",
      "2020-04-25     249\n",
      "2020-05-08     182\n",
      "2020-05-23     162\n",
      "2020-06-26     153\n",
      "2020-06-04     151\n",
      "2020-07-31     147\n",
      "2020-07-17     126\n",
      "Name: fecha_sola, dtype: int64\n"
     ]
    },
    {
     "data": {
      "text/plain": [
       "<AxesSubplot:title={'center':'Distribución de fechas'}>"
      ]
     },
     "execution_count": 205,
     "metadata": {},
     "output_type": "execute_result"
    },
    {
     "data": {
      "image/png": "[encoded data removed]",
      "text/plain": [
       "<Figure size 432x288 with 1 Axes>"
      ]
     },
     "metadata": {
      "needs_background": "light"
     },
     "output_type": "display_data"
    }
   ],
   "source": [
    "print(df.fecha_sola.value_counts())\n",
    "df['fecha_sola'] = df['fecha'].map(lambda x: str(x)[:-15])\n",
    "plt.title('Distribución de fechas')\n",
    "df.fecha_sola.value_counts().sort_index().plot(kind='bar')"
   ]
  },
  {
   "cell_type": "markdown",
   "metadata": {},
   "source": [
    "Para poder aprovechar las funcionalidades después, es conveniente convertir el campo \"fecha\" en timestamp."
   ]
  },
  {
   "cell_type": "code",
   "execution_count": 284,
   "metadata": {},
   "outputs": [
    {
     "data": {
      "text/plain": [
       "datetime64[ns, UTC]"
      ]
     },
     "execution_count": 284,
     "metadata": {},
     "output_type": "execute_result"
    }
   ],
   "source": [
    "# Sacamos el '+00:00' del final\n",
    "#df['fecha'] = df['fecha'].map(lambda x: str(x)[:-6])\n",
    "df['fecha'] = pd.to_datetime(df['fecha'])\n",
    "df['fecha'].dtypes"
   ]
  },
  {
   "cell_type": "code",
   "execution_count": 285,
   "metadata": {},
   "outputs": [
    {
     "data": {
      "text/plain": [
       "0      2020-03-19 23:58:22+00:00\n",
       "1      2020-03-19 23:57:59+00:00\n",
       "2      2020-03-19 23:56:53+00:00\n",
       "3      2020-03-19 23:56:14+00:00\n",
       "4      2020-03-19 23:55:20+00:00\n",
       "                  ...           \n",
       "6009   2020-08-14 00:31:50+00:00\n",
       "6010   2020-08-14 00:26:18+00:00\n",
       "6011   2020-08-14 00:24:27+00:00\n",
       "6012   2020-08-14 00:07:58+00:00\n",
       "6013   2020-08-14 00:02:39+00:00\n",
       "Name: fecha, Length: 6014, dtype: datetime64[ns, UTC]"
      ]
     },
     "execution_count": 285,
     "metadata": {},
     "output_type": "execute_result"
    }
   ],
   "source": [
    "df['fecha']"
   ]
  },
  {
   "cell_type": "code",
   "execution_count": null,
   "metadata": {},
   "outputs": [],
   "source": [
    "df[usuarios_mas_10_tweets].to_csv('Data/usuarios_mas_10_tweets.csv', sep=';', index=False)"
   ]
  },
  {
   "cell_type": "markdown",
   "metadata": {},
   "source": [
    "### Valores de `tweet`."
   ]
  },
  {
   "cell_type": "markdown",
   "metadata": {},
   "source": [
    "Procedemos a chusmear los valores de los tweets."
   ]
  },
  {
   "cell_type": "code",
   "execution_count": 55,
   "metadata": {},
   "outputs": [
    {
     "data": {
      "text/plain": [
       "107                                    cheee bombacha veloz si vos cfkargentina decime si con este hombresote no se te mojan los calzones invita a las chicas del club de malkogidas paganomarcela maclorena gabicerru lilianafranco20 vikidonda ofefernandez y myriambregman entre otras\n",
       "93                                                                                         me extranael conceptoobturar convenios que nos subirdinaban a papel de economia primarizada era urgenteel neoliberalismo que copo al mercosur es letal adalides de la necropolitica vade retro\n",
       "22                                                                                                                         albertoestan echando companeros rocca a la carcel y embargo de sus infinitas empresas son privilegiados son estos los unicospriveligiadosalferdez cfkargentina\n",
       "58                                                                                                                                               cual rechazo cfkargentina hizo una consulta como siempre deformando y ocultamdo la verdad udsaunque tambien lo tuyo puede ser ignorancia\n",
       "144                                                                                                                                                               eze les importa un pedo estan a full y no pararan hasta voltear este gobierno estamos solo denunciando poco estas cosas\n",
       "73                                exacto aunque algunos medios lanacion y periodistas luisnovaresio digan que perdio y las quieran tratar de burras a cfkargentina y gracepenafort les molesta y saben lo que fueron a buscar y que les sobra astucia ahora no podran oponerse a sesionar\n",
       "79                                                                                                                                                                                  they say its one of the hardest logic game ever 100 levels global ranking try now nintendo xbox steam\n",
       "125                                                                                                          durante los gobiernos de nestor y cfkargentina la situacion era exactamente la misma la diferencia es que ellos gobernaban o sea ejercian el poder consensuar en el congreso\n",
       "129                                                                                                                                                      vergonzoso todo un mamarracho y gastaron millones en esas pantallas vayan al teatro colon o a una cancha tanto lio para trabajar\n",
       "35                                                                      lo publicaron en facebook sin nombre del autor y me emociono muchisimo sinceramente hoy me sentia abatida y senti que a muchos como a mi les haria bien leerlo si consigo el nombre de su autor prometo agregarlo\n",
       "100                                                                                                                                                            cfkargentina y gracepenafort un par de escalones arriba del resto citando a pablitolescano mas de un cheto se quiere matar\n",
       "60                                                                                                                                                                                                                                por suerte ahora tenemos el mejor equipo de cientificos\n",
       "41                                                  no estan para que alferdez invite a cfkargentina a la proxima conferencia necesito verla en cuasi cadena nacional de nuevo escuchar su voz algo please y leer publis gorilas consecuentes para reir toda la semana en casa obviamente\n",
       "122    cuando la muchachada aplaude el apoyo a este gobierno el q elegimos los del frente de todos no lo pueden comparar con el d cfkargentina a cristina la cgt le hizo 5 paros x ganancias a macri ninguno y en este gobierno firmaron un descuento del 25 del salario compara el apoyo\n",
       "40                                                                                                                                                      yo las tomo para 2 veces al dia almuerzo y cena desde noviembre que empeze tratamiento para la artritis mejoro mi calidad de vida\n",
       "157                                       alferdezprensa alferdez cfkargentina sigo con mis anteriores soy jub una y este gob canalla nos quito de nuevo eso si entre gallos y medianoche hemos aportado el 18 los bancarios para lograr el 82 y nos han robadoque no sea igual en nacion\n",
       "141                                                                                                                                                                  que emocioncomo medica felicitaciones usted cristinami vicemi hermosa hermanay orgullosa de mis colegas del calafate\n",
       "17                                                                                              estos forros q le ponen aviones nuestros p repatriarlos y se comportan como bestias estos acordate no te respetan la cuarentena aerolineasar coronavirusenargentina alferdez cfkargentina\n",
       "112                                                                                                                                                                                20 dias pidiendo que aparezca aparecio y te metio el impuesto a las grandes riquezas la pedis la tenes\n",
       "102                                                                                                                                                                                                                                                      eso se llama division de poderes\n",
       "69                    gracias por intentar liberarnos por ser un aguila y mirar lo lejos y acercar los suenos gracias por ensenarnos a vivir sin temor pobres pero con la dignidad de decidir gracias por estar en los detalles y por correr tras un mundo imposible de no pensarse mejor\n",
       "152    a la oficina d contratacion de santiaguito cfkargentina le corto el copete pero x ahi hay algun otro pelotudo q se cree q la solucion son las app no hay sistema en el poder judicial y uno en garin va a pedir turno para viajar en tren e ir a laburar d donde sacan estos giles\n",
       "131                                                                                                                                                                                                  what is your favorite party game have a look on clumsyrush party game nintendoswitch\n",
       "115                                                                                                                                                                                                                                                                  gracias cfkargentina\n",
       "14                                                                                                                                                                                                                              cuando entiendas como se maneja la salud publica hablamos\n",
       "134                                                                                                                      naci asi evitista peronista cristinista revolucionaria alegre bancando a mi presidente vos naciste con el corazon asi de ortiba o te caiste de la cuna de cabeza\n",
       "88                                                                                                                                                                                                                acordate que negri va a dar otra ves la nota y nos van a cagar otra ves\n",
       "24                                                                la grieta en tiempos de coronavirusargentina los que dicen que cfkargentina esta en calafate que viajo por uruguay y que la vieron en riogallegos vs los que dicen que esta en aislamientosocialobligatorio en recoleta\n",
       "43                                                                                                                                                                                                                       que seria especificamente enriquecerse a costa de los ciudadanos\n",
       "65                                                                                                                                                                                                                                                                               ladrones\n",
       "Name: tweet, dtype: object"
      ]
     },
     "execution_count": 55,
     "metadata": {},
     "output_type": "execute_result"
    }
   ],
   "source": [
    "pd.set_option('display.max_rows', 500)\n",
    "pd.set_option('display.max_colwidth', None)\n",
    "\n",
    "(df.tweet.sample(30))"
   ]
  },
  {
   "cell_type": "code",
   "execution_count": 56,
   "metadata": {},
   "outputs": [],
   "source": [
    "pd.reset_option('display.max_rows')\n",
    "pd.reset_option('display.max_colwidth')\n"
   ]
  },
  {
   "cell_type": "code",
   "execution_count": 205,
   "metadata": {},
   "outputs": [
    {
     "name": "stdout",
     "output_type": "stream",
     "text": [
      "2020-08-14    2281\n",
      "2020-03-19    1465\n",
      "2020-03-29     659\n",
      "2020-04-10     439\n",
      "2020-04-25     249\n",
      "2020-05-08     182\n",
      "2020-05-23     162\n",
      "2020-06-26     153\n",
      "2020-06-04     151\n",
      "2020-07-31     147\n",
      "2020-07-17     126\n",
      "Name: fecha_sola, dtype: int64\n"
     ]
    },
    {
     "data": {
      "text/plain": [
       "<AxesSubplot:title={'center':'Distribución de fechas'}>"
      ]
     },
     "execution_count": 205,
     "metadata": {},
     "output_type": "execute_result"
    },
    {
     "data": {
      "image/png": "[encoded data removed]",
      "text/plain": [
       "<Figure size 432x288 with 1 Axes>"
      ]
     },
     "metadata": {
      "needs_background": "light"
     },
     "output_type": "display_data"
    }
   ],
   "source": [
    "print(df.fecha_sola.value_counts())\n",
    "df['fecha_sola'] = df['fecha'].map(lambda x: str(x)[:-15])\n",
    "plt.title('Distribución de fechas')\n",
    "df.fecha_sola.value_counts().sort_index().plot(kind='bar')"
   ]
  },
  {
   "cell_type": "markdown",
   "metadata": {},
   "source": [
    "### Creación de variable _target_: `sentimiento`."
   ]
  },
  {
   "cell_type": "markdown",
   "metadata": {},
   "source": [
    "Crearemos la variable target para, posteriormente, poder realizar la clasificación. Por el momento estará vacía."
   ]
  },
  {
   "cell_type": "code",
   "execution_count": 180,
   "metadata": {},
   "outputs": [],
   "source": [
    "df['sentimiento'] = ''"
   ]
  },
  {
   "cell_type": "markdown",
   "metadata": {},
   "source": [
    "## Limpieza."
   ]
  },
  {
   "cell_type": "markdown",
   "metadata": {},
   "source": [
    "### Tweets de usuarios específicos."
   ]
  },
  {
   "cell_type": "markdown",
   "metadata": {},
   "source": [
    "#### Trolls.\n",
    "Procedemos a limpiar a los usuarios que son trolls."
   ]
  },
  {
   "cell_type": "code",
   "execution_count": 60,
   "metadata": {},
   "outputs": [
    {
     "data": {
      "text/html": [
       "<div>\n",
       "<style scoped>\n",
       "    .dataframe tbody tr th:only-of-type {\n",
       "        vertical-align: middle;\n",
       "    }\n",
       "\n",
       "    .dataframe tbody tr th {\n",
       "        vertical-align: top;\n",
       "    }\n",
       "\n",
       "    .dataframe thead th {\n",
       "        text-align: right;\n",
       "    }\n",
       "</style>\n",
       "<table border=\"1\" class=\"dataframe\">\n",
       "  <thead>\n",
       "    <tr style=\"text-align: right;\">\n",
       "      <th></th>\n",
       "      <th>username</th>\n",
       "      <th>tweet</th>\n",
       "      <th>fecha</th>\n",
       "      <th>anuncio</th>\n",
       "      <th>ubicacion</th>\n",
       "      <th>id</th>\n",
       "    </tr>\n",
       "  </thead>\n",
       "  <tbody>\n",
       "  </tbody>\n",
       "</table>\n",
       "</div>"
      ],
      "text/plain": [
       "Empty DataFrame\n",
       "Columns: [username, tweet, fecha, anuncio, ubicacion, id]\n",
       "Index: []"
      ]
     },
     "execution_count": 60,
     "metadata": {},
     "output_type": "execute_result"
    }
   ],
   "source": [
    "#definimos una lista negra de los usuarios que vamos a eliminar\n",
    "usuarios_blacklist = ['sergistack', 'GamesRedDeer']\n",
    "mask_bl = [x in usuarios_blacklist for x in df['username']] \n",
    "df[mask_bl]"
   ]
  },
  {
   "cell_type": "code",
   "execution_count": 62,
   "metadata": {},
   "outputs": [
    {
     "data": {
      "text/html": [
       "<div>\n",
       "<style scoped>\n",
       "    .dataframe tbody tr th:only-of-type {\n",
       "        vertical-align: middle;\n",
       "    }\n",
       "\n",
       "    .dataframe tbody tr th {\n",
       "        vertical-align: top;\n",
       "    }\n",
       "\n",
       "    .dataframe thead th {\n",
       "        text-align: right;\n",
       "    }\n",
       "</style>\n",
       "<table border=\"1\" class=\"dataframe\">\n",
       "  <thead>\n",
       "    <tr style=\"text-align: right;\">\n",
       "      <th></th>\n",
       "      <th>username</th>\n",
       "      <th>tweet</th>\n",
       "      <th>fecha</th>\n",
       "      <th>anuncio</th>\n",
       "      <th>ubicacion</th>\n",
       "      <th>id</th>\n",
       "    </tr>\n",
       "  </thead>\n",
       "  <tbody>\n",
       "    <tr>\n",
       "      <th>0</th>\n",
       "      <td>anaprgomez</td>\n",
       "      <td>los redondos</td>\n",
       "      <td>2020-03-19 23:50:32+00:00</td>\n",
       "      <td>Anuncio_1</td>\n",
       "      <td>Buenos Aires, Argentina</td>\n",
       "      <td>1240787772165799938</td>\n",
       "    </tr>\n",
       "    <tr>\n",
       "      <th>2</th>\n",
       "      <td>JCesarRod</td>\n",
       "      <td>y nuestra valiente vp cfkargentina donde esta ...</td>\n",
       "      <td>2020-03-19 23:45:46+00:00</td>\n",
       "      <td>Anuncio_1</td>\n",
       "      <td>Buenos Aires, Argentina</td>\n",
       "      <td>1240786573131681793</td>\n",
       "    </tr>\n",
       "    <tr>\n",
       "      <th>3</th>\n",
       "      <td>heoaliascazon</td>\n",
       "      <td>te amo igual que a cfkargentina</td>\n",
       "      <td>2020-03-19 20:58:40+00:00</td>\n",
       "      <td>Anuncio_1</td>\n",
       "      <td>Buenos Aires, Argentina</td>\n",
       "      <td>1240744522251984897</td>\n",
       "    </tr>\n",
       "  </tbody>\n",
       "</table>\n",
       "</div>"
      ],
      "text/plain": [
       "        username                                              tweet                      fecha    anuncio                ubicacion                   id\n",
       "0     anaprgomez                                       los redondos  2020-03-19 23:50:32+00:00  Anuncio_1  Buenos Aires, Argentina  1240787772165799938\n",
       "2      JCesarRod  y nuestra valiente vp cfkargentina donde esta ...  2020-03-19 23:45:46+00:00  Anuncio_1  Buenos Aires, Argentina  1240786573131681793\n",
       "3  heoaliascazon                    te amo igual que a cfkargentina  2020-03-19 20:58:40+00:00  Anuncio_1  Buenos Aires, Argentina  1240744522251984897"
      ]
     },
     "execution_count": 62,
     "metadata": {},
     "output_type": "execute_result"
    }
   ],
   "source": [
    "#definimos una máscara para excluir a los usuarios en la lista negra\n",
    "mask_not_bl = [x not in usuarios_blacklist for x in df['username']] \n",
    "#pisamos el dataframe sin los usuarios de la lista negra\n",
    "df = df[mask_not_bl]\n",
    "df.head(3)"
   ]
  },
  {
   "cell_type": "markdown",
   "metadata": {},
   "source": [
    "#### Medios de comunicación.\n",
    "Procedemos a limpiar a los usuarios que son medios de comunicación."
   ]
  },
  {
   "cell_type": "code",
   "execution_count": 63,
   "metadata": {},
   "outputs": [
    {
     "data": {
      "text/html": [
       "<div>\n",
       "<style scoped>\n",
       "    .dataframe tbody tr th:only-of-type {\n",
       "        vertical-align: middle;\n",
       "    }\n",
       "\n",
       "    .dataframe tbody tr th {\n",
       "        vertical-align: top;\n",
       "    }\n",
       "\n",
       "    .dataframe thead th {\n",
       "        text-align: right;\n",
       "    }\n",
       "</style>\n",
       "<table border=\"1\" class=\"dataframe\">\n",
       "  <thead>\n",
       "    <tr style=\"text-align: right;\">\n",
       "      <th></th>\n",
       "      <th>username</th>\n",
       "      <th>tweet</th>\n",
       "      <th>fecha</th>\n",
       "      <th>anuncio</th>\n",
       "      <th>ubicacion</th>\n",
       "      <th>id</th>\n",
       "    </tr>\n",
       "  </thead>\n",
       "  <tbody>\n",
       "  </tbody>\n",
       "</table>\n",
       "</div>"
      ],
      "text/plain": [
       "Empty DataFrame\n",
       "Columns: [username, tweet, fecha, anuncio, ubicacion, id]\n",
       "Index: []"
      ]
     },
     "execution_count": 63,
     "metadata": {},
     "output_type": "execute_result"
    }
   ],
   "source": [
    "usuarios_medios = ['radiofonica1007',' pmgcharly',' NTodxs',' Noticiasde_',' nora_verges',' mnspezzapria',' METRO_RADIO_TV',' MartinD50004804',' mariogaloppo',' LUIS20GEREZ',' losprimerostuc',' lacriticaok',' lacapital',' IldefonsoM',' HernanMundo',' elsolquilmes',' ellitoral',' cronica',' cordoba',' Contexto_Tuc',' ConLaGenteRos',' con_sello',' Cadena3Com',' AvellanedaReal',' AiredeSantaFe',' AgenciaDib',' Adry1BC',' ADNsur',' abccordoba',' 104Urbana']\n",
    "mask_media = [x in usuarios_medios for x in df['username']] \n",
    "df[mask_media]"
   ]
  },
  {
   "cell_type": "code",
   "execution_count": 64,
   "metadata": {},
   "outputs": [
    {
     "data": {
      "text/html": [
       "<div>\n",
       "<style scoped>\n",
       "    .dataframe tbody tr th:only-of-type {\n",
       "        vertical-align: middle;\n",
       "    }\n",
       "\n",
       "    .dataframe tbody tr th {\n",
       "        vertical-align: top;\n",
       "    }\n",
       "\n",
       "    .dataframe thead th {\n",
       "        text-align: right;\n",
       "    }\n",
       "</style>\n",
       "<table border=\"1\" class=\"dataframe\">\n",
       "  <thead>\n",
       "    <tr style=\"text-align: right;\">\n",
       "      <th></th>\n",
       "      <th>username</th>\n",
       "      <th>tweet</th>\n",
       "      <th>fecha</th>\n",
       "      <th>anuncio</th>\n",
       "      <th>ubicacion</th>\n",
       "      <th>id</th>\n",
       "    </tr>\n",
       "  </thead>\n",
       "  <tbody>\n",
       "    <tr>\n",
       "      <th>0</th>\n",
       "      <td>anaprgomez</td>\n",
       "      <td>los redondos</td>\n",
       "      <td>2020-03-19 23:50:32+00:00</td>\n",
       "      <td>Anuncio_1</td>\n",
       "      <td>Buenos Aires, Argentina</td>\n",
       "      <td>1240787772165799938</td>\n",
       "    </tr>\n",
       "    <tr>\n",
       "      <th>2</th>\n",
       "      <td>JCesarRod</td>\n",
       "      <td>y nuestra valiente vp cfkargentina donde esta ...</td>\n",
       "      <td>2020-03-19 23:45:46+00:00</td>\n",
       "      <td>Anuncio_1</td>\n",
       "      <td>Buenos Aires, Argentina</td>\n",
       "      <td>1240786573131681793</td>\n",
       "    </tr>\n",
       "    <tr>\n",
       "      <th>3</th>\n",
       "      <td>heoaliascazon</td>\n",
       "      <td>te amo igual que a cfkargentina</td>\n",
       "      <td>2020-03-19 20:58:40+00:00</td>\n",
       "      <td>Anuncio_1</td>\n",
       "      <td>Buenos Aires, Argentina</td>\n",
       "      <td>1240744522251984897</td>\n",
       "    </tr>\n",
       "  </tbody>\n",
       "</table>\n",
       "</div>"
      ],
      "text/plain": [
       "        username                                              tweet                      fecha    anuncio                ubicacion                   id\n",
       "0     anaprgomez                                       los redondos  2020-03-19 23:50:32+00:00  Anuncio_1  Buenos Aires, Argentina  1240787772165799938\n",
       "2      JCesarRod  y nuestra valiente vp cfkargentina donde esta ...  2020-03-19 23:45:46+00:00  Anuncio_1  Buenos Aires, Argentina  1240786573131681793\n",
       "3  heoaliascazon                    te amo igual que a cfkargentina  2020-03-19 20:58:40+00:00  Anuncio_1  Buenos Aires, Argentina  1240744522251984897"
      ]
     },
     "execution_count": 64,
     "metadata": {},
     "output_type": "execute_result"
    }
   ],
   "source": [
    "#definimos una máscara para excluir a los usuarios en la lista negra\n",
    "mask_not_media = [x not in usuarios_medios for x in df['username']] \n",
    "#pisamos el dataframe sin los usuarios de la lista negra\n",
    "df = df[mask_not_media]"
   ]
  },
  {
   "cell_type": "markdown",
   "metadata": {},
   "source": [
    "# Exportación del dataset para minar."
   ]
  },
  {
   "cell_type": "markdown",
   "metadata": {},
   "source": [
    "Repetimos la exportación del dataset posterior a la limpieza."
   ]
  },
  {
   "cell_type": "code",
   "execution_count": 29,
   "metadata": {},
   "outputs": [],
   "source": [
    "df.to_csv('Data/tweets_clean.csv', sep=';', index=False)"
   ]
  },
  {
   "cell_type": "markdown",
   "metadata": {},
   "source": [
    "Reimportaremos el dataset para asegurarnos de que todo haya salido bien."
   ]
  },
  {
   "cell_type": "code",
   "execution_count": 30,
   "metadata": {},
   "outputs": [],
   "source": [
    "df2 = pd.read_csv('Data/tweets_clean.csv', sep=';')"
   ]
  },
  {
   "cell_type": "code",
   "execution_count": 57,
   "metadata": {},
   "outputs": [
    {
     "data": {
      "text/html": [
       "<div>\n",
       "<style scoped>\n",
       "    .dataframe tbody tr th:only-of-type {\n",
       "        vertical-align: middle;\n",
       "    }\n",
       "\n",
       "    .dataframe tbody tr th {\n",
       "        vertical-align: top;\n",
       "    }\n",
       "\n",
       "    .dataframe thead th {\n",
       "        text-align: right;\n",
       "    }\n",
       "</style>\n",
       "<table border=\"1\" class=\"dataframe\">\n",
       "  <thead>\n",
       "    <tr style=\"text-align: right;\">\n",
       "      <th></th>\n",
       "      <th>username</th>\n",
       "      <th>tweet</th>\n",
       "      <th>fecha</th>\n",
       "      <th>anuncio</th>\n",
       "      <th>ubicacion</th>\n",
       "      <th>id</th>\n",
       "    </tr>\n",
       "  </thead>\n",
       "  <tbody>\n",
       "    <tr>\n",
       "      <th>0</th>\n",
       "      <td>anaprgomez</td>\n",
       "      <td>los redondos</td>\n",
       "      <td>2020-03-19 23:50:32+00:00</td>\n",
       "      <td>Anuncio_1</td>\n",
       "      <td>Buenos Aires, Argentina</td>\n",
       "      <td>1240787772165799938</td>\n",
       "    </tr>\n",
       "    <tr>\n",
       "      <th>1</th>\n",
       "      <td>GamesRedDeer</td>\n",
       "      <td>what is your favorite party game have a look o...</td>\n",
       "      <td>2020-08-13 13:33:15+00:00</td>\n",
       "      <td>Anuncio_1</td>\n",
       "      <td>Buenos Aires, Argentina</td>\n",
       "      <td>1293903444135182338</td>\n",
       "    </tr>\n",
       "    <tr>\n",
       "      <th>2</th>\n",
       "      <td>JCesarRod</td>\n",
       "      <td>y nuestra valiente vp cfkargentina donde esta ...</td>\n",
       "      <td>2020-03-19 23:45:46+00:00</td>\n",
       "      <td>Anuncio_1</td>\n",
       "      <td>Buenos Aires, Argentina</td>\n",
       "      <td>1240786573131681793</td>\n",
       "    </tr>\n",
       "    <tr>\n",
       "      <th>3</th>\n",
       "      <td>heoaliascazon</td>\n",
       "      <td>te amo igual que a cfkargentina</td>\n",
       "      <td>2020-03-19 20:58:40+00:00</td>\n",
       "      <td>Anuncio_1</td>\n",
       "      <td>Buenos Aires, Argentina</td>\n",
       "      <td>1240744522251984897</td>\n",
       "    </tr>\n",
       "    <tr>\n",
       "      <th>4</th>\n",
       "      <td>DiegoCorsini</td>\n",
       "      <td>con tinelli leyendo ni lost era tan inverosimil</td>\n",
       "      <td>2020-03-19 20:56:25+00:00</td>\n",
       "      <td>Anuncio_1</td>\n",
       "      <td>Buenos Aires, Argentina</td>\n",
       "      <td>1240743955014266891</td>\n",
       "    </tr>\n",
       "  </tbody>\n",
       "</table>\n",
       "</div>"
      ],
      "text/plain": [
       "        username                                              tweet                      fecha    anuncio                ubicacion                   id\n",
       "0     anaprgomez                                       los redondos  2020-03-19 23:50:32+00:00  Anuncio_1  Buenos Aires, Argentina  1240787772165799938\n",
       "1   GamesRedDeer  what is your favorite party game have a look o...  2020-08-13 13:33:15+00:00  Anuncio_1  Buenos Aires, Argentina  1293903444135182338\n",
       "2      JCesarRod  y nuestra valiente vp cfkargentina donde esta ...  2020-03-19 23:45:46+00:00  Anuncio_1  Buenos Aires, Argentina  1240786573131681793\n",
       "3  heoaliascazon                    te amo igual que a cfkargentina  2020-03-19 20:58:40+00:00  Anuncio_1  Buenos Aires, Argentina  1240744522251984897\n",
       "4   DiegoCorsini    con tinelli leyendo ni lost era tan inverosimil  2020-03-19 20:56:25+00:00  Anuncio_1  Buenos Aires, Argentina  1240743955014266891"
      ]
     },
     "execution_count": 57,
     "metadata": {},
     "output_type": "execute_result"
    }
   ],
   "source": [
    "df2.head()"
   ]
  },
  {
   "cell_type": "markdown",
   "metadata": {},
   "source": [
    "Ahora sí... ¡a trabajar en el modelo!"
   ]
  }
 ],
 "metadata": {
  "kernelspec": {
   "display_name": "Python 3",
   "language": "python",
   "name": "python3"
  },
  "language_info": {
   "codemirror_mode": {
    "name": "ipython",
    "version": 3
   },
   "file_extension": ".py",
   "mimetype": "text/x-python",
   "name": "python",
   "nbconvert_exporter": "python",
   "pygments_lexer": "ipython3",
   "version": "3.8.5"
  }
 },
 "nbformat": 4,
 "nbformat_minor": 4
}
