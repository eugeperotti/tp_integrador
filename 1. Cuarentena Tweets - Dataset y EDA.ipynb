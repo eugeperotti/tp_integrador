{
 "cells": [
  {
   "cell_type": "markdown",
   "metadata": {
    "colab_type": "text",
    "id": "3Oqd4y5orF8h"
   },
   "source": [
    "<img src=\"https://www.digitalhouse.com/logo-DH.png\" width=\"200\" height=\"100\" align=\"left\">"
   ]
  },
  {
   "cell_type": "markdown",
   "metadata": {
    "colab_type": "text",
    "id": "ogFYft1srF8i"
   },
   "source": [
    "<h3><b>Curso:</b> Data Science / <b>Año:</b> 2020 / <b>Sede:</b> Casa</h3>"
   ]
  },
  {
   "cell_type": "markdown",
   "metadata": {
    "colab_type": "text",
    "id": "5E3bYYforF8i"
   },
   "source": [
    "-----"
   ]
  },
  {
   "cell_type": "markdown",
   "metadata": {
    "colab_type": "text",
    "id": "dn7OMfFurF8j"
   },
   "source": [
    "<h3><b>TP Integrador:</b> Text Mining de <i>tweets</i> de anuncios del gobierno durante la cuarentena.</h3>\n",
    "<blockquote>\n",
    "        <ul>\n",
    "          <li><i>Sentiment analysis</i> de los comentarios de los usuarios.</li>\n",
    "          <li>Clustering de <i>tweets</i> de los usuarios.</li>\n",
    "        </ul>\n",
    "</blockquote>"
   ]
  },
  {
   "cell_type": "markdown",
   "metadata": {
    "colab_type": "text",
    "id": "gHhEZxazrF8j"
   },
   "source": [
    "<h3><b>Grupo 10:</b></h3>\n",
    "<blockquote>\n",
    "        <ul>\n",
    "          <li>Maria Eugenia Perotti</li>\n",
    "          <li>Gastón Ortíz</li>\n",
    "        </ul>\n",
    "</blockquote>"
   ]
  },
  {
   "cell_type": "markdown",
   "metadata": {
    "colab_type": "text",
    "id": "RwFwgRkxUEHs"
   },
   "source": [
    "# Sobre el trabajo."
   ]
  },
  {
   "cell_type": "markdown",
   "metadata": {
    "colab_type": "text",
    "id": "y2wWW-AuWEU-"
   },
   "source": [
    "Nuestra propuesta es realizar _text mining_ sobre tweets publicados durante la cuarentena, concentrándonos específicamente en las fechas en las que el presidente hace los anuncios relacionados al distanciamiento social preventivo y obligatorio."
   ]
  },
  {
   "cell_type": "markdown",
   "metadata": {
    "colab_type": "text",
    "id": "DnaiD3eQi0Um"
   },
   "source": [
    "## Criterios de búsqueda.\n",
    "Debido al gran volumen de _tweets_ y a las limitaciones de la biblioteca que estamos utilizando, nos vimos forzados a limitar los criterios de búsqueda.\n",
    "\n",
    "<b><u>Ciudades:</u></b>\n",
    "* Buenos Aires\n",
    "* Cordoba\n",
    "* Rosario\n",
    "* Mendoza\n",
    "* Tucumán\n",
    "* San Juan\n",
    "* Neuquén\n",
    "* Paraná\n",
    "* Comodoro Rivadavia\n",
    "\n",
    "<b><u>Cuentas:</u></b>\n",
    "* Ministerio de Salud de la Nación | @msalnacion\n",
    "* Casa Rosada | @CasaRosada\n",
    "* Horacio Rodríguez Larreta | @horaciorlarreta\n",
    "* Alberto Fernández | @alferdez\n",
    "* Alberto Fernández Prensa | @alferdezprensa\n",
    "* Axel Kicillof | @Kicillofok\n",
    "* Cristina Kirchner | @CFKArgentina\n",
    "\n",
    "<b><u>Hashtags:</u></b>\n",
    "* #covid19\n",
    "* #covid\n",
    "* #coronavirus\n",
    "* #cuarentena\n",
    "* #albertofernandez"
   ]
  },
  {
   "cell_type": "markdown",
   "metadata": {
    "colab_type": "text",
    "id": "yUNsCvDXi0Ub"
   },
   "source": [
    "# Preparación de libraries y funciones."
   ]
  },
  {
   "cell_type": "markdown",
   "metadata": {},
   "source": [
    "## Configuración Colab."
   ]
  },
  {
   "cell_type": "code",
   "execution_count": 5,
   "metadata": {},
   "outputs": [
    {
     "name": "stdout",
     "output_type": "stream",
     "text": [
      "Se está trabajando localmente\n"
     ]
    }
   ],
   "source": [
    "try:\n",
    "    from google.colab import drive\n",
    "    drive.mount('/content/drive')\n",
    "    !pip install GetOldTweets3\n",
    "    !pip install unidecode\n",
    "    ruta_drive = \"/content/drive/My Drive/TP Integrador/Notebooks/Data/\"\n",
    "except ModuleNotFoundError:    \n",
    "    print(\"Se está trabajando localmente\")"
   ]
  },
  {
   "cell_type": "markdown",
   "metadata": {
    "colab_type": "text",
    "id": "ICL7gwGMTNCC"
   },
   "source": [
    "## Imports."
   ]
  },
  {
   "cell_type": "code",
   "execution_count": 6,
   "metadata": {
    "colab": {
     "base_uri": "https://localhost:8080/",
     "height": 367
    },
    "colab_type": "code",
    "id": "fia0GSZYi0Ub",
    "outputId": "def5a598-d364-43c3-b7da-5350021d0129"
   },
   "outputs": [],
   "source": [
    "import numpy as np\n",
    "import pandas as pd\n",
    "import GetOldTweets3 as got\n",
    "import datetime\n",
    "from textblob import TextBlob\n",
    "import re\n",
    "import unidecode\n",
    "import matplotlib.pyplot as plt\n",
    "import time"
   ]
  },
  {
   "cell_type": "markdown",
   "metadata": {
    "colab_type": "text",
    "id": "UAyWm4ivi0Ue"
   },
   "source": [
    "## Definición de funciones.\n",
    "En esta sección definimos las funciones que vamos a utilizar en la notebook."
   ]
  },
  {
   "cell_type": "markdown",
   "metadata": {
    "colab_type": "text",
    "id": "Kj-_OiT4i0Ue"
   },
   "source": [
    "### Función para obtener los tweets de acuerdo a los criterios de búsqueda."
   ]
  },
  {
   "cell_type": "code",
   "execution_count": 7,
   "metadata": {
    "colab": {},
    "colab_type": "code",
    "id": "PcWyWWM9i0Uf"
   },
   "outputs": [],
   "source": [
    "def get_tweets(list_criterios, fecha_inicio, fecha_final, ubicacion, radio, maximo=250):\n",
    "    tweets_total = []\n",
    "    for criterio in list_criterios:\n",
    "        tweetCriteria = got.manager.TweetCriteria().setQuerySearch(criterio).setSince(fecha_inicio).setUntil(fecha_final).setLang(\"es\").setNear(ubicacion).setWithin(radio).setMaxTweets(maximo)\n",
    "        tweets_total = got.manager.TweetManager.getTweets(tweetCriteria)\n",
    "    return tweets_total"
   ]
  },
  {
   "cell_type": "markdown",
   "metadata": {
    "colab_type": "text",
    "id": "TZnaOCKRi0Uh"
   },
   "source": [
    "### Función para limpiar los tweets."
   ]
  },
  {
   "cell_type": "code",
   "execution_count": 8,
   "metadata": {
    "colab": {},
    "colab_type": "code",
    "id": "rjyM3y-8i0Ui"
   },
   "outputs": [],
   "source": [
    "def limpiar(tweet_texto):\n",
    "    text = ' '.join(re.sub(r\"(@)|([^0-9A-Za-z \\t])|(www.[^ ]+)|(https?://[^ ]+)\", \"\", unidecode.unidecode(tweet_texto.lower())).split())\n",
    "    return text"
   ]
  },
  {
   "cell_type": "markdown",
   "metadata": {
    "colab_type": "text",
    "id": "ZbA9TFkqi0Uj"
   },
   "source": [
    "### Función para crear un dataframe en base a los tweets."
   ]
  },
  {
   "cell_type": "code",
   "execution_count": 9,
   "metadata": {
    "colab": {},
    "colab_type": "code",
    "id": "xIJYgRcOi0Uk"
   },
   "outputs": [],
   "source": [
    "def create_df(tweets_anuncios):\n",
    "    datos = []\n",
    "    for anuncio in tweets_anuncios:\n",
    "        for ciudad in tweets_anuncios[anuncio]: \n",
    "            for tweet in tweets_anuncios[anuncio][ciudad]:\n",
    "                registro = {'username': tweet.username, 'tweet': limpiar(tweet.text), \\\n",
    "                            'fecha': tweet.date, 'anuncio':anuncio, 'ubicacion':ciudad, 'id':tweet.id}\n",
    "                datos.append(registro)\n",
    "    df = pd.DataFrame(data=datos)    \n",
    "    return df"
   ]
  },
  {
   "cell_type": "markdown",
   "metadata": {
    "colab_type": "text",
    "id": "enORDGTgi0Um"
   },
   "source": [
    "# Obtención de tweets.\n",
    "En esta sección definimos los criterios de búsqueda y ejecutamos las funciones descritas previamente."
   ]
  },
  {
   "cell_type": "markdown",
   "metadata": {},
   "source": [
    "## Llamado a la API para obtener los tweets."
   ]
  },
  {
   "cell_type": "markdown",
   "metadata": {
    "colab_type": "text",
    "id": "pZWUIGfAi0Um"
   },
   "source": [
    "Procedemos a declarar los parámetros que utilizaremos para las búsquedas:"
   ]
  },
  {
   "cell_type": "code",
   "execution_count": 10,
   "metadata": {
    "colab": {},
    "colab_type": "code",
    "id": "wKk6u9KZi0Un"
   },
   "outputs": [],
   "source": [
    "fecha_inicio = [\"2020-03-19T21:00:38Z\",\"2020-03-29T20:00:38Z\",\"2020-04-10T20:00:38Z\",\"2020-04-25T18:00:38Z\",\"2020-05-08T20:00:38Z\",\"2020-05-23T20:00:38Z\",\"2020-06-04T20:00:38Z\",\"2020-06-26T18:00:38Z\",\"2020-07-17T14:00:38Z\",\"2020-07-31T14:00:38Z\",\"2020-08-14T14:00:38Z\"]\n",
    "fecha_final =  [\"2020-03-20T04:00:38Z\",\"2020-03-30T04:00:38Z\",\"2020-04-11T04:00:38Z\",\"2020-04-26T04:00:38Z\",\"2020-05-09T04:00:38Z\",\"2020-05-24T04:00:38Z\",\"2020-06-05T04:00:38Z\",\"2020-06-27T04:00:38Z\",\"2020-07-18T04:00:38Z\",\"2020-08-01T04:00:38Z\",\"2020-08-15T04:00:38Z\"]\n",
    "criterios = [\"cuarentena\",\"msalnacion\",\"CasaRosada\",\"alferdez\", \"alferdezprensa\"]\n",
    "ciudades = [\"Buenos Aires, Argentina\",\"Cordoba, Argentina\",\"Rosario, Argentina\",\"Mendoza, Argentina\", \"Tucumán, Argentina\",\"Paraná, Argentina\"]\n",
    "radio = \"200km\"\n",
    "maximo = 300"
   ]
  },
  {
   "cell_type": "markdown",
   "metadata": {
    "colab_type": "text",
    "id": "j6haV4W_i0Uq"
   },
   "source": [
    "Ejecutamos la función para traer los tweets:"
   ]
  },
  {
   "cell_type": "code",
   "execution_count": 11,
   "metadata": {
    "colab": {
     "base_uri": "https://localhost:8080/",
     "height": 1000
    },
    "colab_type": "code",
    "id": "Tf0DYBdCi0Uq",
    "outputId": "521d2884-83b5-423d-913a-03d5f6566d45"
   },
   "outputs": [
    {
     "name": "stdout",
     "output_type": "stream",
     "text": [
      "0\n",
      "1\n",
      "2\n",
      "3\n",
      "4\n",
      "5\n",
      "6\n",
      "An error occured during an HTTP request: HTTP Error 429: Too Many Requests\n",
      "Try to open in browser: https://twitter.com/search?q=msalnacion%20near%3A%22Buenos%20Aires%2C%20Argentina%22%20within%3A200km%20since%3A2020-06-26T18%3A00%3A38Z%20until%3A2020-06-27T04%3A00%3A38Z&src=typd\n",
      "An error occured during an HTTP request: HTTP Error 429: Too Many Requests\n",
      "Try to open in browser: https://twitter.com/search?q=cuarentena%20near%3A%22Cordoba%2C%20Argentina%22%20within%3A200km%20since%3A2020-06-26T18%3A00%3A38Z%20until%3A2020-06-27T04%3A00%3A38Z&src=typd\n",
      "An error occured during an HTTP request: HTTP Error 429: Too Many Requests\n",
      "Try to open in browser: https://twitter.com/search?q=cuarentena%20near%3A%22Rosario%2C%20Argentina%22%20within%3A200km%20since%3A2020-06-26T18%3A00%3A38Z%20until%3A2020-06-27T04%3A00%3A38Z&src=typd\n",
      "An error occured during an HTTP request: HTTP Error 429: Too Many Requests\n",
      "Try to open in browser: https://twitter.com/search?q=cuarentena%20near%3A%22Mendoza%2C%20Argentina%22%20within%3A200km%20since%3A2020-06-26T18%3A00%3A38Z%20until%3A2020-06-27T04%3A00%3A38Z&src=typd\n",
      "An error occured during an HTTP request: HTTP Error 429: Too Many Requests\n",
      "Try to open in browser: https://twitter.com/search?q=cuarentena%20near%3A%22Tucum%C3%A1n%2C%20Argentina%22%20within%3A200km%20since%3A2020-06-26T18%3A00%3A38Z%20until%3A2020-06-27T04%3A00%3A38Z&src=typd\n",
      "An error occured during an HTTP request: HTTP Error 429: Too Many Requests\n",
      "Try to open in browser: https://twitter.com/search?q=cuarentena%20near%3A%22Paran%C3%A1%2C%20Argentina%22%20within%3A200km%20since%3A2020-06-26T18%3A00%3A38Z%20until%3A2020-06-27T04%3A00%3A38Z&src=typd\n",
      "7\n",
      "An error occured during an HTTP request: HTTP Error 429: Too Many Requests\n",
      "Try to open in browser: https://twitter.com/search?q=cuarentena%20near%3A%22Buenos%20Aires%2C%20Argentina%22%20within%3A200km%20since%3A2020-07-17T14%3A00%3A38Z%20until%3A2020-07-18T04%3A00%3A38Z&src=typd\n",
      "An error occured during an HTTP request: HTTP Error 429: Too Many Requests\n",
      "Try to open in browser: https://twitter.com/search?q=cuarentena%20near%3A%22Cordoba%2C%20Argentina%22%20within%3A200km%20since%3A2020-07-17T14%3A00%3A38Z%20until%3A2020-07-18T04%3A00%3A38Z&src=typd\n",
      "An error occured during an HTTP request: HTTP Error 429: Too Many Requests\n",
      "Try to open in browser: https://twitter.com/search?q=cuarentena%20near%3A%22Rosario%2C%20Argentina%22%20within%3A200km%20since%3A2020-07-17T14%3A00%3A38Z%20until%3A2020-07-18T04%3A00%3A38Z&src=typd\n",
      "An error occured during an HTTP request: HTTP Error 429: Too Many Requests\n",
      "Try to open in browser: https://twitter.com/search?q=cuarentena%20near%3A%22Mendoza%2C%20Argentina%22%20within%3A200km%20since%3A2020-07-17T14%3A00%3A38Z%20until%3A2020-07-18T04%3A00%3A38Z&src=typd\n",
      "An error occured during an HTTP request: HTTP Error 429: Too Many Requests\n",
      "Try to open in browser: https://twitter.com/search?q=cuarentena%20near%3A%22Tucum%C3%A1n%2C%20Argentina%22%20within%3A200km%20since%3A2020-07-17T14%3A00%3A38Z%20until%3A2020-07-18T04%3A00%3A38Z&src=typd\n",
      "An error occured during an HTTP request: HTTP Error 429: Too Many Requests\n",
      "Try to open in browser: https://twitter.com/search?q=cuarentena%20near%3A%22Paran%C3%A1%2C%20Argentina%22%20within%3A200km%20since%3A2020-07-17T14%3A00%3A38Z%20until%3A2020-07-18T04%3A00%3A38Z&src=typd\n",
      "8\n",
      "An error occured during an HTTP request: HTTP Error 429: Too Many Requests\n",
      "Try to open in browser: https://twitter.com/search?q=cuarentena%20near%3A%22Buenos%20Aires%2C%20Argentina%22%20within%3A200km%20since%3A2020-07-31T14%3A00%3A38Z%20until%3A2020-08-01T04%3A00%3A38Z&src=typd\n",
      "An error occured during an HTTP request: HTTP Error 429: Too Many Requests\n",
      "Try to open in browser: https://twitter.com/search?q=cuarentena%20near%3A%22Cordoba%2C%20Argentina%22%20within%3A200km%20since%3A2020-07-31T14%3A00%3A38Z%20until%3A2020-08-01T04%3A00%3A38Z&src=typd\n",
      "An error occured during an HTTP request: HTTP Error 429: Too Many Requests\n",
      "Try to open in browser: https://twitter.com/search?q=cuarentena%20near%3A%22Rosario%2C%20Argentina%22%20within%3A200km%20since%3A2020-07-31T14%3A00%3A38Z%20until%3A2020-08-01T04%3A00%3A38Z&src=typd\n",
      "An error occured during an HTTP request: HTTP Error 429: Too Many Requests\n",
      "Try to open in browser: https://twitter.com/search?q=cuarentena%20near%3A%22Mendoza%2C%20Argentina%22%20within%3A200km%20since%3A2020-07-31T14%3A00%3A38Z%20until%3A2020-08-01T04%3A00%3A38Z&src=typd\n",
      "An error occured during an HTTP request: HTTP Error 429: Too Many Requests\n",
      "Try to open in browser: https://twitter.com/search?q=cuarentena%20near%3A%22Tucum%C3%A1n%2C%20Argentina%22%20within%3A200km%20since%3A2020-07-31T14%3A00%3A38Z%20until%3A2020-08-01T04%3A00%3A38Z&src=typd\n",
      "An error occured during an HTTP request: HTTP Error 429: Too Many Requests\n",
      "Try to open in browser: https://twitter.com/search?q=cuarentena%20near%3A%22Paran%C3%A1%2C%20Argentina%22%20within%3A200km%20since%3A2020-07-31T14%3A00%3A38Z%20until%3A2020-08-01T04%3A00%3A38Z&src=typd\n",
      "9\n",
      "An error occured during an HTTP request: HTTP Error 429: Too Many Requests\n",
      "Try to open in browser: https://twitter.com/search?q=cuarentena%20near%3A%22Buenos%20Aires%2C%20Argentina%22%20within%3A200km%20since%3A2020-08-14T14%3A00%3A38Z%20until%3A2020-08-15T04%3A00%3A38Z&src=typd\n",
      "An error occured during an HTTP request: HTTP Error 429: Too Many Requests\n",
      "Try to open in browser: https://twitter.com/search?q=cuarentena%20near%3A%22Cordoba%2C%20Argentina%22%20within%3A200km%20since%3A2020-08-14T14%3A00%3A38Z%20until%3A2020-08-15T04%3A00%3A38Z&src=typd\n",
      "An error occured during an HTTP request: HTTP Error 429: Too Many Requests\n",
      "Try to open in browser: https://twitter.com/search?q=cuarentena%20near%3A%22Rosario%2C%20Argentina%22%20within%3A200km%20since%3A2020-08-14T14%3A00%3A38Z%20until%3A2020-08-15T04%3A00%3A38Z&src=typd\n",
      "An error occured during an HTTP request: HTTP Error 429: Too Many Requests\n",
      "Try to open in browser: https://twitter.com/search?q=cuarentena%20near%3A%22Mendoza%2C%20Argentina%22%20within%3A200km%20since%3A2020-08-14T14%3A00%3A38Z%20until%3A2020-08-15T04%3A00%3A38Z&src=typd\n",
      "An error occured during an HTTP request: HTTP Error 429: Too Many Requests\n",
      "Try to open in browser: https://twitter.com/search?q=cuarentena%20near%3A%22Tucum%C3%A1n%2C%20Argentina%22%20within%3A200km%20since%3A2020-08-14T14%3A00%3A38Z%20until%3A2020-08-15T04%3A00%3A38Z&src=typd\n",
      "An error occured during an HTTP request: HTTP Error 429: Too Many Requests\n",
      "Try to open in browser: https://twitter.com/search?q=cuarentena%20near%3A%22Paran%C3%A1%2C%20Argentina%22%20within%3A200km%20since%3A2020-08-14T14%3A00%3A38Z%20until%3A2020-08-15T04%3A00%3A38Z&src=typd\n",
      "10\n"
     ]
    }
   ],
   "source": [
    "dic_tweets = {}\n",
    "for i in range(len(fecha_inicio)):\n",
    "    dic_tweets[\"Anuncio_\"+str(i+1)] = {}\n",
    "    for ciudad in ciudades:\n",
    "        try:\n",
    "            dic_tweets[\"Anuncio_\"+str(i+1)][ciudad] = get_tweets(criterios,fecha_inicio[i],fecha_final[i],ciudad,radio,maximo)\n",
    "        except:\n",
    "            continue\n",
    "    print(i)"
   ]
  },
  {
   "cell_type": "markdown",
   "metadata": {
    "colab_type": "text",
    "id": "SokgvvPGi0Us"
   },
   "source": [
    "### Creación y exportación del dataframe."
   ]
  },
  {
   "cell_type": "markdown",
   "metadata": {
    "colab_type": "text",
    "id": "2GREyLQLi0Us"
   },
   "source": [
    "Ejecutamos la función para crear el dataframe y le pasamos como parámetros los tweets:"
   ]
  },
  {
   "cell_type": "code",
   "execution_count": 12,
   "metadata": {
    "colab": {},
    "colab_type": "code",
    "id": "YxUAT6zsi0Us"
   },
   "outputs": [],
   "source": [
    "df = create_df(dic_tweets)"
   ]
  },
  {
   "cell_type": "markdown",
   "metadata": {
    "colab_type": "text",
    "id": "qHyWvqGsi0Uu"
   },
   "source": [
    "Verificamos que haya creado exitosamente el dataframe:"
   ]
  },
  {
   "cell_type": "code",
   "execution_count": 13,
   "metadata": {
    "colab": {
     "base_uri": "https://localhost:8080/",
     "height": 141
    },
    "colab_type": "code",
    "id": "0dpWhoBwi0Uu",
    "outputId": "43e67e98-f46f-4b2f-d8d0-a447120fab84"
   },
   "outputs": [
    {
     "data": {
      "text/html": [
       "<div>\n",
       "<style scoped>\n",
       "    .dataframe tbody tr th:only-of-type {\n",
       "        vertical-align: middle;\n",
       "    }\n",
       "\n",
       "    .dataframe tbody tr th {\n",
       "        vertical-align: top;\n",
       "    }\n",
       "\n",
       "    .dataframe thead th {\n",
       "        text-align: right;\n",
       "    }\n",
       "</style>\n",
       "<table border=\"1\" class=\"dataframe\">\n",
       "  <thead>\n",
       "    <tr style=\"text-align: right;\">\n",
       "      <th></th>\n",
       "      <th>username</th>\n",
       "      <th>tweet</th>\n",
       "      <th>fecha</th>\n",
       "      <th>anuncio</th>\n",
       "      <th>ubicacion</th>\n",
       "      <th>id</th>\n",
       "    </tr>\n",
       "  </thead>\n",
       "  <tbody>\n",
       "    <tr>\n",
       "      <th>0</th>\n",
       "      <td>Elizabeth789741</td>\n",
       "      <td>alferdez alferdezprensa por favor qxsea a part...</td>\n",
       "      <td>2020-03-19 23:04:48+00:00</td>\n",
       "      <td>Anuncio_1</td>\n",
       "      <td>Buenos Aires, Argentina</td>\n",
       "      <td>1240776263910002691</td>\n",
       "    </tr>\n",
       "    <tr>\n",
       "      <th>1</th>\n",
       "      <td>sergistack</td>\n",
       "      <td>usas google chrome lo siento por las mayuscula...</td>\n",
       "      <td>2020-03-28 20:07:18+00:00</td>\n",
       "      <td>Anuncio_1</td>\n",
       "      <td>Buenos Aires, Argentina</td>\n",
       "      <td>1243993087531266049</td>\n",
       "    </tr>\n",
       "    <tr>\n",
       "      <th>2</th>\n",
       "      <td>vickyuliyapo</td>\n",
       "      <td>comodice inesazpelicueta que comiencen ya a el...</td>\n",
       "      <td>2020-03-19 22:57:33+00:00</td>\n",
       "      <td>Anuncio_1</td>\n",
       "      <td>Buenos Aires, Argentina</td>\n",
       "      <td>1240774441266745345</td>\n",
       "    </tr>\n",
       "  </tbody>\n",
       "</table>\n",
       "</div>"
      ],
      "text/plain": [
       "          username                                              tweet  \\\n",
       "0  Elizabeth789741  alferdez alferdezprensa por favor qxsea a part...   \n",
       "1       sergistack  usas google chrome lo siento por las mayuscula...   \n",
       "2     vickyuliyapo  comodice inesazpelicueta que comiencen ya a el...   \n",
       "\n",
       "                      fecha    anuncio                ubicacion  \\\n",
       "0 2020-03-19 23:04:48+00:00  Anuncio_1  Buenos Aires, Argentina   \n",
       "1 2020-03-28 20:07:18+00:00  Anuncio_1  Buenos Aires, Argentina   \n",
       "2 2020-03-19 22:57:33+00:00  Anuncio_1  Buenos Aires, Argentina   \n",
       "\n",
       "                    id  \n",
       "0  1240776263910002691  \n",
       "1  1243993087531266049  \n",
       "2  1240774441266745345  "
      ]
     },
     "execution_count": 13,
     "metadata": {},
     "output_type": "execute_result"
    }
   ],
   "source": [
    "df.head(3)"
   ]
  },
  {
   "cell_type": "markdown",
   "metadata": {
    "colab_type": "text",
    "id": "Ri-gHxW2i0Ux"
   },
   "source": [
    "Una vez que comprobamos que está todo OK, procedemos a exportar los tweets a un .csv para preservar la muestra. Usamos como separador el `;` para que cuando lo abramos en Excel se divida automáticamente en columnas."
   ]
  },
  {
   "cell_type": "code",
   "execution_count": 14,
   "metadata": {
    "colab": {},
    "colab_type": "code",
    "id": "dbzj-1Oei0Ux"
   },
   "outputs": [],
   "source": [
    "ruta = \"Data/Crudos/tweets_crudos_\"+str(time.time())+\".csv\"\n",
    "df.to_csv(ruta, sep=';', index=False)"
   ]
  },
  {
   "cell_type": "markdown",
   "metadata": {
    "colab_type": "text",
    "id": "ibGXEx93i0U3"
   },
   "source": [
    "# EDA."
   ]
  },
  {
   "cell_type": "markdown",
   "metadata": {
    "colab_type": "text",
    "id": "zV5lCd0ni0U4"
   },
   "source": [
    "## Revisando la forma del Dataset."
   ]
  },
  {
   "cell_type": "code",
   "execution_count": 15,
   "metadata": {},
   "outputs": [
    {
     "name": "stdin",
     "output_type": "stream",
     "text": [
      "Insertar el nombre de archivo del CSV: tweets_crudos_1598365580.0815477\n"
     ]
    }
   ],
   "source": [
    "search = input(\"Insertar el nombre de archivo del CSV:\")\n",
    "df = pd.read_csv(f\"Data/Crudos/{search.lower()}.csv\", sep=';')"
   ]
  },
  {
   "cell_type": "code",
   "execution_count": 16,
   "metadata": {
    "colab": {
     "base_uri": "https://localhost:8080/",
     "height": 141
    },
    "colab_type": "code",
    "id": "PpXSnNmui0U4",
    "outputId": "059b4f0d-8b76-49ec-a3c7-b014f860d3d7"
   },
   "outputs": [
    {
     "data": {
      "text/html": [
       "<div>\n",
       "<style scoped>\n",
       "    .dataframe tbody tr th:only-of-type {\n",
       "        vertical-align: middle;\n",
       "    }\n",
       "\n",
       "    .dataframe tbody tr th {\n",
       "        vertical-align: top;\n",
       "    }\n",
       "\n",
       "    .dataframe thead th {\n",
       "        text-align: right;\n",
       "    }\n",
       "</style>\n",
       "<table border=\"1\" class=\"dataframe\">\n",
       "  <thead>\n",
       "    <tr style=\"text-align: right;\">\n",
       "      <th></th>\n",
       "      <th>username</th>\n",
       "      <th>tweet</th>\n",
       "      <th>fecha</th>\n",
       "      <th>anuncio</th>\n",
       "      <th>ubicacion</th>\n",
       "      <th>id</th>\n",
       "    </tr>\n",
       "  </thead>\n",
       "  <tbody>\n",
       "    <tr>\n",
       "      <th>0</th>\n",
       "      <td>Elizabeth789741</td>\n",
       "      <td>alferdez alferdezprensa por favor qxsea a part...</td>\n",
       "      <td>2020-03-19 23:04:48+00:00</td>\n",
       "      <td>Anuncio_1</td>\n",
       "      <td>Buenos Aires, Argentina</td>\n",
       "      <td>1240776263910002691</td>\n",
       "    </tr>\n",
       "    <tr>\n",
       "      <th>1</th>\n",
       "      <td>sergistack</td>\n",
       "      <td>usas google chrome lo siento por las mayuscula...</td>\n",
       "      <td>2020-03-28 20:07:18+00:00</td>\n",
       "      <td>Anuncio_1</td>\n",
       "      <td>Buenos Aires, Argentina</td>\n",
       "      <td>1243993087531266049</td>\n",
       "    </tr>\n",
       "    <tr>\n",
       "      <th>2</th>\n",
       "      <td>vickyuliyapo</td>\n",
       "      <td>comodice inesazpelicueta que comiencen ya a el...</td>\n",
       "      <td>2020-03-19 22:57:33+00:00</td>\n",
       "      <td>Anuncio_1</td>\n",
       "      <td>Buenos Aires, Argentina</td>\n",
       "      <td>1240774441266745345</td>\n",
       "    </tr>\n",
       "  </tbody>\n",
       "</table>\n",
       "</div>"
      ],
      "text/plain": [
       "          username                                              tweet  \\\n",
       "0  Elizabeth789741  alferdez alferdezprensa por favor qxsea a part...   \n",
       "1       sergistack  usas google chrome lo siento por las mayuscula...   \n",
       "2     vickyuliyapo  comodice inesazpelicueta que comiencen ya a el...   \n",
       "\n",
       "                       fecha    anuncio                ubicacion  \\\n",
       "0  2020-03-19 23:04:48+00:00  Anuncio_1  Buenos Aires, Argentina   \n",
       "1  2020-03-28 20:07:18+00:00  Anuncio_1  Buenos Aires, Argentina   \n",
       "2  2020-03-19 22:57:33+00:00  Anuncio_1  Buenos Aires, Argentina   \n",
       "\n",
       "                    id  \n",
       "0  1240776263910002691  \n",
       "1  1243993087531266049  \n",
       "2  1240774441266745345  "
      ]
     },
     "execution_count": 16,
     "metadata": {},
     "output_type": "execute_result"
    }
   ],
   "source": [
    "df.head(3)"
   ]
  },
  {
   "cell_type": "code",
   "execution_count": 17,
   "metadata": {
    "colab": {
     "base_uri": "https://localhost:8080/",
     "height": 35
    },
    "colab_type": "code",
    "id": "FmKOSDbti0U6",
    "outputId": "307a61fe-4d73-41ca-9545-8d01bb981092"
   },
   "outputs": [
    {
     "data": {
      "text/plain": [
       "(49, 6)"
      ]
     },
     "execution_count": 17,
     "metadata": {},
     "output_type": "execute_result"
    }
   ],
   "source": [
    "df.shape"
   ]
  },
  {
   "cell_type": "code",
   "execution_count": 18,
   "metadata": {
    "colab": {
     "base_uri": "https://localhost:8080/",
     "height": 243
    },
    "colab_type": "code",
    "id": "Wgvg2Ah1i0U8",
    "outputId": "bd5d509a-07e6-468b-9834-a0b57fd79aec"
   },
   "outputs": [
    {
     "name": "stdout",
     "output_type": "stream",
     "text": [
      "<class 'pandas.core.frame.DataFrame'>\n",
      "RangeIndex: 49 entries, 0 to 48\n",
      "Data columns (total 6 columns):\n",
      " #   Column     Non-Null Count  Dtype \n",
      "---  ------     --------------  ----- \n",
      " 0   username   49 non-null     object\n",
      " 1   tweet      49 non-null     object\n",
      " 2   fecha      49 non-null     object\n",
      " 3   anuncio    49 non-null     object\n",
      " 4   ubicacion  49 non-null     object\n",
      " 5   id         49 non-null     int64 \n",
      "dtypes: int64(1), object(5)\n",
      "memory usage: 2.4+ KB\n"
     ]
    }
   ],
   "source": [
    "df.info()"
   ]
  },
  {
   "cell_type": "code",
   "execution_count": 19,
   "metadata": {
    "colab": {
     "base_uri": "https://localhost:8080/",
     "height": 294
    },
    "colab_type": "code",
    "id": "EdEeeXsKi0U-",
    "outputId": "9b9ba098-a40e-477b-aeef-d4dfb2e359b9"
   },
   "outputs": [
    {
     "data": {
      "text/html": [
       "<div>\n",
       "<style scoped>\n",
       "    .dataframe tbody tr th:only-of-type {\n",
       "        vertical-align: middle;\n",
       "    }\n",
       "\n",
       "    .dataframe tbody tr th {\n",
       "        vertical-align: top;\n",
       "    }\n",
       "\n",
       "    .dataframe thead th {\n",
       "        text-align: right;\n",
       "    }\n",
       "</style>\n",
       "<table border=\"1\" class=\"dataframe\">\n",
       "  <thead>\n",
       "    <tr style=\"text-align: right;\">\n",
       "      <th></th>\n",
       "      <th>id</th>\n",
       "    </tr>\n",
       "  </thead>\n",
       "  <tbody>\n",
       "    <tr>\n",
       "      <th>count</th>\n",
       "      <td>4.900000e+01</td>\n",
       "    </tr>\n",
       "    <tr>\n",
       "      <th>mean</th>\n",
       "      <td>1.252461e+18</td>\n",
       "    </tr>\n",
       "    <tr>\n",
       "      <th>std</th>\n",
       "      <td>1.124485e+16</td>\n",
       "    </tr>\n",
       "    <tr>\n",
       "      <th>min</th>\n",
       "      <td>1.215094e+18</td>\n",
       "    </tr>\n",
       "    <tr>\n",
       "      <th>25%</th>\n",
       "      <td>1.244261e+18</td>\n",
       "    </tr>\n",
       "    <tr>\n",
       "      <th>50%</th>\n",
       "      <td>1.253872e+18</td>\n",
       "    </tr>\n",
       "    <tr>\n",
       "      <th>75%</th>\n",
       "      <td>1.264195e+18</td>\n",
       "    </tr>\n",
       "    <tr>\n",
       "      <th>max</th>\n",
       "      <td>1.268691e+18</td>\n",
       "    </tr>\n",
       "  </tbody>\n",
       "</table>\n",
       "</div>"
      ],
      "text/plain": [
       "                 id\n",
       "count  4.900000e+01\n",
       "mean   1.252461e+18\n",
       "std    1.124485e+16\n",
       "min    1.215094e+18\n",
       "25%    1.244261e+18\n",
       "50%    1.253872e+18\n",
       "75%    1.264195e+18\n",
       "max    1.268691e+18"
      ]
     },
     "execution_count": 19,
     "metadata": {},
     "output_type": "execute_result"
    }
   ],
   "source": [
    "df.describe()"
   ]
  },
  {
   "cell_type": "markdown",
   "metadata": {
    "colab_type": "text",
    "id": "sr3Ey1ppi0VA"
   },
   "source": [
    "## Análisis de _features_."
   ]
  },
  {
   "cell_type": "markdown",
   "metadata": {
    "colab_type": "text",
    "id": "FBYwcfQ9i0VA"
   },
   "source": [
    "### Valores de `username`."
   ]
  },
  {
   "cell_type": "code",
   "execution_count": 20,
   "metadata": {
    "colab": {
     "base_uri": "https://localhost:8080/",
     "height": 225
    },
    "colab_type": "code",
    "id": "DAQ7cC4zi0VA",
    "outputId": "51d44eeb-eee4-4267-c5aa-fff6462845cd"
   },
   "outputs": [
    {
     "name": "stdout",
     "output_type": "stream",
     "text": [
      "Pamela41935110     5\n",
      "rodrigosabas80     4\n",
      "adrianad952        3\n",
      "ClaradeGoycoech    3\n",
      "emmariviello       2\n",
      "Elizabeth789741    2\n",
      "sergistack         2\n",
      "LaAcuariana78      2\n",
      "IvanBurgofkrebs    1\n",
      "GladysGaona5       1\n",
      "edith_sga          1\n",
      "LMnuncaP           1\n",
      "GriseldaLassaga    1\n",
      "vickyuliyapo       1\n",
      "gallinCpL2018      1\n",
      "soniaTsanchez      1\n",
      "luchocremaschi     1\n",
      "9020Laura          1\n",
      "lirondelle1984     1\n",
      "HBoleggi           1\n",
      "Marianikeb         1\n",
      "Populismomata      1\n",
      "RosanaFalabella    1\n",
      "SandraA09996070    1\n",
      "germanmalparti1    1\n",
      "MonicaDamiano3     1\n",
      "Raquelgara1Raqu    1\n",
      "Ly_Cerv            1\n",
      "Antoo2108181       1\n",
      "albertoelma        1\n",
      "RUCHOCASLA         1\n",
      "danielchayau       1\n",
      "Carolin48120500    1\n",
      "MatiasERuiz        1\n",
      "Name: username, dtype: int64\n"
     ]
    }
   ],
   "source": [
    "print(df.username.value_counts())"
   ]
  },
  {
   "cell_type": "code",
   "execution_count": 21,
   "metadata": {
    "colab": {
     "base_uri": "https://localhost:8080/",
     "height": 815
    },
    "colab_type": "code",
    "id": "Q0Ie4zqPi0VC",
    "outputId": "0e7f38ec-bc9c-49f0-83fb-3da14d7e4727"
   },
   "outputs": [
    {
     "data": {
      "text/plain": [
       "Series([], Name: username, dtype: int64)"
      ]
     },
     "execution_count": 21,
     "metadata": {},
     "output_type": "execute_result"
    }
   ],
   "source": [
    "usuarios_mas_10_tweets = df['username'].isin(df['username'].value_counts()[df['username'].value_counts()> 10].index)\n",
    "df[usuarios_mas_10_tweets].username.value_counts()"
   ]
  },
  {
   "cell_type": "markdown",
   "metadata": {
    "colab_type": "text",
    "id": "kLaRwB7Ei0VD"
   },
   "source": [
    "### Valores de `anuncio`."
   ]
  },
  {
   "cell_type": "code",
   "execution_count": 23,
   "metadata": {
    "colab": {
     "base_uri": "https://localhost:8080/",
     "height": 555
    },
    "colab_type": "code",
    "id": "iE9wUiLXi0VE",
    "outputId": "181e170a-1290-48a6-e097-0aebd558af01"
   },
   "outputs": [
    {
     "name": "stdout",
     "output_type": "stream",
     "text": [
      "Anuncio_6    11\n",
      "Anuncio_1     9\n",
      "Anuncio_2     9\n",
      "Anuncio_4     8\n",
      "Anuncio_7     5\n",
      "Anuncio_3     4\n",
      "Anuncio_5     3\n",
      "Name: anuncio, dtype: int64\n"
     ]
    },
    {
     "data": {
      "text/plain": [
       "<AxesSubplot:title={'center':'Distribución de anuncio'}>"
      ]
     },
     "execution_count": 23,
     "metadata": {},
     "output_type": "execute_result"
    },
    {
     "data": {
      "image/png": "[encoded data removed]",
      "text/plain": [
       "<Figure size 432x288 with 1 Axes>"
      ]
     },
     "metadata": {
      "needs_background": "light"
     },
     "output_type": "display_data"
    }
   ],
   "source": [
    "print(df.anuncio.value_counts())\n",
    "plt.title('Distribución de anuncio')\n",
    "df.anuncio.value_counts().sort_index().plot(kind='bar')"
   ]
  },
  {
   "cell_type": "markdown",
   "metadata": {
    "colab_type": "text",
    "id": "mZS5cNb4i0VF"
   },
   "source": [
    "### Valores de `ubicacion`."
   ]
  },
  {
   "cell_type": "code",
   "execution_count": 24,
   "metadata": {
    "colab": {
     "base_uri": "https://localhost:8080/",
     "height": 621
    },
    "colab_type": "code",
    "id": "5mmLRIWdi0VG",
    "outputId": "3b9d5180-8ed5-4dfc-9918-cba610390d4e"
   },
   "outputs": [
    {
     "name": "stdout",
     "output_type": "stream",
     "text": [
      "Buenos Aires, Argentina    41\n",
      "Rosario, Argentina          4\n",
      "Cordoba, Argentina          3\n",
      "Paraná, Argentina           1\n",
      "Name: ubicacion, dtype: int64\n"
     ]
    },
    {
     "data": {
      "text/plain": [
       "<AxesSubplot:title={'center':'Distribución de ubicacion'}>"
      ]
     },
     "execution_count": 24,
     "metadata": {},
     "output_type": "execute_result"
    },
    {
     "data": {
      "image/png": "[encoded data removed]",
      "text/plain": [
       "<Figure size 432x288 with 1 Axes>"
      ]
     },
     "metadata": {
      "needs_background": "light"
     },
     "output_type": "display_data"
    }
   ],
   "source": [
    "print(df.ubicacion.value_counts())\n",
    "plt.title('Distribución de ubicacion')\n",
    "df.ubicacion.value_counts().plot(kind='bar')"
   ]
  },
  {
   "cell_type": "markdown",
   "metadata": {
    "colab_type": "text",
    "id": "nYwQ8AUai0VH"
   },
   "source": [
    "### Valores de `fecha`."
   ]
  },
  {
   "cell_type": "code",
   "execution_count": 25,
   "metadata": {
    "colab": {
     "base_uri": "https://localhost:8080/",
     "height": 555
    },
    "colab_type": "code",
    "id": "HfDhaP_Ei0VH",
    "outputId": "4a6b0e46-0fe8-487c-ed24-ead9e47e5ff8"
   },
   "outputs": [
    {
     "name": "stdout",
     "output_type": "stream",
     "text": [
      "2020-05-23    10\n",
      "2020-03-19     8\n",
      "2020-04-25     8\n",
      "2020-03-29     8\n",
      "2020-06-04     5\n",
      "2020-04-10     4\n",
      "2020-05-08     3\n",
      "2020-03-28     2\n",
      "2020-01-09     1\n",
      "Name: fecha_sola, dtype: int64\n"
     ]
    },
    {
     "data": {
      "text/plain": [
       "<AxesSubplot:title={'center':'Distribución de fechas'}>"
      ]
     },
     "execution_count": 25,
     "metadata": {},
     "output_type": "execute_result"
    },
    {
     "data": {
      "image/png": "[encoded data removed]",
      "text/plain": [
       "<Figure size 432x288 with 1 Axes>"
      ]
     },
     "metadata": {
      "needs_background": "light"
     },
     "output_type": "display_data"
    }
   ],
   "source": [
    "df['fecha_sola'] = df['fecha'].map(lambda x: str(x)[:-15])\n",
    "print(df.fecha_sola.value_counts())\n",
    "plt.title('Distribución de fechas')\n",
    "df.fecha_sola.value_counts().sort_index().plot(kind='bar')"
   ]
  },
  {
   "cell_type": "markdown",
   "metadata": {
    "colab_type": "text",
    "id": "gPdcQJ7Ci0VJ"
   },
   "source": [
    "Para poder aprovechar las funcionalidades después, es conveniente convertir el campo \"fecha\" en timestamp."
   ]
  },
  {
   "cell_type": "code",
   "execution_count": 26,
   "metadata": {
    "colab": {},
    "colab_type": "code",
    "id": "dsqKRaGMi0VK"
   },
   "outputs": [],
   "source": [
    "df['fecha'] = pd.to_datetime(df['fecha'])"
   ]
  },
  {
   "cell_type": "markdown",
   "metadata": {
    "colab_type": "text",
    "id": "Zg9_vbD9i0VP"
   },
   "source": [
    "### Valores de `tweet`."
   ]
  },
  {
   "cell_type": "markdown",
   "metadata": {
    "colab_type": "text",
    "id": "U5-HFwDDi0VP"
   },
   "source": [
    "Procedemos a chusmear los valores de los tweets."
   ]
  },
  {
   "cell_type": "code",
   "execution_count": 27,
   "metadata": {
    "colab": {
     "base_uri": "https://localhost:8080/",
     "height": 87
    },
    "colab_type": "code",
    "id": "h3rGG1R2i0VQ",
    "outputId": "ccb3a036-3589-46fa-bd6d-722e36105929"
   },
   "outputs": [],
   "source": [
    "pd.set_option('display.max_rows', 500)\n",
    "pd.set_option('display.max_colwidth', None)\n",
    "df.tweet.head(3)\n",
    "pd.reset_option('display.max_rows')\n",
    "pd.reset_option('display.max_colwidth')"
   ]
  },
  {
   "cell_type": "code",
   "execution_count": 28,
   "metadata": {
    "colab": {
     "base_uri": "https://localhost:8080/",
     "height": 555
    },
    "colab_type": "code",
    "id": "nrcfbja6i0VT",
    "outputId": "d6d58830-33b1-4abe-fa82-4aadfefe0be9"
   },
   "outputs": [
    {
     "name": "stdout",
     "output_type": "stream",
     "text": [
      "2020-05-23    10\n",
      "2020-03-19     8\n",
      "2020-04-25     8\n",
      "2020-03-29     8\n",
      "2020-06-04     5\n",
      "2020-04-10     4\n",
      "2020-05-08     3\n",
      "2020-03-28     2\n",
      "2020-01-09     1\n",
      "Name: fecha_sola, dtype: int64\n"
     ]
    },
    {
     "data": {
      "text/plain": [
       "<AxesSubplot:title={'center':'Distribución de fechas'}>"
      ]
     },
     "execution_count": 28,
     "metadata": {},
     "output_type": "execute_result"
    },
    {
     "data": {
      "image/png": "[encoded data removed]",
      "text/plain": [
       "<Figure size 432x288 with 1 Axes>"
      ]
     },
     "metadata": {
      "needs_background": "light"
     },
     "output_type": "display_data"
    }
   ],
   "source": [
    "print(df.fecha_sola.value_counts())\n",
    "fecha_sola = df['fecha'].map(lambda x: str(x)[:-15])\n",
    "plt.title('Distribución de fechas')\n",
    "fecha_sola.value_counts().sort_index().plot(kind='bar')"
   ]
  },
  {
   "cell_type": "markdown",
   "metadata": {
    "colab_type": "text",
    "id": "t957SjbRi0VU"
   },
   "source": [
    "### Creación de variable _target_: `sentimiento`."
   ]
  },
  {
   "cell_type": "markdown",
   "metadata": {
    "colab_type": "text",
    "id": "2TYx24G4i0VV"
   },
   "source": [
    "Crearemos la variable target para, posteriormente, poder realizar la clasificación. Por el momento estará vacía."
   ]
  },
  {
   "cell_type": "code",
   "execution_count": 29,
   "metadata": {
    "colab": {},
    "colab_type": "code",
    "id": "0NPFpsdci0VV"
   },
   "outputs": [],
   "source": [
    "df['sentimiento'] = ''"
   ]
  },
  {
   "cell_type": "markdown",
   "metadata": {
    "colab_type": "text",
    "id": "xJmK_CS0i0VW"
   },
   "source": [
    "## Limpieza."
   ]
  },
  {
   "cell_type": "markdown",
   "metadata": {
    "colab_type": "text",
    "id": "L6Du5tSj0o9W"
   },
   "source": [
    "Tamaño del dataset previo a la limpieza:"
   ]
  },
  {
   "cell_type": "code",
   "execution_count": 30,
   "metadata": {
    "colab": {
     "base_uri": "https://localhost:8080/",
     "height": 35
    },
    "colab_type": "code",
    "id": "8RpNdRCT0OwP",
    "outputId": "ef50c236-803f-4595-ac34-1506ae8ad935"
   },
   "outputs": [
    {
     "data": {
      "text/plain": [
       "(49, 8)"
      ]
     },
     "execution_count": 30,
     "metadata": {},
     "output_type": "execute_result"
    }
   ],
   "source": [
    "df.shape"
   ]
  },
  {
   "cell_type": "markdown",
   "metadata": {
    "colab_type": "text",
    "id": "bzOrOstqi0VX"
   },
   "source": [
    "### Limpieza por usuarios específicos."
   ]
  },
  {
   "cell_type": "markdown",
   "metadata": {
    "colab_type": "text",
    "id": "0dMmn0api0VX"
   },
   "source": [
    "#### Trolls.\n",
    "Procedemos a limpiar a los usuarios que son trolls."
   ]
  },
  {
   "cell_type": "code",
   "execution_count": 31,
   "metadata": {
    "colab": {
     "base_uri": "https://localhost:8080/",
     "height": 49
    },
    "colab_type": "code",
    "id": "ZVtyJh0xi0VX",
    "outputId": "d00c79be-cbed-4d6a-d828-a47cfbaa5335"
   },
   "outputs": [],
   "source": [
    "#definimos una lista negra de los usuarios que vamos a eliminar\n",
    "usuarios_blacklist = ['sergistack', 'GamesRedDeer']\n",
    "mask_bl = [x in usuarios_blacklist for x in df['username']] "
   ]
  },
  {
   "cell_type": "code",
   "execution_count": 32,
   "metadata": {
    "colab": {
     "base_uri": "https://localhost:8080/",
     "height": 193
    },
    "colab_type": "code",
    "id": "5gVJZLXDi0VZ",
    "outputId": "f1d50e32-c64f-4085-bf69-ba5be9db8e70"
   },
   "outputs": [
    {
     "data": {
      "text/plain": [
       "47"
      ]
     },
     "execution_count": 32,
     "metadata": {},
     "output_type": "execute_result"
    }
   ],
   "source": [
    "#definimos una máscara para excluir a los usuarios en la lista negra\n",
    "mask_not_bl = [x not in usuarios_blacklist for x in df['username']] \n",
    "#pisamos el dataframe sin los usuarios de la lista negra\n",
    "df = df[mask_not_bl]\n",
    "df.shape[0]"
   ]
  },
  {
   "cell_type": "markdown",
   "metadata": {
    "colab_type": "text",
    "id": "KDySKcJEi0Vb"
   },
   "source": [
    "#### Medios de comunicación.\n",
    "Procedemos a limpiar a los usuarios que son medios de comunicación."
   ]
  },
  {
   "cell_type": "code",
   "execution_count": 33,
   "metadata": {
    "colab": {
     "base_uri": "https://localhost:8080/",
     "height": 1000
    },
    "colab_type": "code",
    "id": "lNtAHyb0i0Vb",
    "outputId": "14abea2f-525c-4958-9f2b-76a60123f345"
   },
   "outputs": [],
   "source": [
    "usuarios_medios = ['gustavorearte1','gerdellamonica','radiofonica1007',' pmgcharly',' NTodxs',' Noticiasde_',' nora_verges',' mnspezzapria',' METRO_RADIO_TV',' MartinD50004804',' mariogaloppo',' LUIS20GEREZ',' losprimerostuc',' lacriticaok',' lacapital',' IldefonsoM',' HernanMundo',' elsolquilmes',' ellitoral',' cronica',' cordoba',' Contexto_Tuc',' ConLaGenteRos',' con_sello',' Cadena3Com',' AvellanedaReal',' AiredeSantaFe',' AgenciaDib',' Adry1BC',' ADNsur',' abccordoba',' 104Urbana']\n",
    "mask_media = [x in usuarios_medios for x in df['username']] "
   ]
  },
  {
   "cell_type": "code",
   "execution_count": 34,
   "metadata": {
    "colab": {},
    "colab_type": "code",
    "id": "fVSoatJli0Vc"
   },
   "outputs": [
    {
     "data": {
      "text/plain": [
       "(47, 8)"
      ]
     },
     "execution_count": 34,
     "metadata": {},
     "output_type": "execute_result"
    }
   ],
   "source": [
    "#definimos una máscara para excluir a los usuarios en la lista negra\n",
    "mask_not_media = [x not in usuarios_medios for x in df['username']] \n",
    "#pisamos el dataframe sin los usuarios de la lista negra\n",
    "df = df[mask_not_media]\n",
    "df.shape[0]"
   ]
  },
  {
   "cell_type": "markdown",
   "metadata": {},
   "source": [
    "### Eliminación de duplicados.\n",
    "Limpiamos los duplicados."
   ]
  },
  {
   "cell_type": "code",
   "execution_count": 35,
   "metadata": {},
   "outputs": [
    {
     "data": {
      "text/plain": [
       "(47, 8)"
      ]
     },
     "execution_count": 35,
     "metadata": {},
     "output_type": "execute_result"
    }
   ],
   "source": [
    "df.drop_duplicates(subset=['tweet'], keep=False, inplace=True)\n",
    "df.shape"
   ]
  },
  {
   "cell_type": "markdown",
   "metadata": {},
   "source": [
    "### Guardamos el dataset filtrado."
   ]
  },
  {
   "cell_type": "code",
   "execution_count": 57,
   "metadata": {},
   "outputs": [],
   "source": [
    "ruta = \"Data/Crudos/tweets_crudos_limpios_\"+str(time.time())+\".csv\"\n",
    "df.to_csv(ruta, sep=';', index=False)"
   ]
  },
  {
   "cell_type": "markdown",
   "metadata": {},
   "source": [
    "## Merge de datasets."
   ]
  },
  {
   "cell_type": "markdown",
   "metadata": {},
   "source": [
    "### Dataset con todos los tweets obtenidos hasta el momento."
   ]
  },
  {
   "cell_type": "markdown",
   "metadata": {},
   "source": [
    "Importamos el dataset con todos los tweets."
   ]
  },
  {
   "cell_type": "code",
   "execution_count": 60,
   "metadata": {},
   "outputs": [
    {
     "name": "stdin",
     "output_type": "stream",
     "text": [
      "Insertar el nombre de archivo del CSV: tweets_crudos_limpios_1598365897.8135712\n"
     ]
    }
   ],
   "source": [
    "search = input(\"Insertar el nombre de archivo del CSV:\")\n",
    "df_sin_clasificar = pd.read_csv(f\"Data/Crudos/{search.lower()}.csv\", sep=';')   "
   ]
  },
  {
   "cell_type": "code",
   "execution_count": 61,
   "metadata": {},
   "outputs": [
    {
     "name": "stdout",
     "output_type": "stream",
     "text": [
      "(47, 7)\n"
     ]
    },
    {
     "data": {
      "text/html": [
       "<div>\n",
       "<style scoped>\n",
       "    .dataframe tbody tr th:only-of-type {\n",
       "        vertical-align: middle;\n",
       "    }\n",
       "\n",
       "    .dataframe tbody tr th {\n",
       "        vertical-align: top;\n",
       "    }\n",
       "\n",
       "    .dataframe thead th {\n",
       "        text-align: right;\n",
       "    }\n",
       "</style>\n",
       "<table border=\"1\" class=\"dataframe\">\n",
       "  <thead>\n",
       "    <tr style=\"text-align: right;\">\n",
       "      <th></th>\n",
       "      <th>username</th>\n",
       "      <th>tweet</th>\n",
       "      <th>fecha</th>\n",
       "      <th>anuncio</th>\n",
       "      <th>ubicacion</th>\n",
       "      <th>fecha_sola</th>\n",
       "      <th>sentimiento</th>\n",
       "    </tr>\n",
       "  </thead>\n",
       "  <tbody>\n",
       "    <tr>\n",
       "      <th>0</th>\n",
       "      <td>Elizabeth789741</td>\n",
       "      <td>alferdez alferdezprensa por favor qxsea a part...</td>\n",
       "      <td>2020-03-19 23:04:48+00:00</td>\n",
       "      <td>Anuncio_1</td>\n",
       "      <td>Buenos Aires, Argentina</td>\n",
       "      <td>2020-03-19</td>\n",
       "      <td>NaN</td>\n",
       "    </tr>\n",
       "    <tr>\n",
       "      <th>1</th>\n",
       "      <td>vickyuliyapo</td>\n",
       "      <td>comodice inesazpelicueta que comiencen ya a el...</td>\n",
       "      <td>2020-03-19 22:57:33+00:00</td>\n",
       "      <td>Anuncio_1</td>\n",
       "      <td>Buenos Aires, Argentina</td>\n",
       "      <td>2020-03-19</td>\n",
       "      <td>NaN</td>\n",
       "    </tr>\n",
       "    <tr>\n",
       "      <th>2</th>\n",
       "      <td>RUCHOCASLA</td>\n",
       "      <td>alferdez alferdezprensa a los que enganchan en...</td>\n",
       "      <td>2020-03-19 20:28:12+00:00</td>\n",
       "      <td>Anuncio_1</td>\n",
       "      <td>Buenos Aires, Argentina</td>\n",
       "      <td>2020-03-19</td>\n",
       "      <td>NaN</td>\n",
       "    </tr>\n",
       "  </tbody>\n",
       "</table>\n",
       "</div>"
      ],
      "text/plain": [
       "          username                                              tweet  \\\n",
       "0  Elizabeth789741  alferdez alferdezprensa por favor qxsea a part...   \n",
       "1     vickyuliyapo  comodice inesazpelicueta que comiencen ya a el...   \n",
       "2       RUCHOCASLA  alferdez alferdezprensa a los que enganchan en...   \n",
       "\n",
       "                       fecha    anuncio                ubicacion  fecha_sola  \\\n",
       "0  2020-03-19 23:04:48+00:00  Anuncio_1  Buenos Aires, Argentina  2020-03-19   \n",
       "1  2020-03-19 22:57:33+00:00  Anuncio_1  Buenos Aires, Argentina  2020-03-19   \n",
       "2  2020-03-19 20:28:12+00:00  Anuncio_1  Buenos Aires, Argentina  2020-03-19   \n",
       "\n",
       "   sentimiento  \n",
       "0          NaN  \n",
       "1          NaN  \n",
       "2          NaN  "
      ]
     },
     "execution_count": 61,
     "metadata": {},
     "output_type": "execute_result"
    }
   ],
   "source": [
    "print(df_sin_clasificar.shape)\n",
    "df_sin_clasificar.head(3)"
   ]
  },
  {
   "cell_type": "markdown",
   "metadata": {},
   "source": [
    "### Dataset con tweets clasificados manualmente."
   ]
  },
  {
   "cell_type": "markdown",
   "metadata": {},
   "source": [
    "Importamos el dataset con los tweets ya clasificados. Este paso requiere que hayamos renombrado el dataset como **tweets_clasificados.csv** para evitar pisarlo."
   ]
  },
  {
   "cell_type": "code",
   "execution_count": 38,
   "metadata": {},
   "outputs": [
    {
     "name": "stdout",
     "output_type": "stream",
     "text": [
      "(807, 7)\n"
     ]
    },
    {
     "data": {
      "text/html": [
       "<div>\n",
       "<style scoped>\n",
       "    .dataframe tbody tr th:only-of-type {\n",
       "        vertical-align: middle;\n",
       "    }\n",
       "\n",
       "    .dataframe tbody tr th {\n",
       "        vertical-align: top;\n",
       "    }\n",
       "\n",
       "    .dataframe thead th {\n",
       "        text-align: right;\n",
       "    }\n",
       "</style>\n",
       "<table border=\"1\" class=\"dataframe\">\n",
       "  <thead>\n",
       "    <tr style=\"text-align: right;\">\n",
       "      <th></th>\n",
       "      <th>username</th>\n",
       "      <th>tweet</th>\n",
       "      <th>fecha</th>\n",
       "      <th>anuncio</th>\n",
       "      <th>ubicacion</th>\n",
       "      <th>id</th>\n",
       "      <th>sentimiento</th>\n",
       "    </tr>\n",
       "  </thead>\n",
       "  <tbody>\n",
       "    <tr>\n",
       "      <th>0</th>\n",
       "      <td>VozdeRosario</td>\n",
       "      <td>coronavirus suman 5527 los fallecidos y 282437...</td>\n",
       "      <td>2020-08-14 23:36:23+00:00</td>\n",
       "      <td>Anuncio_11</td>\n",
       "      <td>Rosario, Argentina</td>\n",
       "      <td>1294417616153560000</td>\n",
       "      <td>Neutral</td>\n",
       "    </tr>\n",
       "    <tr>\n",
       "      <th>1</th>\n",
       "      <td>VozdeRosario</td>\n",
       "      <td>un arquero de la seleccion argentina fue diagn...</td>\n",
       "      <td>2020-08-14 23:18:04+00:00</td>\n",
       "      <td>Anuncio_11</td>\n",
       "      <td>Rosario, Argentina</td>\n",
       "      <td>1294413007334800000</td>\n",
       "      <td>Neutral</td>\n",
       "    </tr>\n",
       "    <tr>\n",
       "      <th>2</th>\n",
       "      <td>VozdeRosario</td>\n",
       "      <td>coronavirus en rosario 77 nuevos casos en la c...</td>\n",
       "      <td>2020-08-14 23:13:34+00:00</td>\n",
       "      <td>Anuncio_11</td>\n",
       "      <td>Rosario, Argentina</td>\n",
       "      <td>1294411876374380000</td>\n",
       "      <td>Neutral</td>\n",
       "    </tr>\n",
       "  </tbody>\n",
       "</table>\n",
       "</div>"
      ],
      "text/plain": [
       "       username                                              tweet  \\\n",
       "0  VozdeRosario  coronavirus suman 5527 los fallecidos y 282437...   \n",
       "1  VozdeRosario  un arquero de la seleccion argentina fue diagn...   \n",
       "2  VozdeRosario  coronavirus en rosario 77 nuevos casos en la c...   \n",
       "\n",
       "                       fecha     anuncio           ubicacion  \\\n",
       "0  2020-08-14 23:36:23+00:00  Anuncio_11  Rosario, Argentina   \n",
       "1  2020-08-14 23:18:04+00:00  Anuncio_11  Rosario, Argentina   \n",
       "2  2020-08-14 23:13:34+00:00  Anuncio_11  Rosario, Argentina   \n",
       "\n",
       "                    id sentimiento  \n",
       "0  1294417616153560000     Neutral  \n",
       "1  1294413007334800000     Neutral  \n",
       "2  1294411876374380000     Neutral  "
      ]
     },
     "execution_count": 38,
     "metadata": {},
     "output_type": "execute_result"
    }
   ],
   "source": [
    "df_clasificados = pd.read_csv('Data/Clasificados/tweets_clasificados.csv', sep=';')    \n",
    "print(df_clasificados.shape)\n",
    "df_clasificados.head(3)"
   ]
  },
  {
   "cell_type": "markdown",
   "metadata": {},
   "source": [
    "## Merge entre dataset clasificado y sin clasificar."
   ]
  },
  {
   "cell_type": "markdown",
   "metadata": {},
   "source": [
    "Procedemos a impactar las clasificaciones al dataset completo con un merge por `id`."
   ]
  },
  {
   "cell_type": "code",
   "execution_count": 39,
   "metadata": {},
   "outputs": [
    {
     "name": "stdout",
     "output_type": "stream",
     "text": [
      "Cantidad de tweets clasificados en el dataset, previo al merge: 47\n"
     ]
    },
    {
     "name": "stderr",
     "output_type": "stream",
     "text": [
      "C:\\Users\\Manu\\anaconda3\\envs\\tweets\\lib\\site-packages\\pandas\\core\\computation\\expressions.py:68: FutureWarning: elementwise comparison failed; returning scalar instead, but in the future will perform elementwise comparison\n",
      "  return op(a, b)\n"
     ]
    }
   ],
   "source": [
    "clasificados = df_sin_clasificar.sentimiento != ''\n",
    "print('Cantidad de tweets clasificados en el dataset, previo al merge:',clasificados.sum())"
   ]
  },
  {
   "cell_type": "code",
   "execution_count": 40,
   "metadata": {},
   "outputs": [],
   "source": [
    "df_sin_clasificar = df_sin_clasificar.set_index('id')\n",
    "df_clasificados = df_clasificados.set_index('id')"
   ]
  },
  {
   "cell_type": "code",
   "execution_count": 41,
   "metadata": {},
   "outputs": [],
   "source": [
    "df_merge = pd.merge(df_sin_clasificar, df_clasificados, how='left', on=['id'])"
   ]
  },
  {
   "cell_type": "markdown",
   "metadata": {},
   "source": [
    "### Comprobación de merge exitoso."
   ]
  },
  {
   "cell_type": "markdown",
   "metadata": {},
   "source": [
    "Para comprobar que el merge haya sido exitoso, verificamos que el número de no nulos sea el mismo que la cantidad de registros en el dataset de clasificados:"
   ]
  },
  {
   "cell_type": "code",
   "execution_count": 42,
   "metadata": {},
   "outputs": [
    {
     "data": {
      "text/plain": [
       "False"
      ]
     },
     "execution_count": 42,
     "metadata": {},
     "output_type": "execute_result"
    }
   ],
   "source": [
    "df_merge.sentimiento_y.value_counts().values.sum() == df_clasificados.shape[0]"
   ]
  },
  {
   "cell_type": "markdown",
   "metadata": {},
   "source": [
    "También verificamos visualmente que coincidan las imputaciones de las clasificaciones:"
   ]
  },
  {
   "cell_type": "code",
   "execution_count": 43,
   "metadata": {},
   "outputs": [
    {
     "data": {
      "text/html": [
       "<div>\n",
       "<style scoped>\n",
       "    .dataframe tbody tr th:only-of-type {\n",
       "        vertical-align: middle;\n",
       "    }\n",
       "\n",
       "    .dataframe tbody tr th {\n",
       "        vertical-align: top;\n",
       "    }\n",
       "\n",
       "    .dataframe thead th {\n",
       "        text-align: right;\n",
       "    }\n",
       "</style>\n",
       "<table border=\"1\" class=\"dataframe\">\n",
       "  <thead>\n",
       "    <tr style=\"text-align: right;\">\n",
       "      <th></th>\n",
       "      <th>username_x</th>\n",
       "      <th>tweet_x</th>\n",
       "      <th>sentimiento_x</th>\n",
       "      <th>username_y</th>\n",
       "      <th>tweet_y</th>\n",
       "      <th>sentimiento_y</th>\n",
       "    </tr>\n",
       "    <tr>\n",
       "      <th>id</th>\n",
       "      <th></th>\n",
       "      <th></th>\n",
       "      <th></th>\n",
       "      <th></th>\n",
       "      <th></th>\n",
       "      <th></th>\n",
       "    </tr>\n",
       "  </thead>\n",
       "  <tbody>\n",
       "  </tbody>\n",
       "</table>\n",
       "</div>"
      ],
      "text/plain": [
       "Empty DataFrame\n",
       "Columns: [username_x, tweet_x, sentimiento_x, username_y, tweet_y, sentimiento_y]\n",
       "Index: []"
      ]
     },
     "execution_count": 43,
     "metadata": {},
     "output_type": "execute_result"
    }
   ],
   "source": [
    "df_merge.loc[df_merge.sentimiento_y.notnull(), ['username_x', 'tweet_x','sentimiento_x','username_y','tweet_y','sentimiento_y']]"
   ]
  },
  {
   "cell_type": "markdown",
   "metadata": {},
   "source": [
    "Revisamos a cuántos tweets se les impactó el valor de `sentimiento`:"
   ]
  },
  {
   "cell_type": "code",
   "execution_count": 44,
   "metadata": {},
   "outputs": [
    {
     "name": "stdout",
     "output_type": "stream",
     "text": [
      "Cantidad de tweets clasificados en el dataset, luego del merge: 0\n"
     ]
    }
   ],
   "source": [
    "print('Cantidad de tweets clasificados en el dataset, luego del merge:', df_merge.sentimiento_y.notnull().sum())"
   ]
  },
  {
   "cell_type": "markdown",
   "metadata": {},
   "source": [
    "Habiendo comprobado que el merge fue exitoso, procedemos a: \n",
    "* Eliminar las columnas repetidas: de las conlumnas sufijo \"_y_\" nos quedaremos con \"sentimiento_y\" y eliminaremos el resto. \n",
    "* Renombrar las columnas a como estaban originalmente, es decir, quitándoles el sufijo \"_x_\".\n",
    "* Renombrar el dataframe como \"df\"."
   ]
  },
  {
   "cell_type": "code",
   "execution_count": 45,
   "metadata": {},
   "outputs": [
    {
     "data": {
      "text/plain": [
       "Index(['username_x', 'tweet_x', 'fecha_x', 'anuncio_x', 'ubicacion_x',\n",
       "       'fecha_sola', 'sentimiento_x', 'username_y', 'tweet_y', 'fecha_y',\n",
       "       'anuncio_y', 'ubicacion_y', 'sentimiento_y'],\n",
       "      dtype='object')"
      ]
     },
     "execution_count": 45,
     "metadata": {},
     "output_type": "execute_result"
    }
   ],
   "source": [
    "df_merge.columns"
   ]
  },
  {
   "cell_type": "code",
   "execution_count": 46,
   "metadata": {},
   "outputs": [],
   "source": [
    "df_merge.drop(columns=['username_y', 'tweet_y', 'fecha_y', 'anuncio_y', 'ubicacion_y', 'sentimiento_x'], inplace=True)"
   ]
  },
  {
   "cell_type": "code",
   "execution_count": 47,
   "metadata": {},
   "outputs": [
    {
     "data": {
      "text/plain": [
       "Index(['username_x', 'tweet_x', 'fecha_x', 'anuncio_x', 'ubicacion_x',\n",
       "       'fecha_sola', 'sentimiento_y'],\n",
       "      dtype='object')"
      ]
     },
     "execution_count": 47,
     "metadata": {},
     "output_type": "execute_result"
    }
   ],
   "source": [
    "df_merge.columns"
   ]
  },
  {
   "cell_type": "code",
   "execution_count": 48,
   "metadata": {},
   "outputs": [],
   "source": [
    "df_merge.rename(columns={'username_x':'username', 'tweet_x':'tweet', 'fecha_x':'fecha', 'anuncio_x':'anuncio', 'ubicacion_x':'ubicacion', 'sentimiento_y':'sentimiento'}, inplace=True)"
   ]
  },
  {
   "cell_type": "code",
   "execution_count": 49,
   "metadata": {},
   "outputs": [
    {
     "data": {
      "text/plain": [
       "Index(['username', 'tweet', 'fecha', 'anuncio', 'ubicacion', 'fecha_sola',\n",
       "       'sentimiento'],\n",
       "      dtype='object')"
      ]
     },
     "execution_count": 49,
     "metadata": {},
     "output_type": "execute_result"
    }
   ],
   "source": [
    "df_merge.columns"
   ]
  },
  {
   "cell_type": "code",
   "execution_count": 50,
   "metadata": {},
   "outputs": [
    {
     "data": {
      "text/plain": [
       "(47, 7)"
      ]
     },
     "execution_count": 50,
     "metadata": {},
     "output_type": "execute_result"
    }
   ],
   "source": [
    "df = df_merge\n",
    "df.shape"
   ]
  },
  {
   "cell_type": "markdown",
   "metadata": {},
   "source": [
    "### Export del dataset consolidado."
   ]
  },
  {
   "cell_type": "markdown",
   "metadata": {},
   "source": [
    "También exportaremos el dataset para preservarlo y continuar con las clasificaciones faltantes a través del método \"Mechanical Turk\"."
   ]
  },
  {
   "cell_type": "code",
   "execution_count": 51,
   "metadata": {},
   "outputs": [
    {
     "name": "stdout",
     "output_type": "stream",
     "text": [
      "/content/drive/My Drive/TP Integrador/Notebooks/Data/tweets_parcialmente_clasificados.csv\n",
      "Data/tweets_parcialmente_clasificados.csv\n"
     ]
    }
   ],
   "source": [
    "nombre = \"tweets_parcialmente_clasificados.csv\"\n",
    "ruta_drive = \"/content/drive/My Drive/TP Integrador/Notebooks/Data/\"+nombre\n",
    "ruta_local = \"Data/\"+nombre\n",
    "\n",
    "print(ruta_drive)\n",
    "print(ruta_local)"
   ]
  },
  {
   "cell_type": "code",
   "execution_count": 52,
   "metadata": {},
   "outputs": [],
   "source": [
    "try:\n",
    "    df.to_csv(ruta_drive, sep=';', index=False)\n",
    "except:\n",
    "    df.to_csv(ruta_local, sep=';', index=False)  "
   ]
  },
  {
   "cell_type": "markdown",
   "metadata": {},
   "source": [
    "### Export del dataset sin clasificar."
   ]
  },
  {
   "cell_type": "markdown",
   "metadata": {},
   "source": [
    "También exportaremos el dataset de los que quedan sin clasificar."
   ]
  },
  {
   "cell_type": "code",
   "execution_count": 53,
   "metadata": {},
   "outputs": [],
   "source": [
    "df_sin_clasificar = df[(df.sentimiento.isna()) | (df.sentimiento == '')]\n",
    "qfilas = df_sin_clasificar.shape[0]\n",
    "qfilas = int(round(qfilas / 2, 0))"
   ]
  },
  {
   "cell_type": "code",
   "execution_count": 54,
   "metadata": {},
   "outputs": [
    {
     "data": {
      "text/plain": [
       "((24, 7), (23, 7))"
      ]
     },
     "execution_count": 54,
     "metadata": {},
     "output_type": "execute_result"
    }
   ],
   "source": [
    "segunda_mitad = df_sin_clasificar.iloc[qfilas:]\n",
    "primera_mitad = df_sin_clasificar.iloc[:qfilas]\n",
    "\n",
    "primera_mitad.shape, segunda_mitad.shape"
   ]
  },
  {
   "cell_type": "code",
   "execution_count": 55,
   "metadata": {},
   "outputs": [],
   "source": [
    "nombre_mitad_1 = \"1ra_mitad_tweets_sin_clasificar.csv\"\n",
    "nombre_mitad_2 = \"2da_mitad_tweets_sin_clasificar.csv\"\n",
    "\n",
    "ruta_drive_mitad_1 = \"/content/drive/My Drive/TP Integrador/Notebooks/Data/\"+nombre_mitad_1\n",
    "ruta_drive_mitad_2 = \"/content/drive/My Drive/TP Integrador/Notebooks/Data/\"+nombre_mitad_2\n",
    "ruta_local_mitad_1 = \"Data/\"+nombre_mitad_1\n",
    "ruta_local_mitad_2 = \"Data/\"+nombre_mitad_2"
   ]
  },
  {
   "cell_type": "code",
   "execution_count": 56,
   "metadata": {},
   "outputs": [],
   "source": [
    "try:\n",
    "    primera_mitad.to_csv(ruta_drive_mitad_1, sep=';', index=False)\n",
    "    segunda_mitad.to_csv(ruta_drive_mitad_2, sep=';', index=False)\n",
    "except:\n",
    "    primera_mitad.to_csv(ruta_local_mitad_1, sep=';', index=False)\n",
    "    segunda_mitad.to_csv(ruta_local_mitad_2, sep=';', index=False)"
   ]
  },
  {
   "cell_type": "markdown",
   "metadata": {
    "colab_type": "text",
    "id": "edhQcyw4i0Vm"
   },
   "source": [
    "Ahora sí... ¡a trabajar en el modelo!"
   ]
  }
 ],
 "metadata": {
  "colab": {
   "collapsed_sections": [],
   "name": "1. Cuarentena Tweets - Dataset y EDA.ipynb",
   "provenance": []
  },
  "kernelspec": {
   "display_name": "Python 3",
   "language": "python",
   "name": "python3"
  },
  "language_info": {
   "codemirror_mode": {
    "name": "ipython",
    "version": 3
   },
   "file_extension": ".py",
   "mimetype": "text/x-python",
   "name": "python",
   "nbconvert_exporter": "python",
   "pygments_lexer": "ipython3",
   "version": "3.8.5"
  }
 },
 "nbformat": 4,
 "nbformat_minor": 4
}
